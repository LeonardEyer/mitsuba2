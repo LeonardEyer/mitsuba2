{
 "cells": [
  {
   "cell_type": "code",
   "execution_count": 2,
   "metadata": {},
   "outputs": [],
   "source": [
    "import numpy as np\n",
    "import matplotlib.pyplot as plt"
   ]
  },
  {
   "cell_type": "code",
   "execution_count": 102,
   "metadata": {},
   "outputs": [],
   "source": [
    "def airAbsorption(f, T, h_r, p):\n",
    "    \n",
    "    p_a = p\n",
    "    p_r = 101325\n",
    "    \n",
    "    T_0 = 293.15\n",
    "    T_01 = 273.16\n",
    "    \n",
    "    # Convert to kelvin\n",
    "    T += 273.15\n",
    "    \n",
    "    # relative humidity (h_r) to concentration of water vapour in percent (h)\n",
    "    C     = -6.8346 * (T_01/T)**1.261 + 4.6151;  # Eq. (B3)\n",
    "    p_sat = 10**C * p_r;                         # Eq. (B2)\n",
    "    h     = h_r *  p_sat / p_a;                 # Eq. (B1)\n",
    "    \n",
    "    \n",
    "    # ---- calculate the air attenuation ----\n",
    "    # Eq. (3)\n",
    "    f_rO = p_a/p_r * (24 + 4.04 * 10**4 * h * (.02 + h)/(.391 + h) );\n",
    "\n",
    "    # Eq. (4)\n",
    "    f_rN = p_a/p_r * (T/T_0)**(-1/2) * \\\n",
    "            ( \\\n",
    "                9 + 280*h * np.exp(-4.17 * ( (T/T_0)**(-1/3) - 1 ) ) \\\n",
    "            )\n",
    "\n",
    "    # Eq. (5) in neper/m\n",
    "    alpha = f**2 * \\\n",
    "        ( \\\n",
    "            (1.84 * 10**(-11) * (p_r/p_a) * (T/T_0)**(1/2)) + \\\n",
    "            (T/T_0)**(-5/2)                         * \\\n",
    "                ( \\\n",
    "                    .01275 * np.exp(-2239.1/T)    * \\\n",
    "                    ( f_rO + (f**2/f_rO) )**(-1)  + \\\n",
    "                    .1068 * np.exp(-3352/T)       * \\\n",
    "                    ( f_rN + (f**2/f_rN) )**(-1)    \\\n",
    "                ) \\\n",
    "        )\n",
    "\n",
    "    # convert to dB/m (factor 8.686)\n",
    "    alpha = alpha * 20*np.log10( np.exp(1) );\n",
    "\n",
    "    # convert to linear energetic value (thus the ten times logarithm)\n",
    "    m = alpha / ( 10*np.log10( np.exp(1) ) );\n",
    "    \n",
    "    return alpha;"
   ]
  },
  {
   "cell_type": "code",
   "execution_count": 103,
   "metadata": {},
   "outputs": [
    {
     "data": {
      "text/plain": [
       "0.004664672605016998"
      ]
     },
     "execution_count": 103,
     "metadata": {},
     "output_type": "execute_result"
    }
   ],
   "source": [
    "airAbsorption(1000, 20, 50, 101325)"
   ]
  },
  {
   "cell_type": "code",
   "execution_count": null,
   "metadata": {},
   "outputs": [],
   "source": []
  }
 ],
 "metadata": {
  "kernelspec": {
   "display_name": "Python 3",
   "language": "python",
   "name": "python3"
  },
  "language_info": {
   "codemirror_mode": {
    "name": "ipython",
    "version": 3
   },
   "file_extension": ".py",
   "mimetype": "text/x-python",
   "name": "python",
   "nbconvert_exporter": "python",
   "pygments_lexer": "ipython3",
   "version": "3.9.2"
  }
 },
 "nbformat": 4,
 "nbformat_minor": 4
}
