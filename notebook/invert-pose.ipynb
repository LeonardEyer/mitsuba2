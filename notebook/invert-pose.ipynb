{
 "cells": [
  {
   "cell_type": "code",
   "execution_count": 1,
   "metadata": {},
   "outputs": [
    {
     "data": {
      "text/html": [
       "<span style=\"font-family: monospace; color: #000\">2021-06-09 12:25:27 INFO  main  [optix_api.cpp:56] Dynamic loading of the Optix library ..</span>"
      ]
     },
     "metadata": {},
     "output_type": "display_data"
    }
   ],
   "source": [
    "import os\n",
    "import time\n",
    "import enoki as ek\n",
    "\n",
    "import mitsuba\n",
    "mitsuba.set_variant('gpu_autodiff_rgb')\n",
    "\n",
    "from mitsuba.core import xml, Thread, Transform4f, Bitmap, Float, Vector3f, UInt32\n",
    "from mitsuba.python.util import traverse\n",
    "from mitsuba.python.autodiff import render, write_bitmap, Adam, SGD"
   ]
  },
  {
   "cell_type": "code",
   "execution_count": 2,
   "metadata": {},
   "outputs": [],
   "source": [
    "# Convert flat array into a vector of arrays (will be included in next enoki release)\n",
    "def ravel(buf, dim = 3):\n",
    "    idx = dim * UInt32.arange(ek.slices(buf) // dim)\n",
    "    return Vector3f(ek.gather(buf, idx), ek.gather(buf, idx + 1), ek.gather(buf, idx + 2))\n",
    "\n",
    "# Return contiguous flattened array (will be included in next enoki release)\n",
    "def unravel(source, target, dim = 3):\n",
    "    idx = UInt32.arange(ek.slices(source))\n",
    "    for i in range(dim):\n",
    "        ek.scatter(target, source[i], dim * idx + i)"
   ]
  },
  {
   "cell_type": "code",
   "execution_count": 3,
   "metadata": {},
   "outputs": [
    {
     "data": {
      "text/html": [
       "<span style=\"font-family: monospace; color: #000\">2021-06-09 12:25:27 INFO  main  [xml.cpp:1182] Loading XML file &quot;../resources/data/docs/examples/invert_pose/scene.xml&quot; ..</span>"
      ]
     },
     "metadata": {},
     "output_type": "display_data"
    },
    {
     "data": {
      "text/html": [
       "<span style=\"font-family: monospace; color: #000\">2021-06-09 12:25:27 INFO  main  [xml.cpp:1183] Using variant &quot;gpu_autodiff_rgb&quot;</span>"
      ]
     },
     "metadata": {},
     "output_type": "display_data"
    },
    {
     "data": {
      "text/html": [
       "<span style=\"font-family: monospace; color: #000\">2021-06-09 12:25:27 INFO  main  [PluginManager] Loading plugin &quot;plugins/uniform.so&quot; ..</span>"
      ]
     },
     "metadata": {},
     "output_type": "display_data"
    },
    {
     "data": {
      "text/html": [
       "<span style=\"font-family: monospace; color: #000\">2021-06-09 12:25:27 INFO  main  [PluginManager] Loading plugin &quot;plugins/srgb.so&quot; ..</span>"
      ]
     },
     "metadata": {},
     "output_type": "display_data"
    },
    {
     "data": {
      "text/html": [
       "<span style=\"font-family: monospace; color: #000\">2021-06-09 12:25:27 INFO  main  [PluginManager] Loading plugin &quot;plugins/pathreparam.so&quot; ..</span>"
      ]
     },
     "metadata": {},
     "output_type": "display_data"
    },
    {
     "data": {
      "text/html": [
       "<span style=\"font-family: monospace; color: #bbb\">2021-06-09 12:25:27 DEBUG main  [path-reparam-utils.h:37] Loading data from &quot;vmf-hemisphere.data&quot; ..</span>"
      ]
     },
     "metadata": {},
     "output_type": "display_data"
    },
    {
     "data": {
      "text/html": [
       "<span style=\"font-family: monospace; color: #bbb\">2021-06-09 12:25:27 DEBUG main  [path-reparam-utils.h:101] Loaded VMFHemisphereIntegral data, 100x100.</span>"
      ]
     },
     "metadata": {},
     "output_type": "display_data"
    },
    {
     "data": {
      "text/html": [
       "<span style=\"font-family: monospace; color: #bbb\">2021-06-09 12:25:27 DEBUG main  [PathReparamIntegrator] Changes of variables in light integrals using 4 samples</span>"
      ]
     },
     "metadata": {},
     "output_type": "display_data"
    },
    {
     "data": {
      "text/html": [
       "<span style=\"font-family: monospace; color: #bbb\">2021-06-09 12:25:27 DEBUG main  [PathReparamIntegrator] Changes of variables in BSDFs integrals using 4 samples</span>"
      ]
     },
     "metadata": {},
     "output_type": "display_data"
    },
    {
     "data": {
      "text/html": [
       "<span style=\"font-family: monospace; color: #bbb\">2021-06-09 12:25:27 DEBUG main  [PathReparamIntegrator] Changes of variables in pixel integrals using 4 samples</span>"
      ]
     },
     "metadata": {},
     "output_type": "display_data"
    },
    {
     "data": {
      "text/html": [
       "<span style=\"font-family: monospace; color: #bbb\">2021-06-09 12:25:27 DEBUG main  [PathReparamIntegrator] Changes of variables using convolution if roughness &gt; 0.150000</span>"
      ]
     },
     "metadata": {},
     "output_type": "display_data"
    },
    {
     "data": {
      "text/html": [
       "<span style=\"font-family: monospace; color: #bbb\">2021-06-09 12:25:27 DEBUG main  [PathReparamIntegrator] Convolutions using kernel with kappa = 1000.000000</span>"
      ]
     },
     "metadata": {},
     "output_type": "display_data"
    },
    {
     "data": {
      "text/html": [
       "<span style=\"font-family: monospace; color: #bbb\">2021-06-09 12:25:27 DEBUG main  [PathReparamIntegrator] Variance reduction enabled</span>"
      ]
     },
     "metadata": {},
     "output_type": "display_data"
    },
    {
     "data": {
      "text/html": [
       "<span style=\"font-family: monospace; color: #bbb\">2021-06-09 12:25:27 DEBUG main  [PathReparamIntegrator] Convolutions enabled</span>"
      ]
     },
     "metadata": {},
     "output_type": "display_data"
    },
    {
     "data": {
      "text/html": [
       "<span style=\"font-family: monospace; color: #bbb\">2021-06-09 12:25:27 DEBUG main  [PathReparamIntegrator] Convolutions for envmap enabled</span>"
      ]
     },
     "metadata": {},
     "output_type": "display_data"
    },
    {
     "data": {
      "text/html": [
       "<span style=\"font-family: monospace; color: #bbb\">2021-06-09 12:25:27 DEBUG main  [PathReparamIntegrator] Gradient of diffuse reflections enabled</span>"
      ]
     },
     "metadata": {},
     "output_type": "display_data"
    },
    {
     "data": {
      "text/html": [
       "<span style=\"font-family: monospace; color: #bbb\">2021-06-09 12:25:27 DEBUG main  [PathReparamIntegrator] Disable gradients after bounce 1000</span>"
      ]
     },
     "metadata": {},
     "output_type": "display_data"
    },
    {
     "data": {
      "text/html": [
       "<span style=\"font-family: monospace; color: #bbb\">2021-06-09 12:25:27 DEBUG main  [PathReparamIntegrator] Reusing camera samples is enabled</span>"
      ]
     },
     "metadata": {},
     "output_type": "display_data"
    },
    {
     "data": {
      "text/html": [
       "<span style=\"font-family: monospace; color: #000\">2021-06-09 12:25:27 INFO  main  [PluginManager] Loading plugin &quot;plugins/hdrfilm.so&quot; ..</span>"
      ]
     },
     "metadata": {},
     "output_type": "display_data"
    },
    {
     "data": {
      "text/html": [
       "<span style=\"font-family: monospace; color: #000\">2021-06-09 12:25:27 INFO  main  [PluginManager] Loading plugin &quot;plugins/gaussian.so&quot; ..</span>"
      ]
     },
     "metadata": {},
     "output_type": "display_data"
    },
    {
     "data": {
      "text/html": [
       "<span style=\"font-family: monospace; color: #000\">2021-06-09 12:25:27 INFO  main  [PluginManager] Loading plugin &quot;plugins/independent.so&quot; ..</span>"
      ]
     },
     "metadata": {},
     "output_type": "display_data"
    },
    {
     "data": {
      "text/html": [
       "<span style=\"font-family: monospace; color: #000\">2021-06-09 12:25:27 INFO  main  [PluginManager] Loading plugin &quot;plugins/perspective.so&quot; ..</span>"
      ]
     },
     "metadata": {},
     "output_type": "display_data"
    },
    {
     "data": {
      "text/html": [
       "<span style=\"font-family: monospace; color: #000\">2021-06-09 12:25:27 INFO  main  [PluginManager] Loading plugin &quot;plugins/smootharea.so&quot; ..</span>"
      ]
     },
     "metadata": {},
     "output_type": "display_data"
    },
    {
     "data": {
      "text/html": [
       "<span style=\"font-family: monospace; color: #000\">2021-06-09 12:25:27 INFO  main  [PluginManager] Loading plugin &quot;plugins/rectangle.so&quot; ..</span>"
      ]
     },
     "metadata": {},
     "output_type": "display_data"
    },
    {
     "data": {
      "text/html": [
       "<span style=\"font-family: monospace; color: #000\">2021-06-09 12:25:27 INFO  main  [PluginManager] Loading plugin &quot;plugins/diffuse.so&quot; ..</span>"
      ]
     },
     "metadata": {},
     "output_type": "display_data"
    },
    {
     "data": {
      "text/html": [
       "<span style=\"font-family: monospace; color: #000\">2021-06-09 12:25:27 INFO  main  [PluginManager] Loading plugin &quot;plugins/obj.so&quot; ..</span>"
      ]
     },
     "metadata": {},
     "output_type": "display_data"
    },
    {
     "data": {
      "text/html": [
       "<span style=\"font-family: monospace; color: #bbb\">2021-06-09 12:25:27 DEBUG main  [OBJMesh] Loading mesh from &quot;smooth_empty_cube.obj&quot; ..</span>"
      ]
     },
     "metadata": {},
     "output_type": "display_data"
    },
    {
     "data": {
      "text/html": [
       "<span style=\"font-family: monospace; color: #bbb\">2021-06-09 12:25:27 DEBUG main  [OBJMesh] &quot;smooth_empty_cube.obj&quot;: read 61440 faces, 88200 vertices (3.39 MiB in 155ms)</span>"
      ]
     },
     "metadata": {},
     "output_type": "display_data"
    },
    {
     "data": {
      "text/html": [
       "<span style=\"font-family: monospace; color: #000\">2021-06-09 12:25:27 INFO  main  [PluginManager] Loading plugin &quot;plugins/checkerboard.so&quot; ..</span>"
      ]
     },
     "metadata": {},
     "output_type": "display_data"
    },
    {
     "data": {
      "text/html": [
       "<span style=\"font-family: monospace; color: #bbb\">2021-06-09 12:25:27 DEBUG main  [OBJMesh] Loading mesh from &quot;smooth_ramp.obj&quot; ..</span>"
      ]
     },
     "metadata": {},
     "output_type": "display_data"
    },
    {
     "data": {
      "text/html": [
       "<span style=\"font-family: monospace; color: #bbb\">2021-06-09 12:25:27 DEBUG main  [OBJMesh] &quot;smooth_ramp.obj&quot;: read 1800 faces, 961 vertices (51.1 KiB in 3ms)</span>"
      ]
     },
     "metadata": {},
     "output_type": "display_data"
    },
    {
     "data": {
      "text/html": [
       "<span style=\"font-family: monospace; color: #000\">2021-06-09 12:25:27 INFO  main  [Scene] Building scene in OptiX ..</span>"
      ]
     },
     "metadata": {},
     "output_type": "display_data"
    },
    {
     "name": "stdout",
     "output_type": "stream",
     "text": [
      "ParameterMap[\n",
      "    PerspectiveCamera.near_clip,\n",
      "    PerspectiveCamera.far_clip,\n",
      "    PerspectiveCamera.focus_distance,\n",
      "    PerspectiveCamera.shutter_open,\n",
      "    PerspectiveCamera.shutter_open_time,\n",
      "    Rectangle.to_world,\n",
      "  * Rectangle.bsdf.reflectance.value,\n",
      "  * Rectangle.emitter.radiance.value,\n",
      "    object.to_world,\n",
      "  * object.bsdf.reflectance.value,\n",
      "    object.vertex_count,\n",
      "    object.face_count,\n",
      "  * object.faces_buf,\n",
      "  * object.vertex_positions_buf,\n",
      "  * object.vertex_normals_buf,\n",
      "  * object.vertex_texcoords_buf,\n",
      "    planemesh.to_world,\n",
      "    planemesh.bsdf.reflectance.transform,\n",
      "  * planemesh.bsdf.reflectance.color0.value,\n",
      "  * planemesh.bsdf.reflectance.color1.value,\n",
      "    planemesh.vertex_count,\n",
      "    planemesh.face_count,\n",
      "  * planemesh.faces_buf,\n",
      "  * planemesh.vertex_positions_buf,\n",
      "  * planemesh.vertex_normals_buf,\n",
      "  * planemesh.vertex_texcoords_buf,\n",
      "]\n",
      "Write output/invert_pose/out_ref.png\n"
     ]
    }
   ],
   "source": [
    "# Prepare output folder\n",
    "output_path = \"output/invert_pose/\"\n",
    "if not os.path.isdir(output_path):\n",
    "    os.makedirs(output_path)\n",
    "\n",
    "# Load example scene\n",
    "scene_folder = '../resources/data/docs/examples/invert_pose/'\n",
    "Thread.thread().file_resolver().append(scene_folder)\n",
    "scene = xml.load_file(scene_folder + 'scene.xml')\n",
    "\n",
    "params = traverse(scene)\n",
    "print(params)\n",
    "positions_buf = params['object.vertex_positions_buf']\n",
    "positions_initial = ravel(positions_buf)\n",
    "\n",
    "# Create differential parameter to be optimized\n",
    "scale_ref = Vector3f(1.0, 1.0, 2.0)\n",
    "\n",
    "# Create a new ParameterMap (or dict)\n",
    "params_optim = {\n",
    "    \"scale\" : scale_ref,\n",
    "}\n",
    "\n",
    "# Construct an Adam optimizer that will adjust the translation parameters\n",
    "opt = Adam(params_optim, lr=0.02)\n",
    "\n",
    "# Apply the transformation to mesh vertex position and update scene (e.g. Optix BVH)\n",
    "def apply_transformation():\n",
    "    trasfo = Transform4f.scale(params_optim[\"scale\"])\n",
    "    new_positions = trasfo.transform_point(positions_initial)\n",
    "    unravel(new_positions, params['object.vertex_positions_buf'])\n",
    "    params.set_dirty('object.vertex_positions_buf')\n",
    "    params.update()\n",
    "\n",
    "# Render a reference image (no derivatives used yet)\n",
    "apply_transformation()\n",
    "image_ref = render(scene, spp=16)\n",
    "crop_size = scene.sensors()[0].film().crop_size()\n",
    "\n",
    "write_bitmap(output_path + 'out_ref.png', image_ref, crop_size)\n",
    "print(\"Write \" + output_path + \"out_ref.png\")"
   ]
  },
  {
   "cell_type": "code",
   "execution_count": 4,
   "metadata": {},
   "outputs": [
    {
     "name": "stdout",
     "output_type": "stream",
     "text": [
      "Scene[\n",
      "  children = [\n",
      "    PathReparamIntegrator[\n",
      "      max_depth = 3,\n",
      "      rr_depth = 5\n",
      "    ],\n",
      "    PerspectiveCamera[\n",
      "      x_fov = 35,\n",
      "      near_clip = 0.01,\n",
      "      far_clip = 10000,\n",
      "      focus_distance = 10000,\n",
      "      film = HDRFilm[\n",
      "        size = [128, 128],\n",
      "        crop_size = [128, 128],\n",
      "        crop_offset = [0, 0],\n",
      "        high_quality_edges = 0,\n",
      "        filter = GaussianFilter[stddev=0.50, radius=2.00],\n",
      "        file_format = OpenEXR,\n",
      "        pixel_format = rgba,\n",
      "        component_format = float16,\n",
      "        dest_file = \"\"\n",
      "      ],\n",
      "      sampler = IndependentSampler[\n",
      "        sample_count = 8\n",
      "      ],\n",
      "      resolution = [128, 128],\n",
      "      shutter_open = 0,\n",
      "      shutter_open_time = 0,\n",
      "      aspect = 1,\n",
      "      world_transform = AnimatedTransform[\n",
      "        m_transform = [[0, -0.371391, -0.928477, 5],\n",
      "                       [0, 0.928477, -0.371391, 2],\n",
      "                       [1, 0, 0, 0],\n",
      "                       [0, 0, 0, 1]],\n",
      "        m_keyframes = []\n",
      "      ]\n",
      "    ],\n",
      "    Rectangle[\n",
      "      to_world = [[1, 0, 0, 10],\n",
      "       [0, -1, 8.74228e-08, 10],\n",
      "       [0, -8.74228e-08, -1, 10],\n",
      "       [0, 0, 0, 1]],\n",
      "      frame = Frame[\n",
      "        s = [2, 0, 0],\n",
      "        t = [0, -2, -1.74846e-07],\n",
      "        n = [0, 8.74228e-08, -1]\n",
      "      ],\n",
      "      surface_area = 4,\n",
      "      bsdf = SmoothDiffuse[\n",
      "        reflectance = UniformSpectrum[value=[0.500000]]\n",
      "      ],\n",
      "      emitter = SmoothAreaLight[\n",
      "        radiance = UniformSpectrum[value=[1500.000000]],\n",
      "        surface_area = 4,\n",
      "        <no medium attached!>\n",
      "      ]\n",
      "    ],\n",
      "    OBJMesh[\n",
      "      name = \"smooth_empty_cube.obj\",\n",
      "      bbox = BoundingBox3f[\n",
      "        min = [-0.484048, -0.558647, -1.11729],\n",
      "        max = [0.484049, 0.558647, 1.11729]\n",
      "      ],\n",
      "      vertex_count = 88200,\n",
      "      vertices = [2.69 MiB of vertex data],\n",
      "      face_count = 61440,\n",
      "      faces = [720 KiB of face data],\n",
      "      disable_vertex_normals = 0,\n",
      "      surface_area = 5.35559\n",
      "    ],\n",
      "    OBJMesh[\n",
      "      name = \"smooth_ramp.obj\",\n",
      "      bbox = BoundingBox3f[\n",
      "        min = [-4.00741, -1, -3.48318],\n",
      "        max = [4.00741, 3.15019, 3.48318]\n",
      "      ],\n",
      "      vertex_count = 961,\n",
      "      vertices = [30 KiB of vertex data],\n",
      "      face_count = 1800,\n",
      "      faces = [21.1 KiB of face data],\n",
      "      disable_vertex_normals = 0,\n",
      "      surface_area = 0\n",
      "    ]\n",
      "  ]\n",
      "]\n"
     ]
    }
   ],
   "source": [
    "print(scene)"
   ]
  },
  {
   "cell_type": "code",
   "execution_count": 4,
   "metadata": {},
   "outputs": [
    {
     "name": "stdout",
     "output_type": "stream",
     "text": [
      "Iteration 437: error=0.00192614\r"
     ]
    },
    {
     "ename": "KeyboardInterrupt",
     "evalue": "",
     "output_type": "error",
     "traceback": [
      "\u001b[0;31m---------------------------------------------------------------------------\u001b[0m",
      "\u001b[0;31mKeyboardInterrupt\u001b[0m                         Traceback (most recent call last)",
      "\u001b[0;32m<ipython-input-4-b23065cc2649>\u001b[0m in \u001b[0;36m<module>\u001b[0;34m\u001b[0m\n\u001b[1;32m      7\u001b[0m \u001b[0;32mfor\u001b[0m \u001b[0mit\u001b[0m \u001b[0;32min\u001b[0m \u001b[0mrange\u001b[0m\u001b[0;34m(\u001b[0m\u001b[0miterations\u001b[0m\u001b[0;34m)\u001b[0m\u001b[0;34m:\u001b[0m\u001b[0;34m\u001b[0m\u001b[0;34m\u001b[0m\u001b[0m\n\u001b[1;32m      8\u001b[0m     \u001b[0;31m# Perform a differentiable rendering of the scene\u001b[0m\u001b[0;34m\u001b[0m\u001b[0;34m\u001b[0m\u001b[0;34m\u001b[0m\u001b[0m\n\u001b[0;32m----> 9\u001b[0;31m     image = render(scene,\n\u001b[0m\u001b[1;32m     10\u001b[0m                    \u001b[0moptimizer\u001b[0m\u001b[0;34m=\u001b[0m\u001b[0mopt\u001b[0m\u001b[0;34m,\u001b[0m\u001b[0;34m\u001b[0m\u001b[0;34m\u001b[0m\u001b[0m\n\u001b[1;32m     11\u001b[0m                    \u001b[0mspp\u001b[0m\u001b[0;34m=\u001b[0m\u001b[0;36m4\u001b[0m\u001b[0;34m,\u001b[0m\u001b[0;34m\u001b[0m\u001b[0;34m\u001b[0m\u001b[0m\n",
      "\u001b[0;32m~/mitsuba2-acoustic/build/dist/python/mitsuba/python/autodiff.py\u001b[0m in \u001b[0;36mrender\u001b[0;34m(scene, spp, unbiased, optimizer, sensor_index, pre_render_callback)\u001b[0m\n\u001b[1;32m    189\u001b[0m         \u001b[0;32mwith\u001b[0m \u001b[0moptimizer\u001b[0m\u001b[0;34m.\u001b[0m\u001b[0mdisable_gradients\u001b[0m\u001b[0;34m(\u001b[0m\u001b[0;34m)\u001b[0m\u001b[0;34m:\u001b[0m\u001b[0;34m\u001b[0m\u001b[0;34m\u001b[0m\u001b[0m\n\u001b[1;32m    190\u001b[0m             \u001b[0mpre_render_callback\u001b[0m\u001b[0;34m(\u001b[0m\u001b[0;34m)\u001b[0m\u001b[0;34m\u001b[0m\u001b[0;34m\u001b[0m\u001b[0m\n\u001b[0;32m--> 191\u001b[0;31m             image = _render_helper(scene, spp=spp[0],\n\u001b[0m\u001b[1;32m    192\u001b[0m                                    sensor_index=sensor_index)\n\u001b[1;32m    193\u001b[0m \u001b[0;34m\u001b[0m\u001b[0m\n",
      "\u001b[0;32m~/mitsuba2-acoustic/build/dist/python/mitsuba/python/autodiff.py\u001b[0m in \u001b[0;36m_render_helper\u001b[0;34m(scene, spp, sensor_index)\u001b[0m\n\u001b[1;32m     41\u001b[0m     )\n\u001b[1;32m     42\u001b[0m \u001b[0;34m\u001b[0m\u001b[0m\n\u001b[0;32m---> 43\u001b[0;31m     \u001b[0mspec\u001b[0m\u001b[0;34m,\u001b[0m \u001b[0mmask\u001b[0m\u001b[0;34m,\u001b[0m \u001b[0maovs\u001b[0m \u001b[0;34m=\u001b[0m \u001b[0mscene\u001b[0m\u001b[0;34m.\u001b[0m\u001b[0mintegrator\u001b[0m\u001b[0;34m(\u001b[0m\u001b[0;34m)\u001b[0m\u001b[0;34m.\u001b[0m\u001b[0msample\u001b[0m\u001b[0;34m(\u001b[0m\u001b[0mscene\u001b[0m\u001b[0;34m,\u001b[0m \u001b[0msampler\u001b[0m\u001b[0;34m,\u001b[0m \u001b[0mrays\u001b[0m\u001b[0;34m)\u001b[0m\u001b[0;34m\u001b[0m\u001b[0;34m\u001b[0m\u001b[0m\n\u001b[0m\u001b[1;32m     44\u001b[0m     \u001b[0mspec\u001b[0m \u001b[0;34m*=\u001b[0m \u001b[0mweights\u001b[0m\u001b[0;34m\u001b[0m\u001b[0;34m\u001b[0m\u001b[0m\n\u001b[1;32m     45\u001b[0m     \u001b[0;32mdel\u001b[0m \u001b[0mmask\u001b[0m\u001b[0;34m\u001b[0m\u001b[0;34m\u001b[0m\u001b[0m\n",
      "\u001b[0;31mKeyboardInterrupt\u001b[0m: "
     ]
    }
   ],
   "source": [
    "# Move object before starting the optimization process\n",
    "params_optim[\"scale\"] = Vector3f(2.0, 2.0, 1.0)\n",
    "\n",
    "time_a = time.time()\n",
    "\n",
    "iterations = 1000\n",
    "for it in range(iterations):\n",
    "    # Perform a differentiable rendering of the scene\n",
    "    image = render(scene,\n",
    "                   optimizer=opt,\n",
    "                   spp=4,\n",
    "                   unbiased=True,\n",
    "                   pre_render_callback=apply_transformation)\n",
    "\n",
    "    write_bitmap(output_path + 'out_%03i.png' % it, image, crop_size)\n",
    "\n",
    "    # Objective: MSE between 'image' and 'image_ref'\n",
    "    ob_val = ek.hsum(ek.sqr(image - image_ref)) / len(image)\n",
    "\n",
    "    # Back-propagate errors to input parameters\n",
    "    ek.backward(ob_val)\n",
    "\n",
    "    # Optimizer: take a gradient step -> update displacement map\n",
    "    opt.step()\n",
    "\n",
    "    print('Iteration %03i: error=%g' % (it, ob_val[0]), end='\\r')\n",
    "\n",
    "time_b = time.time()\n",
    "\n",
    "print()\n",
    "print('%f ms per iteration' % (((time_b - time_a) * 1000) / iterations))"
   ]
  }
 ],
 "metadata": {
  "kernelspec": {
   "display_name": "Python 3",
   "language": "python",
   "name": "python3"
  },
  "language_info": {
   "codemirror_mode": {
    "name": "ipython",
    "version": 3
   },
   "file_extension": ".py",
   "mimetype": "text/x-python",
   "name": "python",
   "nbconvert_exporter": "python",
   "pygments_lexer": "ipython3",
   "version": "3.8.2"
  }
 },
 "nbformat": 4,
 "nbformat_minor": 4
}
