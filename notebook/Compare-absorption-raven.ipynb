{
 "cells": [
  {
   "cell_type": "code",
   "execution_count": 1,
   "metadata": {},
   "outputs": [],
   "source": [
    "import numpy as np\n",
    "import matplotlib.pyplot as plt\n",
    "from prettytable import PrettyTable\n",
    "import pandas as pd"
   ]
  },
  {
   "cell_type": "code",
   "execution_count": 2,
   "metadata": {},
   "outputs": [],
   "source": [
    "mitsuba = pd.read_pickle(\"data/mitsuba-box-25-12-7.pkl\")\n",
    "raven = pd.read_pickle(\"data/raven-box-25-12-7.pkl\")\n",
    "\n",
    "absorpt = [0.1, 0.5, 0.9]\n",
    "s = 1.0"
   ]
  },
  {
   "cell_type": "code",
   "execution_count": 3,
   "metadata": {},
   "outputs": [],
   "source": [
    "def db(x):\n",
    "    energy = x * 0.\n",
    "    # Compute the whole integral\n",
    "    total = np.trapz(x, axis=0)\n",
    "    for i in range(x.shape[0]):\n",
    "        energy.iloc[i] = (np.trapz(x[i:], axis=0) / total)\n",
    "\n",
    "    # in dB\n",
    "    energy_db = 10 * np.log10(energy)\n",
    "    \n",
    "    return energy_db\n",
    "\n",
    "def plot_comparison(absorpt, s):\n",
    "    from utils import db_pd\n",
    "    t1 = np.linspace(0, 4, mitsuba.shape[0])\n",
    "    t2 = np.linspace(0, 4.1, raven.shape[0])\n",
    "\n",
    "    plt.figure(figsize=(10, 5))\n",
    "    for a in absorpt:\n",
    "        plt.plot(t1, db_pd(mitsuba[f'a{a:.1f}-s{s:.1f}']), label=f'mitsba-{a}')\n",
    "        plt.plot(t2, db_pd(raven[f'a{a:.1f}-s{s:.1f}']), label=f'raven-{a}')\n",
    "\n",
    "    #plt.ylim(-100, 10)\n",
    "    plt.ylabel(\"Energy [dB]\")\n",
    "    plt.legend()\n",
    "    plt.xlabel(\"Time [s]\")\n",
    "    plt.savefig(\"compare-absorption.png\")\n",
    "    plt.title(f\"Scattering: {s:.1f}\")\n",
    "    \n",
    "from acoustics import EDC, T, EDT, C, D50\n",
    "def compute_acoustic_parameters(rir, fs):\n",
    "    edc = EDC(rir, energy=True)\n",
    "    t20 = T(20, edc) / fs\n",
    "    t30 = T(30, edc) / fs\n",
    "    edt = EDT(edc) / fs\n",
    "    c50 = C(50, rir, fs, energy=True)\n",
    "    c80 = C(80, rir, fs, energy=True)\n",
    "    d50 = D50(rir, fs, energy=True)\n",
    "    \n",
    "    result = {\n",
    "        #\"EDC\": edc,\n",
    "        \"T20\": t20, \n",
    "        \"T30\": t30,\n",
    "        \"EDT\": edt, \n",
    "        \"C50\": c50, \n",
    "        \"C80\": c80, \n",
    "        \"D50\": d50}\n",
    "    return result\n",
    "  \n",
    "def compare_acoustic_params(a, s):\n",
    "    mit = compute_acoustic_parameters(mitsuba[f'a{a:.1f}-s{s:.1f}'], 100)\n",
    "    rav = compute_acoustic_parameters(raven[f'a{a:.1f}-s{s:.1f}'], 100)\n",
    "    df = pd.concat([\n",
    "        pd.DataFrame.from_dict(mit, 'index', columns=['mitsuba']),\n",
    "        pd.DataFrame.from_dict(rav, 'index', columns=['raven'])\n",
    "    ], axis=1).T\n",
    "    df.loc[\"%dev\"] = ((df.loc['mitsuba'] - df.loc['raven']) / df.loc['mitsuba']) * 100\n",
    "    \n",
    "    return df"
   ]
  },
  {
   "cell_type": "code",
   "execution_count": 56,
   "metadata": {},
   "outputs": [
    {
     "name": "stderr",
     "output_type": "stream",
     "text": [
      "/home/leonard/anaconda3/lib/python3.8/site-packages/pandas/core/arraylike.py:358: RuntimeWarning: divide by zero encountered in log10\n",
      "  result = getattr(ufunc, method)(*inputs, **kwargs)\n",
      "/home/leonard/anaconda3/lib/python3.8/site-packages/pandas/core/arraylike.py:358: RuntimeWarning: divide by zero encountered in log10\n",
      "  result = getattr(ufunc, method)(*inputs, **kwargs)\n",
      "/home/leonard/anaconda3/lib/python3.8/site-packages/pandas/core/arraylike.py:358: RuntimeWarning: divide by zero encountered in log10\n",
      "  result = getattr(ufunc, method)(*inputs, **kwargs)\n"
     ]
    },
    {
     "data": {
      "text/html": [
       "<div>\n",
       "<style scoped>\n",
       "    .dataframe tbody tr th:only-of-type {\n",
       "        vertical-align: middle;\n",
       "    }\n",
       "\n",
       "    .dataframe tbody tr th {\n",
       "        vertical-align: top;\n",
       "    }\n",
       "\n",
       "    .dataframe thead th {\n",
       "        text-align: right;\n",
       "    }\n",
       "</style>\n",
       "<table border=\"1\" class=\"dataframe\">\n",
       "  <thead>\n",
       "    <tr style=\"text-align: right;\">\n",
       "      <th></th>\n",
       "      <th>T20</th>\n",
       "      <th>T30</th>\n",
       "      <th>EDT</th>\n",
       "      <th>C50</th>\n",
       "      <th>C80</th>\n",
       "      <th>D50</th>\n",
       "    </tr>\n",
       "  </thead>\n",
       "  <tbody>\n",
       "    <tr>\n",
       "      <th>mitsuba</th>\n",
       "      <td>2.933131</td>\n",
       "      <td>2.933223</td>\n",
       "      <td>2.927822</td>\n",
       "      <td>-11.359754</td>\n",
       "      <td>-6.640497</td>\n",
       "      <td>0.068136</td>\n",
       "    </tr>\n",
       "    <tr>\n",
       "      <th>raven</th>\n",
       "      <td>2.941232</td>\n",
       "      <td>2.943904</td>\n",
       "      <td>3.064543</td>\n",
       "      <td>-15.086894</td>\n",
       "      <td>-10.006770</td>\n",
       "      <td>0.030064</td>\n",
       "    </tr>\n",
       "    <tr>\n",
       "      <th>%dev</th>\n",
       "      <td>-0.276188</td>\n",
       "      <td>-0.364119</td>\n",
       "      <td>-4.669744</td>\n",
       "      <td>-32.810044</td>\n",
       "      <td>-50.693078</td>\n",
       "      <td>55.875850</td>\n",
       "    </tr>\n",
       "  </tbody>\n",
       "</table>\n",
       "</div>"
      ],
      "text/plain": [
       "              T20       T30       EDT        C50        C80        D50\n",
       "mitsuba  2.933131  2.933223  2.927822 -11.359754  -6.640497   0.068136\n",
       "raven    2.941232  2.943904  3.064543 -15.086894 -10.006770   0.030064\n",
       "%dev    -0.276188 -0.364119 -4.669744 -32.810044 -50.693078  55.875850"
      ]
     },
     "execution_count": 56,
     "metadata": {},
     "output_type": "execute_result"
    },
    {
     "data": {
      "image/png": "[encoded data removed]",
      "text/plain": [
       "<Figure size 720x360 with 1 Axes>"
      ]
     },
     "metadata": {
      "needs_background": "light"
     },
     "output_type": "display_data"
    }
   ],
   "source": [
    "plot_comparison([0.1], 0.5)\n",
    "#plt.ylim(-100, 5)\n",
    "#plt.xlim(0, 1.0)\n",
    "compare_acoustic_params(0.1, 0.5)"
   ]
  },
  {
   "cell_type": "code",
   "execution_count": 46,
   "metadata": {},
   "outputs": [],
   "source": [
    "def EDT(edc, **kwargs):\n",
    "    \"\"\"\n",
    "    Die frühe Abklingzeit (en: early decay time (EDT)) muss (wie die herkömmliche Abklingzeit) aus der Neigung der\n",
    "    integrierten Impulsantwort-Kurven ermittelt werden. Die Neigung der Abklingkurve sollte aus linearen\n",
    "    Regressions-Geraden bester Anpassung aus den anfänglichen 10 dB (zwischen 0 dB und –10 dB) des\n",
    "    Abklingvorgangs ermittelt werden. Die Abklingzeiten sollten aus der Steigung innerhalb der Zeit, die für einen\n",
    "    60 dB–Abklingvorgang erforderlich ist, ermittelt werden\n",
    "    \"\"\"\n",
    "    return T(10, edc, start=0, **kwargs)\n",
    "\n",
    "def T(n, edc, start=-5, poly=False, plot=False, plot_fit_lines=False):\n",
    "    \"\"\"\n",
    "    Zeit, die erforderlich ist, damit die räumlich gemittelte Schallenergiedichte in\n",
    "    einem geschlossenen Raum um 60 dB sinkt, nachdem die Schallquelle abgeschaltet wurde.\n",
    "    \n",
    "    T kann basierend auf einem kürzeren Dynamikbereich als 60 dB ermittelt und auf eine Abklingzeit von\n",
    "    60 dB extrapoliert werden. Sie wird dann entsprechend gekennzeichnet. So wird sie, wenn T aus der Zeit ermittelt wird, zu\n",
    "    der die Abklingkurve erstmalig die Werte 5 dB und 25 dB unter dem Anfangspegel erreicht, mit T 20 , gekennzeichnet.\n",
    "    Werden Abklingwerte von 5 dB bis 35 dB unter dem Anfangspegel verwendet, werden sie mit T 30 gekennzeichnet.\n",
    "    \n",
    "    n: in T_n\n",
    "    x: Signal\n",
    "    \"\"\"\n",
    "    rt60_from = np.argmax(edc < start)\n",
    "    rt60_to = np.argmax(edc < -n+start)\n",
    "    xp = np.linspace(rt60_from, rt60_to, rt60_to - rt60_from + 1)\n",
    "    \n",
    "    # Abklingrate bestimmen\n",
    "    z = np.polyfit(xp, edc[rt60_from:rt60_to + 1], 1)\n",
    "    \n",
    "    if plot:\n",
    "        if plot_fit_lines:\n",
    "            plt.axvline(x = rt60_from)\n",
    "            plt.axvline(x = rt60_to)\n",
    "            plt.axhline(y = -n+start)\n",
    "            plt.axhline(y = start)\n",
    "        plt.plot(xp, np.poly1d(z)(xp))\n",
    "    \n",
    "    if poly:\n",
    "        return -60 / z[0], np.poly1d(z)\n",
    "    else:\n",
    "        return -60 / z[0]"
   ]
  },
  {
   "cell_type": "code",
   "execution_count": 55,
   "metadata": {},
   "outputs": [
    {
     "name": "stderr",
     "output_type": "stream",
     "text": [
      "/home/leonard/anaconda3/lib/python3.8/site-packages/pandas/core/arraylike.py:358: RuntimeWarning: divide by zero encountered in log10\n",
      "  result = getattr(ufunc, method)(*inputs, **kwargs)\n",
      "/home/leonard/anaconda3/lib/python3.8/site-packages/pandas/core/arraylike.py:358: RuntimeWarning: divide by zero encountered in log10\n",
      "  result = getattr(ufunc, method)(*inputs, **kwargs)\n",
      "/home/leonard/anaconda3/lib/python3.8/site-packages/pandas/core/arraylike.py:358: RuntimeWarning: divide by zero encountered in log10\n",
      "  result = getattr(ufunc, method)(*inputs, **kwargs)\n"
     ]
    },
    {
     "data": {
      "text/plain": [
       "(-15.0, 5.0)"
      ]
     },
     "execution_count": 55,
     "metadata": {},
     "output_type": "execute_result"
    },
    {
     "data": {
      "image/png": "[encoded data removed]",
      "text/plain": [
       "<Figure size 432x288 with 1 Axes>"
      ]
     },
     "metadata": {
      "needs_background": "light"
     },
     "output_type": "display_data"
    }
   ],
   "source": [
    "EDT(EDC(raven[f'a{0.1:.1f}-s{0.5:.1f}'], energy=True), plot=True)\n",
    "db(raven[f'a{0.1:.1f}-s{0.5:.1f}']).plot()\n",
    "EDT(EDC(mitsuba[f'a{0.1:.1f}-s{0.5:.1f}'], energy=True), plot=True)\n",
    "db(mitsuba[f'a{0.1:.1f}-s{0.5:.1f}']).plot()\n",
    "plt.xlim(0, 100)\n",
    "plt.ylim(-15, 5)"
   ]
  },
  {
   "cell_type": "code",
   "execution_count": null,
   "metadata": {},
   "outputs": [],
   "source": []
  }
 ],
 "metadata": {
  "kernelspec": {
   "display_name": "Python 3",
   "language": "python",
   "name": "python3"
  },
  "language_info": {
   "codemirror_mode": {
    "name": "ipython",
    "version": 3
   },
   "file_extension": ".py",
   "mimetype": "text/x-python",
   "name": "python",
   "nbconvert_exporter": "python",
   "pygments_lexer": "ipython3",
   "version": "3.8.2"
  }
 },
 "nbformat": 4,
 "nbformat_minor": 4
}
