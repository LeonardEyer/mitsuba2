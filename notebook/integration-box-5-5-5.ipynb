{
 "cells": [
  {
   "cell_type": "code",
   "execution_count": 1,
   "metadata": {},
   "outputs": [
    {
     "data": {
      "text/html": [
       "<span style=\"font-family: monospace; color: #000\">2021-06-28 15:27:27 INFO  main  [optix_api.cpp:56] Dynamic loading of the Optix library ..</span>"
      ]
     },
     "metadata": {},
     "output_type": "display_data"
    }
   ],
   "source": [
    "import numpy as np\n",
    "import matplotlib.pyplot as plt\n",
    "import mitsuba\n",
    "mitsuba.set_variant('gpu_acoustic')\n",
    "from enoki import *\n",
    "cuda_set_log_level(0)"
   ]
  },
  {
   "cell_type": "code",
   "execution_count": 4,
   "metadata": {},
   "outputs": [],
   "source": [
    "def make_shoebox_scene(emitter_pos, sensor_pos, box_dimensions, radius, max_time, time_steps, \n",
    "                       spp, bins, rfilter, max_depth, samples_per_pass, scattering,absorption, hide_sensor=True):\n",
    "    \n",
    "    from mitsuba.core import ScalarTransform4f\n",
    "\n",
    "    def transform(scale=None, rotate=None, translate=None):\n",
    "        if translate is None:\n",
    "            translate = [0, 0, 0]\n",
    "        if scale is None:\n",
    "            scale = [1, 1, 1]\n",
    "        if rotate is None:\n",
    "            rotate = ([0, 0, 0], 0)\n",
    "\n",
    "        a = ScalarTransform4f.scale(scale)\n",
    "        b = ScalarTransform4f.rotate(*rotate)\n",
    "        c = ScalarTransform4f.translate(translate)\n",
    "        return c * b * a\n",
    "\n",
    "    global_translation = transform(translate=np.array(box_dimensions) / 2)\n",
    "\n",
    "    scene = {\n",
    "        \"type\": \"scene\",\n",
    "        \"bsdf_neutral\": {\n",
    "            \"type\": \"acousticbsdf\",\n",
    "            \"scattering\": {\n",
    "                \"type\": \"spectrum\",\n",
    "                \"value\": scattering\n",
    "            },\n",
    "            \"absorption\": {\n",
    "                \"type\": \"spectrum\",\n",
    "                \"value\": absorption\n",
    "            }\n",
    "        },\n",
    "        \"emitter_shape\": {\n",
    "            \"id\": \"emitter\",\n",
    "            \"type\": \"sphere\",\n",
    "            \"radius\": radius,\n",
    "            \"to_world\": transform(translate=emitter_pos),\n",
    "            \"emitter\": {\n",
    "                \"type\": \"area\",\n",
    "                \"radiance\": {\n",
    "                    \"type\": \"uniform\",\n",
    "                    \"value\": 1\n",
    "                }\n",
    "            },\n",
    "            \"bsdf\": {\n",
    "                \"type\": \"null\"\n",
    "            }\n",
    "        },\n",
    "        \"sensor\": {\n",
    "            \"type\": \"microphone\",\n",
    "            \"to_world\": transform(translate=sensor_pos),\n",
    "            \"sampler\": {\n",
    "                \"type\": \"independent\",\n",
    "                \"sample_count\": spp\n",
    "            },\n",
    "            \"myfilm\": {\n",
    "                \"type\": \"tape\",\n",
    "                \"time_steps\": time_steps,\n",
    "                \"wav_bins\": len(bins),\n",
    "                \"rfilter\": rfilter\n",
    "            }  \n",
    "        },\n",
    "        \"shoebox\": {\n",
    "            \"id\": \"shoebox\",\n",
    "            \"type\": \"obj\",\n",
    "            \"filename\": \"../resources/cuberoom.obj\",\n",
    "            \"bsdf\": {\n",
    "                \"type\": \"ref\",\n",
    "                \"id\": \"bsdf_neutral\"\n",
    "            },\n",
    "            \"to_world\": global_translation * transform(scale=np.array(box_dimensions) / 2)\n",
    "        },\n",
    "        \"integrator\": {\n",
    "            \"type\": \"acousticpath\",\n",
    "            \"max_depth\": int(max_depth),\n",
    "            \"max_time\": max_time,\n",
    "            \"wavelength_bins\": ','.join(str(x) for x in bins),\n",
    "            \"samples_per_pass\": samples_per_pass\n",
    "        }\n",
    "    }\n",
    "    return scene\n",
    "\n",
    "def get_vals(data, size, copy=True):\n",
    "    return np.array(data, copy=copy).reshape(size)\n",
    "\n",
    "\n",
    "def EDC(x):\n",
    "    energy = x * 0.\n",
    "    # Compute the whole integral\n",
    "    total = np.trapz(x, axis=0)\n",
    "    print(total.shape)\n",
    "    for i in range(x.shape[0]):\n",
    "        energy[i] = (np.trapz(x[i:], axis=0) / total)\n",
    "    return energy\n",
    "\n",
    "\n",
    "def run_simulation(config):\n",
    "    scene_dict = make_shoebox_scene(**config)\n",
    "    scene = load_dict(scene_dict)\n",
    "\n",
    "    size = scene.sensors()[0].film().size()\n",
    "\n",
    "    sensor = scene.sensors()[0]\n",
    "    integrator = scene.integrator()\n",
    "\n",
    "    status = integrator.render(scene, sensor)\n",
    "    assert status\n",
    "    \n",
    "    film = sensor.film()\n",
    "\n",
    "    data = film.get_histogram().data()\n",
    "    counts = film.get_histogram().counts()\n",
    "\n",
    "    vals = get_vals(data, film.size())\n",
    "    vals_count = get_vals(counts, film.size())\n",
    "    \n",
    "    total_samples = config['time_steps'] * config['spp']\n",
    " \n",
    "    edc = vals / total_samples\n",
    "    edc = np.nan_to_num(edc)\n",
    "    edc = EDC(vals)\n",
    "    edc_db = 10 * np.log10(edc)\n",
    "\n",
    "    fig, ((ax1, ax2), (ax3, ax4)) = plt.subplots(2, 2, sharex=True, figsize=(15, 5))\n",
    "    ax1.plot(edc)\n",
    "    ax1.set_title(\"Energy\")\n",
    "    ax2.plot(edc_db)\n",
    "    ax2.set_title(\"Energy [dB]\")\n",
    "    ax3.plot(vals)\n",
    "    ax3.set_title(\"Recorded\")\n",
    "    ax4.plot(vals_count)\n",
    "    ax4.set_title(\"Counts\")\n",
    "    \n",
    "    return edc, edc_db"
   ]
  },
  {
   "cell_type": "code",
   "execution_count": 5,
   "metadata": {},
   "outputs": [
    {
     "data": {
      "text/html": [
       "<span style=\"font-family: monospace; color: #bbb\">2021-06-28 16:05:44 DEBUG main  [OBJMesh] Loading mesh from &quot;cuberoom.obj&quot; ..</span>"
      ]
     },
     "metadata": {},
     "output_type": "display_data"
    },
    {
     "data": {
      "text/html": [
       "<span style=\"font-family: monospace; color: #bbb\">2021-06-28 16:05:44 DEBUG main  [OBJMesh] &quot;cuberoom.obj&quot;: read 12 faces, 24 vertices (912 B in 0ms)</span>"
      ]
     },
     "metadata": {},
     "output_type": "display_data"
    },
    {
     "data": {
      "text/html": [
       "<span style=\"font-family: monospace; color: #000\">2021-06-28 16:05:44 INFO  main  [Scene] Building scene in OptiX ..</span>"
      ]
     },
     "metadata": {},
     "output_type": "display_data"
    },
    {
     "data": {
      "application/vnd.jupyter.widget-view+json": {
       "model_id": "10f72e2a2e1246ea8a8c1538fca52251",
       "version_major": 2,
       "version_minor": 0
      },
      "text/plain": [
       "VBox(children=(HTML(value=''), FloatProgress(value=0.0, bar_style='info', layout=Layout(width='100%'), max=1.0…"
      ]
     },
     "metadata": {},
     "output_type": "display_data"
    },
    {
     "data": {
      "text/html": [
       "<span style=\"font-family: monospace; color: #000\">2021-06-28 16:07:09 INFO  main  [TimeDependentIntegrator] Rendering finished. (took 1.4112m)</span>"
      ]
     },
     "metadata": {},
     "output_type": "display_data"
    },
    {
     "name": "stdout",
     "output_type": "stream",
     "text": [
      "(3,)\n"
     ]
    },
    {
     "name": "stderr",
     "output_type": "stream",
     "text": [
      "<ipython-input-4-93f97475aa67>:123: RuntimeWarning: divide by zero encountered in log10\n",
      "  edc_db = 10 * np.log10(edc)\n"
     ]
    },
    {
     "data": {
      "image/png": "[encoded data removed]",
      "text/plain": [
       "<Figure size 1080x360 with 4 Axes>"
      ]
     },
     "metadata": {
      "needs_background": "light"
     },
     "output_type": "display_data"
    }
   ],
   "source": [
    "from mitsuba.core.xml import load_string, load_dict\n",
    "\n",
    "config = {\n",
    "    \"bins\":  [1, 2, 3],\n",
    "    \"absorption\": [(1, 0.1), (2, 0.5), (3, 0.9)],\n",
    "    \"scattering\": 0.0,\n",
    "    \"max_time\": 2,\n",
    "    \"time_steps\": 200,\n",
    "    \"spp\": 10000,\n",
    "    \"samples_per_pass\": 1000,\n",
    "    \"box_dimensions\": [5, 5, 5],\n",
    "    \"emitter_pos\": [1, 1, 1],\n",
    "    \"sensor_pos\": [2, 2, 1],\n",
    "    \"radius\": .1,  \n",
    "    \"max_depth\": 500,\n",
    "    \"rfilter\": {\n",
    "        \"type\": \"box\",\n",
    "        \"radius\": 0.5\n",
    "    }\n",
    "}\n",
    "\n",
    "edc, edc_db = run_simulation(config)\n"
   ]
  },
  {
   "cell_type": "code",
   "execution_count": null,
   "metadata": {},
   "outputs": [],
   "source": [
    "np.save('data/RT-EDC-box-5-5-5.npy', edc_db)"
   ]
  },
  {
   "cell_type": "code",
   "execution_count": null,
   "metadata": {},
   "outputs": [],
   "source": []
  }
 ],
 "metadata": {
  "kernelspec": {
   "display_name": "Python 3",
   "language": "python",
   "name": "python3"
  },
  "language_info": {
   "codemirror_mode": {
    "name": "ipython",
    "version": 3
   },
   "file_extension": ".py",
   "mimetype": "text/x-python",
   "name": "python",
   "nbconvert_exporter": "python",
   "pygments_lexer": "ipython3",
   "version": "3.8.2"
  }
 },
 "nbformat": 4,
 "nbformat_minor": 4
}
