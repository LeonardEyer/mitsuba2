{
 "cells": [
  {
   "cell_type": "code",
   "execution_count": 1,
   "metadata": {},
   "outputs": [
    {
     "data": {
      "text/html": [
       "<span style=\"font-family: monospace; color: #000\">2021-06-16 21:40:18 INFO  main  [optix_api.cpp:56] Dynamic loading of the Optix library ..</span>"
      ]
     },
     "metadata": {},
     "output_type": "display_data"
    }
   ],
   "source": [
    "import numpy as np\n",
    "import matplotlib.pyplot as plt\n",
    "import mitsuba\n",
    "mitsuba.set_variant('gpu_acoustic')\n",
    "from enoki import *\n",
    "cuda_set_log_level(0)"
   ]
  },
  {
   "cell_type": "code",
   "execution_count": 2,
   "metadata": {},
   "outputs": [],
   "source": [
    "def make_shoebox_scene(emitter_pos, sensor_pos, box_dimensions, radius, max_time, time_steps, \n",
    "                       spp, bins, rfilter, max_depth, samples_per_pass, scattering,absorption, hide_sensor=True):\n",
    "    \n",
    "    from mitsuba.core import ScalarTransform4f\n",
    "\n",
    "    def transform(scale=None, rotate=None, translate=None):\n",
    "        if translate is None:\n",
    "            translate = [0, 0, 0]\n",
    "        if scale is None:\n",
    "            scale = [1, 1, 1]\n",
    "        if rotate is None:\n",
    "            rotate = ([0, 0, 0], 0)\n",
    "\n",
    "        a = ScalarTransform4f.scale(scale)\n",
    "        b = ScalarTransform4f.rotate(*rotate)\n",
    "        c = ScalarTransform4f.translate(translate)\n",
    "        return c * b * a\n",
    "\n",
    "    global_translation = transform(translate=np.array(box_dimensions) / 2)\n",
    "\n",
    "    scene = {\n",
    "        \"type\": \"scene\",\n",
    "        \"bsdf_neutral\": {\n",
    "            \"type\": \"acousticbsdf\",\n",
    "            \"scattering\": {\n",
    "                \"type\": \"spectrum\",\n",
    "                \"value\": scattering\n",
    "            },\n",
    "            \"absorption\": {\n",
    "                \"type\": \"spectrum\",\n",
    "                \"value\": absorption\n",
    "            }\n",
    "        },\n",
    "        \"emitter_shape\": {\n",
    "            \"id\": \"emitter\",\n",
    "            \"type\": \"sphere\",\n",
    "            \"radius\": radius,\n",
    "            \"to_world\": transform(translate=emitter_pos),\n",
    "            \"emitter\": {\n",
    "                \"type\": \"area\",\n",
    "                \"radiance\": {\n",
    "                    \"type\": \"uniform\",\n",
    "                    \"value\": 1\n",
    "                }\n",
    "            },\n",
    "            \"bsdf\": {\n",
    "                \"type\": \"null\"\n",
    "            }\n",
    "        },\n",
    "        \"sensor\": {\n",
    "            \"type\": \"microphone\",\n",
    "            \"to_world\": transform(translate=sensor_pos),\n",
    "            \"sampler\": {\n",
    "                \"type\": \"independent\",\n",
    "                \"sample_count\": spp\n",
    "            },\n",
    "            \"myfilm\": {\n",
    "                \"type\": \"tape\",\n",
    "                \"time_steps\": time_steps,\n",
    "                \"wav_bins\": len(bins),\n",
    "                \"rfilter\": rfilter\n",
    "            }  \n",
    "        },\n",
    "        \"shoebox\": {\n",
    "            \"id\": \"shoebox\",\n",
    "            \"type\": \"obj\",\n",
    "            \"filename\": \"../resources/cuberoom.obj\",\n",
    "            \"bsdf\": {\n",
    "                \"type\": \"ref\",\n",
    "                \"id\": \"bsdf_neutral\"\n",
    "            },\n",
    "            \"to_world\": global_translation * transform(scale=np.array(box_dimensions) / 2)\n",
    "        },\n",
    "        \"integrator\": {\n",
    "            \"type\": \"acousticpath\",\n",
    "            \"max_depth\": int(max_depth),\n",
    "            \"max_time\": max_time,\n",
    "            \"wavelength_bins\": ','.join(str(x) for x in bins),\n",
    "            \"samples_per_pass\": samples_per_pass\n",
    "        }\n",
    "    }\n",
    "    return scene\n",
    "\n",
    "def get_vals(data, size, copy=True):\n",
    "    return np.array(data, copy=copy).reshape(size)"
   ]
  },
  {
   "cell_type": "code",
   "execution_count": 10,
   "metadata": {},
   "outputs": [
    {
     "data": {
      "text/html": [
       "<span style=\"font-family: monospace; color: #bbb\">2021-06-16 21:40:26 DEBUG main  [OBJMesh] Loading mesh from &quot;cuberoom.obj&quot; ..</span>"
      ]
     },
     "metadata": {},
     "output_type": "display_data"
    },
    {
     "data": {
      "text/html": [
       "<span style=\"font-family: monospace; color: #bbb\">2021-06-16 21:40:26 DEBUG main  [OBJMesh] &quot;cuberoom.obj&quot;: read 12 faces, 24 vertices (912 B in 0ms)</span>"
      ]
     },
     "metadata": {},
     "output_type": "display_data"
    },
    {
     "data": {
      "text/html": [
       "<span style=\"font-family: monospace; color: #000\">2021-06-16 21:40:26 INFO  main  [Scene] Building scene in OptiX ..</span>"
      ]
     },
     "metadata": {},
     "output_type": "display_data"
    },
    {
     "data": {
      "application/vnd.jupyter.widget-view+json": {
       "model_id": "a26453cdee444f0ea5c627fb67f860e9",
       "version_major": 2,
       "version_minor": 0
      },
      "text/plain": [
       "VBox(children=(HTML(value=''), FloatProgress(value=0.0, bar_style='info', layout=Layout(width='100%'), max=1.0…"
      ]
     },
     "metadata": {},
     "output_type": "display_data"
    },
    {
     "data": {
      "text/html": [
       "<span style=\"font-family: monospace; color: #000\">2021-06-16 21:40:27 INFO  main  [TimeDependentIntegrator] Rendering finished. (took 933ms)</span>"
      ]
     },
     "metadata": {},
     "output_type": "display_data"
    }
   ],
   "source": [
    "from mitsuba.core.xml import load_string, load_dict\n",
    "\n",
    "config = {\n",
    "    \"bins\": [1],#[1, 2, 3],\n",
    "    \"absorption\": 0.5,# [(1, 0.1), (2, 0.5), (3, 0.9)],\n",
    "    \"scattering\": 0.5,\n",
    "    \"max_time\": 2,\n",
    "    \"time_steps\": 200,\n",
    "    \"spp\": 1,\n",
    "    \"samples_per_pass\": 1,\n",
    "    \"box_dimensions\": [25, 12, 7],\n",
    "    \"emitter_pos\": [20, 7, 2],\n",
    "    \"sensor_pos\": [9, 6, 1],\n",
    "    \"radius\": .1,  \n",
    "    \"max_depth\": 50,\n",
    "    \"rfilter\": {\n",
    "        \"type\": \"box\",\n",
    "        \"radius\": 0.5\n",
    "    }\n",
    "}\n",
    "\n",
    "scene_dict = make_shoebox_scene(**config)\n",
    "scene = load_dict(scene_dict)\n",
    "\n",
    "size = scene.sensors()[0].film().size()\n",
    "\n",
    "sensor = scene.sensors()[0]\n",
    "integrator = scene.integrator()\n",
    "\n",
    "status = integrator.render(scene, sensor)\n",
    "assert status"
   ]
  },
  {
   "cell_type": "code",
   "execution_count": 11,
   "metadata": {},
   "outputs": [
    {
     "name": "stderr",
     "output_type": "stream",
     "text": [
      "<ipython-input-11-5f779731adb6>:8: RuntimeWarning: invalid value encountered in true_divide\n",
      "  energy = vals / vals_count\n"
     ]
    },
    {
     "data": {
      "text/plain": [
       "Text(0.5, 1.0, 'Counts')"
      ]
     },
     "execution_count": 11,
     "metadata": {},
     "output_type": "execute_result"
    },
    {
     "data": {
      "image/png": "[encoded data removed]",
      "text/plain": [
       "<Figure size 1080x360 with 4 Axes>"
      ]
     },
     "metadata": {
      "needs_background": "light"
     },
     "output_type": "display_data"
    }
   ],
   "source": [
    "film = sensor.film()\n",
    "\n",
    "hist = film.get_histogram()\n",
    "\n",
    "vals = get_vals(hist.data(), film.size()).astype('float64')\n",
    "vals_count = get_vals(hist.counts(), film.size()).astype('float64')\n",
    "\n",
    "energy = vals / vals_count\n",
    "energy /= energy[0]\n",
    "energy_db = 10 * np.log10(energy)\n",
    "\n",
    "fig, ((ax1, ax2), (ax3, ax4)) = plt.subplots(2, 2, sharex=True, figsize=(15, 5))\n",
    "ax1.plot(energy)\n",
    "ax1.set_title(\"Energy\")\n",
    "ax2.plot(energy_db)\n",
    "ax2.set_title(\"Energy [dB]\")\n",
    "ax3.plot(vals)\n",
    "ax3.set_title(\"Recorded\")\n",
    "ax4.plot(vals_count)\n",
    "ax4.set_title(\"Counts\")"
   ]
  },
  {
   "cell_type": "code",
   "execution_count": 12,
   "metadata": {},
   "outputs": [],
   "source": [
    "#np.save('data/RT-EDC-box-5-5-5.npy', energy_db)\n",
    "#np.save('data/RT-EDC-box-25-12-7.npy', energy_db)"
   ]
  },
  {
   "cell_type": "code",
   "execution_count": 6,
   "metadata": {},
   "outputs": [
    {
     "name": "stdout",
     "output_type": "stream",
     "text": [
      "Machine parameters for float32\n",
      "---------------------------------------------------------------\n",
      "precision =   6   resolution = 1.0000000e-06\n",
      "machep =    -23   eps =        1.1920929e-07\n",
      "negep =     -24   epsneg =     5.9604645e-08\n",
      "minexp =   -126   tiny =       1.1754944e-38\n",
      "maxexp =    128   max =        3.4028235e+38\n",
      "nexp =        8   min =        -max\n",
      "---------------------------------------------------------------\n",
      "\n"
     ]
    },
    {
     "data": {
      "text/plain": [
       "61.91310695109703"
      ]
     },
     "execution_count": 6,
     "metadata": {},
     "output_type": "execute_result"
    }
   ],
   "source": [
    "print(np.finfo('float32'))\n",
    "-60 / (10 * np.log10(0.8))"
   ]
  },
  {
   "cell_type": "code",
   "execution_count": 7,
   "metadata": {},
   "outputs": [
    {
     "name": "stdout",
     "output_type": "stream",
     "text": [
      "2113.2412109375\n",
      "0.0\n"
     ]
    },
    {
     "data": {
      "text/plain": [
       "5e-324"
      ]
     },
     "execution_count": 7,
     "metadata": {},
     "output_type": "execute_result"
    }
   ],
   "source": [
    "print(np.max(vals))\n",
    "print(np.min(vals))\n",
    "np.spacing(np.min(vals))"
   ]
  },
  {
   "cell_type": "code",
   "execution_count": 8,
   "metadata": {},
   "outputs": [
    {
     "data": {
      "text/plain": [
       "1.2259964326927152e-06"
      ]
     },
     "execution_count": 8,
     "metadata": {},
     "output_type": "execute_result"
    }
   ],
   "source": [
    "0.8**61"
   ]
  },
  {
   "cell_type": "code",
   "execution_count": 9,
   "metadata": {},
   "outputs": [
    {
     "ename": "TypeError",
     "evalue": "'float' object is not iterable",
     "output_type": "error",
     "traceback": [
      "\u001b[0;31m---------------------------------------------------------------------------\u001b[0m",
      "\u001b[0;31mTypeError\u001b[0m                                 Traceback (most recent call last)",
      "\u001b[0;32m<ipython-input-9-646da1007b06>\u001b[0m in \u001b[0;36m<module>\u001b[0;34m\u001b[0m\n\u001b[1;32m      2\u001b[0m \u001b[0;32mfrom\u001b[0m \u001b[0mutils\u001b[0m \u001b[0;32mimport\u001b[0m \u001b[0mdb_pd\u001b[0m \u001b[0;32mas\u001b[0m \u001b[0mdb\u001b[0m\u001b[0;34m\u001b[0m\u001b[0;34m\u001b[0m\u001b[0m\n\u001b[1;32m      3\u001b[0m \u001b[0mdf\u001b[0m \u001b[0;34m=\u001b[0m \u001b[0mpd\u001b[0m\u001b[0;34m.\u001b[0m\u001b[0mDataFrame\u001b[0m\u001b[0;34m(\u001b[0m\u001b[0;34m)\u001b[0m\u001b[0;34m\u001b[0m\u001b[0;34m\u001b[0m\u001b[0m\n\u001b[0;32m----> 4\u001b[0;31m \u001b[0;32mfor\u001b[0m \u001b[0mi\u001b[0m\u001b[0;34m,\u001b[0m\u001b[0ma\u001b[0m \u001b[0;32min\u001b[0m \u001b[0menumerate\u001b[0m\u001b[0;34m(\u001b[0m\u001b[0mconfig\u001b[0m\u001b[0;34m[\u001b[0m\u001b[0;34m'absorption'\u001b[0m\u001b[0;34m]\u001b[0m\u001b[0;34m)\u001b[0m\u001b[0;34m:\u001b[0m\u001b[0;34m\u001b[0m\u001b[0;34m\u001b[0m\u001b[0m\n\u001b[0m\u001b[1;32m      5\u001b[0m     \u001b[0mdf\u001b[0m\u001b[0;34m.\u001b[0m\u001b[0minsert\u001b[0m\u001b[0;34m(\u001b[0m\u001b[0;36m0\u001b[0m\u001b[0;34m,\u001b[0m \u001b[0;34mf\"a{a[1]:.1f}-s{config['scattering']:.1f}\"\u001b[0m\u001b[0;34m,\u001b[0m \u001b[0mvals\u001b[0m\u001b[0;34m[\u001b[0m\u001b[0;34m:\u001b[0m\u001b[0;34m,\u001b[0m\u001b[0mi\u001b[0m\u001b[0;34m]\u001b[0m\u001b[0;34m)\u001b[0m\u001b[0;34m\u001b[0m\u001b[0;34m\u001b[0m\u001b[0m\n\u001b[1;32m      6\u001b[0m \u001b[0mdf\u001b[0m\u001b[0;34m.\u001b[0m\u001b[0minsert\u001b[0m\u001b[0;34m(\u001b[0m\u001b[0;36m0\u001b[0m\u001b[0;34m,\u001b[0m \u001b[0;34m\"time\"\u001b[0m\u001b[0;34m,\u001b[0m \u001b[0mnp\u001b[0m\u001b[0;34m.\u001b[0m\u001b[0mlinspace\u001b[0m\u001b[0;34m(\u001b[0m\u001b[0;36m0\u001b[0m\u001b[0;34m,\u001b[0m \u001b[0mconfig\u001b[0m\u001b[0;34m[\u001b[0m\u001b[0;34m'max_time'\u001b[0m\u001b[0;34m]\u001b[0m\u001b[0;34m,\u001b[0m \u001b[0mconfig\u001b[0m\u001b[0;34m[\u001b[0m\u001b[0;34m'time_steps'\u001b[0m\u001b[0;34m]\u001b[0m\u001b[0;34m)\u001b[0m\u001b[0;34m)\u001b[0m\u001b[0;34m\u001b[0m\u001b[0;34m\u001b[0m\u001b[0m\n",
      "\u001b[0;31mTypeError\u001b[0m: 'float' object is not iterable"
     ]
    }
   ],
   "source": [
    "import pandas as pd\n",
    "from utils import db_pd as db\n",
    "df = pd.DataFrame()\n",
    "for i,a in enumerate(config['absorption']):\n",
    "    df.insert(0, f\"a{a[1]:.1f}-s{config['scattering']:.1f}\", vals[:,i])\n",
    "df.insert(0, \"time\", np.linspace(0, config['max_time'], config['time_steps']))\n",
    "df.set_index(\"time\", inplace=True, drop=True)\n",
    "\n",
    "(10 * np.log10(df.ewm(span = 1).mean())).plot()"
   ]
  },
  {
   "cell_type": "code",
   "execution_count": null,
   "metadata": {},
   "outputs": [],
   "source": [
    "raven_hist = pd.read_pickle(\"raven/data.pkl\")"
   ]
  },
  {
   "cell_type": "code",
   "execution_count": null,
   "metadata": {},
   "outputs": [],
   "source": [
    "#db(raven_hist['a0.5-s0.5']).plot()\n",
    "plt.plot(np.linspace(0, 4, 4000), energy_db[:,0], label='RT1')\n",
    "plt.plot(np.linspace(0, 4, 4000), energy_db[:,1], label='RT5')\n",
    "plt.plot(np.linspace(0, 4, 4000), energy_db[:,2], label='RT9')\n",
    "plt.plot(np.linspace(0, 4.1, 411), db(raven_hist['a0.1-s0.5']), label='Raven1')\n",
    "plt.plot(np.linspace(0, 4.1, 411), db(raven_hist['a0.5-s0.5']), label='Raven5')\n",
    "plt.plot(np.linspace(0, 4.1, 411), db(raven_hist['a0.9-s0.5']), label='Raven9')\n",
    "plt.legend()"
   ]
  },
  {
   "cell_type": "code",
   "execution_count": null,
   "metadata": {},
   "outputs": [],
   "source": []
  }
 ],
 "metadata": {
  "kernelspec": {
   "display_name": "Python 3",
   "language": "python",
   "name": "python3"
  },
  "language_info": {
   "codemirror_mode": {
    "name": "ipython",
    "version": 3
   },
   "file_extension": ".py",
   "mimetype": "text/x-python",
   "name": "python",
   "nbconvert_exporter": "python",
   "pygments_lexer": "ipython3",
   "version": "3.8.2"
  }
 },
 "nbformat": 4,
 "nbformat_minor": 4
}
