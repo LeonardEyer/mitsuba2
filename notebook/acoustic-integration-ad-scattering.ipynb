{
 "cells": [
  {
   "cell_type": "code",
   "execution_count": 1,
   "metadata": {},
   "outputs": [
    {
     "data": {
      "text/html": [
       "<span style=\"font-family: monospace; color: #000\">2021-06-02 10:26:10 INFO  main  [optix_api.cpp:56] Dynamic loading of the Optix library ..</span>"
      ]
     },
     "metadata": {},
     "output_type": "display_data"
    }
   ],
   "source": [
    "import enoki as ek\n",
    "import numpy as np\n",
    "import matplotlib.pyplot as plt\n",
    "import mitsuba\n",
    "mitsuba.set_variant('gpu_autodiff_acoustic')\n",
    "from mitsuba.python.util import traverse\n",
    "import time\n",
    "from matplotlib.ticker import FuncFormatter\n",
    "from mpl_toolkits.mplot3d.axes3d import Axes3D\n",
    "from mpl_toolkits.mplot3d import proj3d"
   ]
  },
  {
   "cell_type": "code",
   "execution_count": 2,
   "metadata": {},
   "outputs": [],
   "source": [
    "def make_shoebox_scene(emitter_pos, sensor_pos, box_dimensions, radius, max_time, time_steps, spp, bins, rfilter, max_depth=5, samples_per_pass=1, scattering=0.0, absorption=0.0, hide_sensor=True):\n",
    "    \n",
    "    from mitsuba.core import ScalarTransform4f\n",
    "\n",
    "    def transform(scale=None, rotate=None, translate=None):\n",
    "        if translate is None:\n",
    "            translate = [0, 0, 0]\n",
    "        if scale is None:\n",
    "            scale = [1, 1, 1]\n",
    "        if rotate is None:\n",
    "            rotate = ([0, 0, 0], 0)\n",
    "\n",
    "        a = ScalarTransform4f.scale(scale)\n",
    "        b = ScalarTransform4f.rotate(*rotate)\n",
    "        c = ScalarTransform4f.translate(translate)\n",
    "        return c * b * a\n",
    "\n",
    "    global_translation = transform(translate=np.array(box_dimensions) / 2)\n",
    "\n",
    "    scene = {\n",
    "        \"type\": \"scene\",\n",
    "        \"bsdf_neutral\": {\n",
    "            \"type\": \"acousticbsdf\",\n",
    "            \"scattering\": {\n",
    "                \"type\": \"spectrum\",\n",
    "                \"value\": scattering\n",
    "            },\n",
    "            \"absorption\": {\n",
    "                \"type\": \"spectrum\",\n",
    "                \"value\": absorption\n",
    "            }\n",
    "        },\n",
    "        \"emitter_shape\": {\n",
    "            \"id\": \"emitter\",\n",
    "            \"type\": \"sphere\",\n",
    "            \"radius\": radius,\n",
    "            \"to_world\": transform(translate=emitter_pos),\n",
    "            \"emitter\": {\n",
    "                \"type\": \"area\",\n",
    "                \"radiance\": {\n",
    "                    \"type\": \"uniform\",\n",
    "                    \"value\": 1\n",
    "                }\n",
    "            }\n",
    "        },\n",
    "        \"sensor\": {\n",
    "            \"type\": \"microphone\",\n",
    "            \"to_world\": transform(translate=sensor_pos),\n",
    "            \"sampler\": {\n",
    "                \"type\": \"independent\",\n",
    "                \"sample_count\": spp\n",
    "            },\n",
    "            \"myfilm\": {\n",
    "                \"type\": \"tape\",\n",
    "                \"time_steps\": time_steps,\n",
    "                \"wav_bins\": len(bins),\n",
    "                \"rfilter\": rfilter\n",
    "            }  \n",
    "        },\n",
    "        \"shoebox\": {\n",
    "            \"id\": \"shoebox_ref\",\n",
    "            \"type\": \"shapegroup\",\n",
    "            \"bottom\": {\n",
    "                \"type\": \"rectangle\",\n",
    "                \"to_world\": transform(\n",
    "                    scale=[1, 1, 1],\n",
    "                    translate=[0, 0, -1]),\n",
    "                \"bsdf\": {\n",
    "                    \"type\": \"ref\",\n",
    "                    \"id\": \"bsdf_neutral\"\n",
    "                }\n",
    "            },\n",
    "            \"left\": {\n",
    "                \"type\": \"rectangle\",\n",
    "                \"to_world\": transform(\n",
    "                    scale=[1, 1, 1],\n",
    "                    rotate=([0, 1, 0], 90),\n",
    "                    translate=[-1, 0, 0]),\n",
    "                \"bsdf\": {\n",
    "                    \"type\": \"ref\",\n",
    "                    \"id\": \"bsdf_neutral\"\n",
    "                }\n",
    "            },\n",
    "            \"back\": {\n",
    "                \"type\": \"rectangle\",\n",
    "                \"to_world\": transform(\n",
    "                    scale=[1, 1, 1],\n",
    "                    rotate=([1, 0, 0], 90),\n",
    "                    translate=[0, 1, 0]),\n",
    "                \"bsdf\": {\n",
    "                    \"type\": \"ref\",\n",
    "                    \"id\": \"bsdf_neutral\"\n",
    "                }\n",
    "            },\n",
    "            \"front\": {\n",
    "                \"type\": \"rectangle\",\n",
    "                \"to_world\": transform(\n",
    "                    scale=[1, 1, 1],\n",
    "                    rotate=([1, 0, 0], -90),\n",
    "                    translate=[0, -1, 0]),\n",
    "                \"bsdf\": {\n",
    "                    \"type\": \"ref\",\n",
    "                    \"id\": \"bsdf_neutral\"\n",
    "                }\n",
    "            },\n",
    "            \"right\": {\n",
    "                \"type\": \"rectangle\",\n",
    "                \"to_world\": transform(\n",
    "                    scale=[1, 1, 1],\n",
    "                    rotate=([0, 1, 0], -90),\n",
    "                    translate=[1, 0, 0]),\n",
    "                \"bsdf\": {\n",
    "                    \"type\": \"ref\",\n",
    "                    \"id\": \"bsdf_neutral\"\n",
    "                }\n",
    "            },\n",
    "            \"top\": {\n",
    "                \"type\": \"rectangle\",\n",
    "                \"to_world\": transform(\n",
    "                    scale=[1, 1, 1],\n",
    "                    rotate=([0, 1, 0], 180),\n",
    "                    translate=[0, 0, 1]),\n",
    "                \"bsdf\": {\n",
    "                    \"type\": \"ref\",\n",
    "                    \"id\": \"bsdf_neutral\"\n",
    "                }\n",
    "            }\n",
    "        },\n",
    "        \"shoebox_instance\": {\n",
    "            \"type\": \"instance\",\n",
    "            \"shape\": {\n",
    "                \"type\": \"ref\",\n",
    "                \"id\": \"shoebox_ref\"\n",
    "            },\n",
    "            \"to_world\": global_translation * transform(scale=np.array(box_dimensions) / 2)\n",
    "        },\n",
    "        \"integrator\": {\n",
    "            \"type\": \"acousticpath\",\n",
    "            \"max_depth\": int(max_depth),\n",
    "            \"max_time\": max_time,\n",
    "            \"wavelength_bins\": ','.join(str(x) for x in bins),\n",
    "            \"samples_per_pass\": samples_per_pass\n",
    "        }\n",
    "    }\n",
    "    return scene\n",
    "\n",
    "def get_vals(data, size, copy=False):\n",
    "    return np.array(data, copy=copy).reshape(size)\n"
   ]
  },
  {
   "cell_type": "code",
   "execution_count": 3,
   "metadata": {},
   "outputs": [
    {
     "data": {
      "text/html": [
       "<span style=\"font-family: monospace; color: #000\">2021-06-02 10:26:10 INFO  main  [PluginManager] Loading plugin &quot;plugins/acousticbsdf.so&quot; ..</span>"
      ]
     },
     "metadata": {},
     "output_type": "display_data"
    },
    {
     "data": {
      "text/html": [
       "<span style=\"font-family: monospace; color: #000\">2021-06-02 10:26:10 INFO  main  [PluginManager] Loading plugin &quot;plugins/uniform.so&quot; ..</span>"
      ]
     },
     "metadata": {},
     "output_type": "display_data"
    },
    {
     "data": {
      "text/html": [
       "<span style=\"font-family: monospace; color: #000\">2021-06-02 10:26:10 INFO  main  [PluginManager] Loading plugin &quot;plugins/irregular.so&quot; ..</span>"
      ]
     },
     "metadata": {},
     "output_type": "display_data"
    },
    {
     "data": {
      "text/html": [
       "<span style=\"font-family: monospace; color: #000\">2021-06-02 10:26:10 INFO  main  [PluginManager] Loading plugin &quot;plugins/sphere.so&quot; ..</span>"
      ]
     },
     "metadata": {},
     "output_type": "display_data"
    },
    {
     "data": {
      "text/html": [
       "<span style=\"font-family: monospace; color: #000\">2021-06-02 10:26:10 INFO  main  [PluginManager] Loading plugin &quot;plugins/area.so&quot; ..</span>"
      ]
     },
     "metadata": {},
     "output_type": "display_data"
    },
    {
     "data": {
      "text/html": [
       "<span style=\"font-family: monospace; color: #000\">2021-06-02 10:26:10 INFO  main  [PluginManager] Loading plugin &quot;plugins/d65.so&quot; ..</span>"
      ]
     },
     "metadata": {},
     "output_type": "display_data"
    },
    {
     "data": {
      "text/html": [
       "<span style=\"font-family: monospace; color: #000\">2021-06-02 10:26:10 INFO  main  [PluginManager] Loading plugin &quot;plugins/regular.so&quot; ..</span>"
      ]
     },
     "metadata": {},
     "output_type": "display_data"
    },
    {
     "data": {
      "text/html": [
       "<span style=\"font-family: monospace; color: #000\">2021-06-02 10:26:10 INFO  main  [PluginManager] Loading plugin &quot;plugins/diffuse.so&quot; ..</span>"
      ]
     },
     "metadata": {},
     "output_type": "display_data"
    },
    {
     "data": {
      "text/html": [
       "<span style=\"font-family: monospace; color: #000\">2021-06-02 10:26:10 INFO  main  [PluginManager] Loading plugin &quot;plugins/microphone.so&quot; ..</span>"
      ]
     },
     "metadata": {},
     "output_type": "display_data"
    },
    {
     "data": {
      "text/html": [
       "<span style=\"font-family: monospace; color: #000\">2021-06-02 10:26:10 INFO  main  [PluginManager] Loading plugin &quot;plugins/independent.so&quot; ..</span>"
      ]
     },
     "metadata": {},
     "output_type": "display_data"
    },
    {
     "data": {
      "text/html": [
       "<span style=\"font-family: monospace; color: #000\">2021-06-02 10:26:10 INFO  main  [PluginManager] Loading plugin &quot;plugins/tape.so&quot; ..</span>"
      ]
     },
     "metadata": {},
     "output_type": "display_data"
    },
    {
     "data": {
      "text/html": [
       "<span style=\"font-family: monospace; color: #000\">2021-06-02 10:26:10 INFO  main  [PluginManager] Loading plugin &quot;plugins/gaussian.so&quot; ..</span>"
      ]
     },
     "metadata": {},
     "output_type": "display_data"
    },
    {
     "data": {
      "text/html": [
       "<span style=\"font-family: monospace; color: #000\">2021-06-02 10:26:10 INFO  main  [PluginManager] Loading plugin &quot;plugins/shapegroup.so&quot; ..</span>"
      ]
     },
     "metadata": {},
     "output_type": "display_data"
    },
    {
     "data": {
      "text/html": [
       "<span style=\"font-family: monospace; color: #000\">2021-06-02 10:26:10 INFO  main  [PluginManager] Loading plugin &quot;plugins/rectangle.so&quot; ..</span>"
      ]
     },
     "metadata": {},
     "output_type": "display_data"
    },
    {
     "data": {
      "text/html": [
       "<span style=\"font-family: monospace; color: #000\">2021-06-02 10:26:10 INFO  main  [ShapeKDTree] Building a SAH kd-tree (6 primitives) ..</span>"
      ]
     },
     "metadata": {},
     "output_type": "display_data"
    },
    {
     "data": {
      "text/html": [
       "<span style=\"font-family: monospace; color: #bbb\">2021-06-02 10:26:10 DEBUG main  [TShapeKDTree] kd-tree configuration:</span>"
      ]
     },
     "metadata": {},
     "output_type": "display_data"
    },
    {
     "data": {
      "text/html": [
       "<span style=\"font-family: monospace; color: #bbb\">2021-06-02 10:26:10 DEBUG main  [TShapeKDTree]    Cost model               : SurfaceAreaHeuristic3[\n",
       "2021-06-02 10:26:10 DEBUG main  [TShapeKDTree]                                 query_cost = 20,\n",
       "2021-06-02 10:26:10 DEBUG main  [TShapeKDTree]                                 traversal_cost = 15,\n",
       "2021-06-02 10:26:10 DEBUG main  [TShapeKDTree]                                 empty_space_bonus = 0.9\n",
       "2021-06-02 10:26:10 DEBUG main  [TShapeKDTree]                               ]</span>"
      ]
     },
     "metadata": {},
     "output_type": "display_data"
    },
    {
     "data": {
      "text/html": [
       "<span style=\"font-family: monospace; color: #bbb\">2021-06-02 10:26:10 DEBUG main  [TShapeKDTree]    Max. tree depth          : 10</span>"
      ]
     },
     "metadata": {},
     "output_type": "display_data"
    },
    {
     "data": {
      "text/html": [
       "<span style=\"font-family: monospace; color: #bbb\">2021-06-02 10:26:10 DEBUG main  [TShapeKDTree]    Scene bounding box (min) : [-1, -1, -1]</span>"
      ]
     },
     "metadata": {},
     "output_type": "display_data"
    },
    {
     "data": {
      "text/html": [
       "<span style=\"font-family: monospace; color: #bbb\">2021-06-02 10:26:10 DEBUG main  [TShapeKDTree]    Scene bounding box (max) : [1, 1, 1]</span>"
      ]
     },
     "metadata": {},
     "output_type": "display_data"
    },
    {
     "data": {
      "text/html": [
       "<span style=\"font-family: monospace; color: #bbb\">2021-06-02 10:26:10 DEBUG main  [TShapeKDTree]    Min-max bins             : 128</span>"
      ]
     },
     "metadata": {},
     "output_type": "display_data"
    },
    {
     "data": {
      "text/html": [
       "<span style=\"font-family: monospace; color: #bbb\">2021-06-02 10:26:10 DEBUG main  [TShapeKDTree]    O(n log n) method        : use for &lt;= 65536 primitives</span>"
      ]
     },
     "metadata": {},
     "output_type": "display_data"
    },
    {
     "data": {
      "text/html": [
       "<span style=\"font-family: monospace; color: #bbb\">2021-06-02 10:26:10 DEBUG main  [TShapeKDTree]    Stopping primitive count : 3</span>"
      ]
     },
     "metadata": {},
     "output_type": "display_data"
    },
    {
     "data": {
      "text/html": [
       "<span style=\"font-family: monospace; color: #bbb\">2021-06-02 10:26:10 DEBUG main  [TShapeKDTree]    Perfect splits           : yes</span>"
      ]
     },
     "metadata": {},
     "output_type": "display_data"
    },
    {
     "data": {
      "text/html": [
       "<span style=\"font-family: monospace; color: #bbb\">2021-06-02 10:26:10 DEBUG main  [TShapeKDTree]    Retract bad splits       : yes</span>"
      ]
     },
     "metadata": {},
     "output_type": "display_data"
    },
    {
     "data": {
      "text/html": [
       "<span style=\"font-family: monospace; color: #bbb\">2021-06-02 10:26:10 DEBUG main  [TShapeKDTree] </span>"
      ]
     },
     "metadata": {},
     "output_type": "display_data"
    },
    {
     "data": {
      "text/html": [
       "<span style=\"font-family: monospace; color: #bbb\">2021-06-02 10:26:10 DEBUG main  [TShapeKDTree] Creating a preliminary index list (24 B)</span>"
      ]
     },
     "metadata": {},
     "output_type": "display_data"
    },
    {
     "data": {
      "text/html": [
       "<span style=\"font-family: monospace; color: #bbb\">2021-06-02 10:26:10 DEBUG main  [TShapeKDTree] Structural kd-tree statistics:</span>"
      ]
     },
     "metadata": {},
     "output_type": "display_data"
    },
    {
     "data": {
      "text/html": [
       "<span style=\"font-family: monospace; color: #bbb\">2021-06-02 10:26:10 DEBUG main  [TShapeKDTree]    Primitive references        : 6 (24 B)</span>"
      ]
     },
     "metadata": {},
     "output_type": "display_data"
    },
    {
     "data": {
      "text/html": [
       "<span style=\"font-family: monospace; color: #bbb\">2021-06-02 10:26:10 DEBUG main  [TShapeKDTree]    kd-tree nodes               : 1 (8 B)</span>"
      ]
     },
     "metadata": {},
     "output_type": "display_data"
    },
    {
     "data": {
      "text/html": [
       "<span style=\"font-family: monospace; color: #bbb\">2021-06-02 10:26:10 DEBUG main  [TShapeKDTree]    kd-tree depth               : 0</span>"
      ]
     },
     "metadata": {},
     "output_type": "display_data"
    },
    {
     "data": {
      "text/html": [
       "<span style=\"font-family: monospace; color: #bbb\">2021-06-02 10:26:10 DEBUG main  [TShapeKDTree]    Temporary storage used      : 5 MiB</span>"
      ]
     },
     "metadata": {},
     "output_type": "display_data"
    },
    {
     "data": {
      "text/html": [
       "<span style=\"font-family: monospace; color: #bbb\">2021-06-02 10:26:10 DEBUG main  [TShapeKDTree]    Parallel work units         : 1</span>"
      ]
     },
     "metadata": {},
     "output_type": "display_data"
    },
    {
     "data": {
      "text/html": [
       "<span style=\"font-family: monospace; color: #bbb\">2021-06-02 10:26:10 DEBUG main  [TShapeKDTree]    Leaf node histogram         : 0(0) 1(0) 2(0) 3(0) </span>"
      ]
     },
     "metadata": {},
     "output_type": "display_data"
    },
    {
     "data": {
      "text/html": [
       "<span style=\"font-family: monospace; color: #bbb\">2021-06-02 10:26:10 DEBUG main  [TShapeKDTree]                                  4(0) 5(0) 6(1) 7(0) </span>"
      ]
     },
     "metadata": {},
     "output_type": "display_data"
    },
    {
     "data": {
      "text/html": [
       "<span style=\"font-family: monospace; color: #bbb\">2021-06-02 10:26:10 DEBUG main  [TShapeKDTree]                                  8(0) 9(0) 10(0) 11(0) </span>"
      ]
     },
     "metadata": {},
     "output_type": "display_data"
    },
    {
     "data": {
      "text/html": [
       "<span style=\"font-family: monospace; color: #bbb\">2021-06-02 10:26:10 DEBUG main  [TShapeKDTree]                                  12(0) 13(0) 14(0) 15(0) </span>"
      ]
     },
     "metadata": {},
     "output_type": "display_data"
    },
    {
     "data": {
      "text/html": [
       "<span style=\"font-family: monospace; color: #bbb\">2021-06-02 10:26:10 DEBUG main  [TShapeKDTree] </span>"
      ]
     },
     "metadata": {},
     "output_type": "display_data"
    },
    {
     "data": {
      "text/html": [
       "<span style=\"font-family: monospace; color: #bbb\">2021-06-02 10:26:10 DEBUG main  [TShapeKDTree] Qualitative kd-tree statistics:</span>"
      ]
     },
     "metadata": {},
     "output_type": "display_data"
    },
    {
     "data": {
      "text/html": [
       "<span style=\"font-family: monospace; color: #bbb\">2021-06-02 10:26:10 DEBUG main  [TShapeKDTree]    Retracted splits            : 0</span>"
      ]
     },
     "metadata": {},
     "output_type": "display_data"
    },
    {
     "data": {
      "text/html": [
       "<span style=\"font-family: monospace; color: #bbb\">2021-06-02 10:26:10 DEBUG main  [TShapeKDTree]    Bad refines                 : 0</span>"
      ]
     },
     "metadata": {},
     "output_type": "display_data"
    },
    {
     "data": {
      "text/html": [
       "<span style=\"font-family: monospace; color: #bbb\">2021-06-02 10:26:10 DEBUG main  [TShapeKDTree]    Pruned                      : 0</span>"
      ]
     },
     "metadata": {},
     "output_type": "display_data"
    },
    {
     "data": {
      "text/html": [
       "<span style=\"font-family: monospace; color: #bbb\">2021-06-02 10:26:10 DEBUG main  [TShapeKDTree]    Largest leaf node           : 6 primitives</span>"
      ]
     },
     "metadata": {},
     "output_type": "display_data"
    },
    {
     "data": {
      "text/html": [
       "<span style=\"font-family: monospace; color: #bbb\">2021-06-02 10:26:10 DEBUG main  [TShapeKDTree]    Avg. prims/nonempty leaf    : 6.00</span>"
      ]
     },
     "metadata": {},
     "output_type": "display_data"
    },
    {
     "data": {
      "text/html": [
       "<span style=\"font-family: monospace; color: #bbb\">2021-06-02 10:26:10 DEBUG main  [TShapeKDTree]    Expected traversals/query   : 0.00</span>"
      ]
     },
     "metadata": {},
     "output_type": "display_data"
    },
    {
     "data": {
      "text/html": [
       "<span style=\"font-family: monospace; color: #bbb\">2021-06-02 10:26:10 DEBUG main  [TShapeKDTree]    Expected leaf visits/query  : 1.00</span>"
      ]
     },
     "metadata": {},
     "output_type": "display_data"
    },
    {
     "data": {
      "text/html": [
       "<span style=\"font-family: monospace; color: #bbb\">2021-06-02 10:26:10 DEBUG main  [TShapeKDTree]    Expected prim. visits/query : 6.00</span>"
      ]
     },
     "metadata": {},
     "output_type": "display_data"
    },
    {
     "data": {
      "text/html": [
       "<span style=\"font-family: monospace; color: #bbb\">2021-06-02 10:26:10 DEBUG main  [TShapeKDTree]    Final cost                  : 120.00</span>"
      ]
     },
     "metadata": {},
     "output_type": "display_data"
    },
    {
     "data": {
      "text/html": [
       "<span style=\"font-family: monospace; color: #bbb\">2021-06-02 10:26:10 DEBUG main  [TShapeKDTree] </span>"
      ]
     },
     "metadata": {},
     "output_type": "display_data"
    },
    {
     "data": {
      "text/html": [
       "<span style=\"font-family: monospace; color: #000\">2021-06-02 10:26:10 INFO  main  [ShapeKDTree] Finished. (32 B of storage, took 20ms)</span>"
      ]
     },
     "metadata": {},
     "output_type": "display_data"
    },
    {
     "data": {
      "text/html": [
       "<span style=\"font-family: monospace; color: #000\">2021-06-02 10:26:10 INFO  main  [PluginManager] Loading plugin &quot;plugins/instance.so&quot; ..</span>"
      ]
     },
     "metadata": {},
     "output_type": "display_data"
    },
    {
     "data": {
      "text/html": [
       "<span style=\"font-family: monospace; color: #000\">2021-06-02 10:26:10 INFO  main  [PluginManager] Loading plugin &quot;plugins/acousticpath.so&quot; ..</span>"
      ]
     },
     "metadata": {},
     "output_type": "display_data"
    },
    {
     "data": {
      "text/html": [
       "<span style=\"font-family: monospace; color: #000\">2021-06-02 10:26:10 INFO  main  [Scene] Building scene in OptiX ..</span>"
      ]
     },
     "metadata": {},
     "output_type": "display_data"
    }
   ],
   "source": [
    "from mitsuba.core.xml import load_string, load_dict\n",
    "\n",
    "bins = [1, 7, 17]\n",
    "absorption = [(a, np.random.uniform(0, 0.5)) for a in bins]\n",
    "\n",
    "config = {\n",
    "    \"bins\": bins,\n",
    "    \"absorption\": absorption,\n",
    "    \"scattering\": 0.5,\n",
    "    \"max_time\": 1,\n",
    "    \"time_steps\": 10,\n",
    "    \"spp\": 1000,\n",
    "    \"samples_per_pass\": 1000,\n",
    "    \"box_dimensions\": [25, 12, 7],\n",
    "    \"emitter_pos\": [20, 7, 2],\n",
    "    \"sensor_pos\": [9, 6, 1],\n",
    "    \"radius\": 1.,  #estimate_detector_radius(box_dimensions, spp)\n",
    "    \"max_depth\": 132, #estimate_max_depth(0.9),\n",
    "    \"rfilter\": {\n",
    "        \"type\": \"gaussian\",\n",
    "        \"stddev\": 0.5\n",
    "    }\n",
    "}\n",
    "\n",
    "scene_dict = make_shoebox_scene(**config)\n",
    "scene = load_dict(scene_dict)\n",
    "size = scene.sensors()[0].film().size()"
   ]
  },
  {
   "cell_type": "code",
   "execution_count": 4,
   "metadata": {},
   "outputs": [
    {
     "name": "stdout",
     "output_type": "stream",
     "text": [
      "ParameterMap[\n",
      "  * AcousticBSDF.scattering.value,\n",
      "    AcousticBSDF.scattering.lambda_min,\n",
      "    AcousticBSDF.scattering.lambda_max,\n",
      "  * AcousticBSDF.absorption.wavelengths,\n",
      "  * AcousticBSDF.absorption.values,\n",
      "    emitter.to_world,\n",
      "  * emitter.bsdf.reflectance.value,\n",
      "    emitter.bsdf.reflectance.lambda_min,\n",
      "    emitter.bsdf.reflectance.lambda_max,\n",
      "  * emitter.emitter.radiance.value,\n",
      "    emitter.emitter.radiance.lambda_min,\n",
      "    emitter.emitter.radiance.lambda_max,\n",
      "    Microphone.shutter_open,\n",
      "    Microphone.shutter_open_time,\n",
      "    shoebox_ref.child_0.to_world,\n",
      "    shoebox_ref.child_1.to_world,\n",
      "    shoebox_ref.child_2.to_world,\n",
      "    shoebox_ref.child_3.to_world,\n",
      "    shoebox_ref.child_4.to_world,\n",
      "    shoebox_ref.child_5.to_world,\n",
      "    Instance.to_world,\n",
      "]\n",
      "[0.5]\n"
     ]
    },
    {
     "data": {
      "image/png": "[encoded data removed]",
      "text/plain": [
       "<Figure size 432x288 with 1 Axes>"
      ]
     },
     "metadata": {
      "needs_background": "light"
     },
     "output_type": "display_data"
    }
   ],
   "source": [
    "from mitsuba.core import Spectrum, Float\n",
    "\n",
    "diff_param = 'AcousticBSDF.scattering.value'\n",
    "\n",
    "params = traverse(scene)\n",
    "print(params)\n",
    "print(params[diff_param])\n",
    "params.keep([diff_param])\n",
    "param_ref = Spectrum(params[diff_param])\n",
    "\n",
    "from mitsuba.python.autodiff import render\n",
    "hist_ref = render(scene, spp=None)\n",
    "plt.plot(get_vals(hist_ref, size))\n",
    "plt.show()"
   ]
  },
  {
   "cell_type": "code",
   "execution_count": 5,
   "metadata": {},
   "outputs": [],
   "source": [
    "class OptimizationPlot:\n",
    "    def __init__(self, name, bins, target, max_time=1.0):\n",
    "        self._error = []\n",
    "        self._bins = bins\n",
    "        self._max_time = max_time\n",
    "        self._target = target\n",
    "        \n",
    "        self._fig = plt.figure(figsize=(20, 10))\n",
    "        self._hfig = display(self._fig, display_id=True)\n",
    "        \n",
    "        self._fig.suptitle(name)\n",
    "        \n",
    "        self._axs = [\n",
    "            self._fig.add_subplot(1, 2, 1, projection='3d'),\n",
    "            self._fig.add_subplot(1, 2, 2)\n",
    "        ]\n",
    "        \n",
    "        self._axs[1].set_title(\"Error\")\n",
    "\n",
    "        def format_fn(tick_val, tick_pos):\n",
    "            hz = 343.0 / self._bins[tick_pos]\n",
    "            return f'{hz:.0f}'\n",
    "\n",
    "        self._axs[0].set_zlim(0, 1)\n",
    "        self._axs[0].set_xticks(np.arange(len(self._bins)))\n",
    "        self._axs[0].xaxis.set_major_formatter(format_fn)\n",
    "\n",
    "        self._axs[0].set_xlabel('\\nFrequency (Hz)', linespacing=3.2)\n",
    "        self._axs[0].set_ylabel('Time (s)')\n",
    "        self._axs[0].view_init(20, 40)\n",
    "\n",
    "    def plot_optimization_state(self, current, err_ref):\n",
    "\n",
    "        ax = self._axs[0]\n",
    "        ax2 = self._axs[1]\n",
    "        ax.cla()\n",
    "        ax2.cla()\n",
    "\n",
    "        Z = current\n",
    "        Z2 = self._target\n",
    "        self._error.append(err_ref)\n",
    "\n",
    "        X = np.linspace(0, len(self._bins), Z.shape[1])\n",
    "        Y = np.linspace(0, self._max_time, Z.shape[0])\n",
    "        X, Y = np.meshgrid(X, Y)\n",
    "\n",
    "        # Plot the surface.\n",
    "        surf = ax.plot_surface(X, Y, Z, cmap='inferno')\n",
    "        surf2 = ax.plot_wireframe(X, Y, Z2, alpha=0.5)\n",
    "        ax2.plot(self._error)\n",
    "        \n",
    "        self._fig.canvas.draw()\n",
    "        self._hfig.update(self._fig)\n",
    "    \n",
    "    def done(self):\n",
    "        plt.close(self._fig)\n",
    "\n",
    "    @property\n",
    "    def error(self):\n",
    "        return self._error"
   ]
  },
  {
   "cell_type": "code",
   "execution_count": 6,
   "metadata": {},
   "outputs": [],
   "source": [
    "from tqdm.notebook import trange, tqdm\n",
    "import wandb"
   ]
  },
  {
   "cell_type": "code",
   "execution_count": 7,
   "metadata": {},
   "outputs": [],
   "source": [
    "iterations = 100"
   ]
  },
  {
   "cell_type": "code",
   "execution_count": 8,
   "metadata": {},
   "outputs": [
    {
     "data": {
      "image/png": "[encoded data removed]",
      "text/plain": [
       "<Figure size 1440x720 with 2 Axes>"
      ]
     },
     "metadata": {},
     "output_type": "display_data"
    },
    {
     "data": {
      "application/vnd.jupyter.widget-view+json": {
       "model_id": "8ceb510410084cb8aaf2bcb6d32e193c",
       "version_major": 2,
       "version_minor": 0
      },
      "text/plain": [
       "HBox(children=(HTML(value='iterations'), FloatProgress(value=0.0), HTML(value='')))"
      ]
     },
     "metadata": {},
     "output_type": "display_data"
    },
    {
     "name": "stdout",
     "output_type": "stream",
     "text": [
      "\n"
     ]
    }
   ],
   "source": [
    "errors = {}\n",
    "np_hist_ref = get_vals(hist_ref, size)\n",
    "\n",
    "def mse(a, b):\n",
    "    return ek.hsum(ek.sqr(a - b)) / len(hist)\n",
    "\n",
    "def mse_decay(a, b):\n",
    "    return ek.hsum(ek.sqr(a - b) * ek.exp(-Float.linspace(0, 5, len(hist)))) / len(hist)\n",
    "\n",
    "err_func = mse\n",
    "params[diff_param] = [0.1] #* len(bins)\n",
    "\n",
    "# Construct an optimizer that will adjust the parameters 'params'\n",
    "from mitsuba.python.autodiff import Adam, SGD\n",
    "opt = SGD(params, lr=.2)\n",
    "\n",
    "opt_plot = OptimizationPlot(err_func.__name__, config['bins'], np_hist_ref, config['max_time'])\n",
    "\n",
    "for it in tqdm(range(iterations), desc='iterations'):\n",
    "    # Perform a differentiable rendering of the scene\n",
    "    hist = render(scene, optimizer=opt, unbiased=False, spp=None)\n",
    "\n",
    "    np_hist = get_vals(hist, size, copy=True)\n",
    "\n",
    "    # Objective: MSE between 'hist' and 'hist_ref'\n",
    "    ob_val = err_func(hist, hist_ref)\n",
    "\n",
    "    # Back-propagate errors to input parameters\n",
    "    ek.backward(ob_val)\n",
    "\n",
    "    # Optimizer: take a gradient step\n",
    "    opt.step()\n",
    "\n",
    "    # Compute error\n",
    "    err_ref = np.sum(np.square(param_ref - params[diff_param]))\n",
    "\n",
    "    # Plot progress\n",
    "    opt_plot.plot_optimization_state(np_hist, err_ref)\n",
    "    #wandb.log({\n",
    "    #    \"epoch\": i, \n",
    "    #    \"hist\": np_hist,\n",
    "    #    \"err\": err_ref\n",
    "    #})\n",
    "        \n",
    "opt_plot.done()\n",
    "errors[err_func.__name__] = opt_plot.error"
   ]
  },
  {
   "cell_type": "code",
   "execution_count": 9,
   "metadata": {},
   "outputs": [
    {
     "name": "stdout",
     "output_type": "stream",
     "text": [
      "[[0.5]]\n",
      "[0.457239]\n"
     ]
    }
   ],
   "source": [
    "print(param_ref)\n",
    "print(params[diff_param])"
   ]
  },
  {
   "cell_type": "code",
   "execution_count": null,
   "metadata": {},
   "outputs": [],
   "source": []
  }
 ],
 "metadata": {
  "kernelspec": {
   "display_name": "Python 3",
   "language": "python",
   "name": "python3"
  },
  "language_info": {
   "codemirror_mode": {
    "name": "ipython",
    "version": 3
   },
   "file_extension": ".py",
   "mimetype": "text/x-python",
   "name": "python",
   "nbconvert_exporter": "python",
   "pygments_lexer": "ipython3",
   "version": "3.8.5"
  }
 },
 "nbformat": 4,
 "nbformat_minor": 4
}
