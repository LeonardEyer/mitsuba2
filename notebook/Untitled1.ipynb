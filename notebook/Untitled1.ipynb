{
 "cells": [
  {
   "cell_type": "code",
   "execution_count": 1,
   "metadata": {},
   "outputs": [],
   "source": [
    "import numpy as np\n",
    "import matplotlib.pyplot as plt\n",
    "from utils import SOUND_SPEED, fractionalOctaves, plot_bin_hist\n",
    "import mitsuba"
   ]
  },
  {
   "cell_type": "code",
   "execution_count": 2,
   "metadata": {},
   "outputs": [],
   "source": [
    "mitsuba.set_variant(\"scalar_spectral\")"
   ]
  },
  {
   "cell_type": "code",
   "execution_count": 3,
   "metadata": {},
   "outputs": [],
   "source": [
    "def make_acoustic_step_width(step_width):\n",
    "    return mitsuba.core.xml.load_string(f'''\n",
    "        <spectrum version='2.0.0' type='acoustic'>\n",
    "            <float name=\"lambda_min\" value=\"0.017\"/>\n",
    "            <float name=\"lambda_max\" value=\"17\"/>\n",
    "            <integer name=\"octave_step_width\" value=\"{step_width}\"/>\n",
    "        </spectrum>''').expand()[0]\n",
    "\n",
    "def fractionalOctaveBin(f_high, f):\n",
    "    #return np.argmax(f_high > f, axis=0)\n",
    "    return np.searchsorted(f_high, f)\n",
    "\n",
    "center, low, high, nominal = fractionalOctaves(frac=1, f=(20, 20000))"
   ]
  },
  {
   "cell_type": "code",
   "execution_count": 7,
   "metadata": {},
   "outputs": [
    {
     "data": {
      "text/html": [
       "<span style=\"font-family: monospace; color: #000\">2021-01-18 11:18:40 INFO  main  [xml.cpp:355] &quot;&lt;string&gt;&quot;: in-memory version upgrade (v2.0.0 -&gt; v2.2.1) ..</span>"
      ]
     },
     "metadata": {},
     "output_type": "display_data"
    }
   ],
   "source": [
    "from mitsuba.render import SurfaceInteraction3f\n",
    "\n",
    "obj = make_acoustic_step_width(1)\n",
    "\n",
    "si = SurfaceInteraction3f()\n",
    "\n",
    "uniforms = np.random.uniform(size=10000)\n",
    "samples = []\n",
    "for i in uniforms:\n",
    "    sampled = obj.sample_spectrum(si, i)[0]\n",
    "    samples.append(sampled[0])\n",
    "    \n",
    "    \n",
    "flat_samples = np.array(samples)"
   ]
  },
  {
   "cell_type": "code",
   "execution_count": 28,
   "metadata": {},
   "outputs": [
    {
     "name": "stdout",
     "output_type": "stream",
     "text": [
      "[1.53212472e-02 3.05699072e-02 6.09949838e-02 1.21700993e-01\n",
      " 2.42825404e-01 4.84500378e-01 9.66705345e-01 1.92883075e+00\n",
      " 3.84852330e+00 7.67881351e+00 1.53212472e+01 3.05699072e+01]\n",
      "0.015336564742028713\n"
     ]
    }
   ],
   "source": [
    "wavs = np.flip(343 / np.concatenate(([low[0]],high)))\n",
    "bins = fractionalOctaveBin(wavs, flat_samples)\n",
    "print(wavs)\n",
    "print(min(flat_samples))"
   ]
  },
  {
   "cell_type": "code",
   "execution_count": 32,
   "metadata": {},
   "outputs": [
    {
     "name": "stdout",
     "output_type": "stream",
     "text": [
      "{0: 931.0, 1: 996.0, 2: 1000.0, 3: 984.0, 4: 1012.0, 5: 978.0, 6: 1023.0, 7: 1042.0, 8: 1032.0, 9: 1002.0}\n"
     ]
    },
    {
     "data": {
      "image/png": "[encoded data removed]",
      "text/plain": [
       "<Figure size 432x288 with 1 Axes>"
      ]
     },
     "metadata": {
      "needs_background": "light"
     },
     "output_type": "display_data"
    }
   ],
   "source": [
    "plot_bin_hist(bins - 1, 10)"
   ]
  },
  {
   "cell_type": "code",
   "execution_count": null,
   "metadata": {},
   "outputs": [],
   "source": []
  }
 ],
 "metadata": {
  "kernelspec": {
   "display_name": "Python 3",
   "language": "python",
   "name": "python3"
  },
  "language_info": {
   "codemirror_mode": {
    "name": "ipython",
    "version": 3
   },
   "file_extension": ".py",
   "mimetype": "text/x-python",
   "name": "python",
   "nbconvert_exporter": "python",
   "pygments_lexer": "ipython3",
   "version": "3.9.1"
  }
 },
 "nbformat": 4,
 "nbformat_minor": 4
}
