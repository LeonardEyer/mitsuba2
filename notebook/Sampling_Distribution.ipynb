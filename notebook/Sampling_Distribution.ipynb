{
 "cells": [
  {
   "cell_type": "code",
   "execution_count": 1,
   "metadata": {},
   "outputs": [],
   "source": [
    "import numpy as np\n",
    "import matplotlib.pyplot as plt\n",
    "import mitsuba\n",
    "from utils import SOUND_SPEED, LIGHT_SPEED, fractionalOctaves"
   ]
  },
  {
   "cell_type": "code",
   "execution_count": 2,
   "metadata": {},
   "outputs": [],
   "source": [
    "mitsuba.set_variant(\"scalar_acoustic\")"
   ]
  },
  {
   "cell_type": "code",
   "execution_count": 3,
   "metadata": {},
   "outputs": [],
   "source": [
    "from mitsuba.core import IrregularContinuousDistribution"
   ]
  },
  {
   "cell_type": "code",
   "execution_count": 4,
   "metadata": {},
   "outputs": [],
   "source": [
    "octave_freq = np.array([8, 16, 31.5, 63, 125, 250, 500, 1000, 2000, 4000, 8000, 16000])\n",
    "octave_wav = SOUND_SPEED / octave_freq\n",
    "\n",
    "d = IrregularContinuousDistribution(octave_freq, octave_wav / np.sum(octave_wav))"
   ]
  },
  {
   "cell_type": "code",
   "execution_count": 5,
   "metadata": {},
   "outputs": [
    {
     "data": {
      "text/plain": [
       "<matplotlib.legend.Legend at 0x12ebd2dd0>"
      ]
     },
     "execution_count": 5,
     "metadata": {},
     "output_type": "execute_result"
    },
    {
     "data": {
      "image/png": "[encoded data removed]",
      "text/plain": [
       "<Figure size 432x288 with 1 Axes>"
      ]
     },
     "metadata": {
      "needs_background": "light"
     },
     "output_type": "display_data"
    }
   ],
   "source": [
    "plt.stem(octave_freq / np.max(octave_freq), linefmt= 'C0-', markerfmt = 'C0o', label = 'octave (norm)')\n",
    "plt.stem(d.pdf(), linefmt= 'C2-', markerfmt = 'C2o', label= 'pdf')\n",
    "plt.legend()"
   ]
  },
  {
   "cell_type": "code",
   "execution_count": 203,
   "metadata": {},
   "outputs": [],
   "source": [
    "def plot_bin_hist(values, n_bins):\n",
    "    \n",
    "    unique, counts = np.unique(values, return_counts=True)\n",
    "    \n",
    "    counts_padded = np.zeros(shape=(n_bins))\n",
    "    unique_padded = np.arange(0, n_bins)\n",
    "    counts_padded[unique] = counts\n",
    "    \n",
    "    print(dict(zip(unique_padded, counts_padded)))\n",
    "    plt.bar(unique_padded, counts_padded)\n",
    "    \n",
    "def fractionalOctaveBin(f_high, f):\n",
    "    #return np.argmax(f_high > f, axis=1)\n",
    "    return np.digitize(f, f_high) #np.searchsorted(f_high, f, side='right')\n",
    "\n",
    "def logbin(mini, maxi, n_bins, x, log=np.log):    \n",
    "    \n",
    "    return np.clip(np.floor((n_bins) * (log(x / mini) / log(maxi / mini))).astype(int), 0, n_bins -1)"
   ]
  },
  {
   "cell_type": "code",
   "execution_count": 7,
   "metadata": {},
   "outputs": [],
   "source": [
    "uniform_samples = np.random.uniform(0, 1, 10000)\n",
    "\n",
    "distribution_samples = np.array([d.sample(x) for x in uniform_samples])\n",
    "\n",
    "bins = logbin(octave_freq.min(), octave_freq.max(), 10, distribution_samples)"
   ]
  },
  {
   "cell_type": "code",
   "execution_count": 8,
   "metadata": {},
   "outputs": [
    {
     "name": "stdout",
     "output_type": "stream",
     "text": [
      "{0: 1016.0, 1: 957.0, 2: 971.0, 3: 1024.0, 4: 1017.0, 5: 1027.0, 6: 1021.0, 7: 1005.0, 8: 1009.0, 9: 953.0}\n"
     ]
    },
    {
     "data": {
      "image/png": "[encoded data removed]",
      "text/plain": [
       "<Figure size 432x288 with 1 Axes>"
      ]
     },
     "metadata": {
      "needs_background": "light"
     },
     "output_type": "display_data"
    }
   ],
   "source": [
    "plot_bin_hist(bins, 10)"
   ]
  },
  {
   "cell_type": "code",
   "execution_count": 9,
   "metadata": {},
   "outputs": [
    {
     "name": "stdout",
     "output_type": "stream",
     "text": [
      "[22387.21138568 15848.93192461 11220.18454302  7943.28234724\n",
      "  5623.4132519   3981.07170554  2818.38293126  1995.26231497\n",
      "  1412.53754462  1000.           707.94578438   501.18723363\n",
      "   354.81338923   251.18864315   177.827941     125.89254118\n",
      "    89.12509381    63.09573445    44.66835922    31.6227766\n",
      "    22.38721139]\n"
     ]
    }
   ],
   "source": [
    "center, low, high, _ = fractionalOctaves(1)\n",
    "\n",
    "all_freq = np.concatenate((low, center, high))\n",
    "all_freq = np.unique(np.sort(all_freq.round(decimals=10)))\n",
    "\n",
    "all_wav = np.flip(SOUND_SPEED / all_freq)\n",
    "all_freq = np.flip(all_freq)\n",
    "print(all_freq)"
   ]
  },
  {
   "cell_type": "code",
   "execution_count": 10,
   "metadata": {},
   "outputs": [],
   "source": [
    "d = IrregularContinuousDistribution(all_wav, all_freq)"
   ]
  },
  {
   "cell_type": "code",
   "execution_count": 192,
   "metadata": {},
   "outputs": [
    {
     "ename": "NameError",
     "evalue": "name 'all_freq_wav' is not defined",
     "output_type": "error",
     "traceback": [
      "\u001b[0;31m---------------------------------------------------------------------------\u001b[0m",
      "\u001b[0;31mNameError\u001b[0m                                 Traceback (most recent call last)",
      "\u001b[0;32m<ipython-input-192-7efbae53a1bd>\u001b[0m in \u001b[0;36m<module>\u001b[0;34m\u001b[0m\n\u001b[1;32m      3\u001b[0m \u001b[0mdistribution_samples\u001b[0m \u001b[0;34m=\u001b[0m \u001b[0mnp\u001b[0m\u001b[0;34m.\u001b[0m\u001b[0marray\u001b[0m\u001b[0;34m(\u001b[0m\u001b[0;34m[\u001b[0m\u001b[0md\u001b[0m\u001b[0;34m.\u001b[0m\u001b[0msample\u001b[0m\u001b[0;34m(\u001b[0m\u001b[0mx\u001b[0m\u001b[0;34m)\u001b[0m \u001b[0;32mfor\u001b[0m \u001b[0mx\u001b[0m \u001b[0;32min\u001b[0m \u001b[0muniform_samples\u001b[0m\u001b[0;34m]\u001b[0m\u001b[0;34m)\u001b[0m\u001b[0;34m\u001b[0m\u001b[0;34m\u001b[0m\u001b[0m\n\u001b[1;32m      4\u001b[0m \u001b[0;34m\u001b[0m\u001b[0m\n\u001b[0;32m----> 5\u001b[0;31m \u001b[0mbins\u001b[0m \u001b[0;34m=\u001b[0m \u001b[0mlogbin\u001b[0m\u001b[0;34m(\u001b[0m\u001b[0mall_freq_wav\u001b[0m\u001b[0;34m.\u001b[0m\u001b[0mmin\u001b[0m\u001b[0;34m(\u001b[0m\u001b[0;34m)\u001b[0m\u001b[0;34m,\u001b[0m \u001b[0mall_freq_wav\u001b[0m\u001b[0;34m.\u001b[0m\u001b[0mmax\u001b[0m\u001b[0;34m(\u001b[0m\u001b[0;34m)\u001b[0m\u001b[0;34m,\u001b[0m \u001b[0;36m10\u001b[0m\u001b[0;34m,\u001b[0m \u001b[0mdistribution_samples\u001b[0m\u001b[0;34m)\u001b[0m\u001b[0;34m\u001b[0m\u001b[0;34m\u001b[0m\u001b[0m\n\u001b[0m",
      "\u001b[0;31mNameError\u001b[0m: name 'all_freq_wav' is not defined"
     ]
    }
   ],
   "source": [
    "uniform_samples = np.random.uniform(0, 1, 10000)\n",
    "\n",
    "distribution_samples = np.array([d.sample(x) for x in uniform_samples])\n",
    "\n",
    "bins = logbin(all_freq_wav.min(), all_freq_wav.max(), 10, distribution_samples)"
   ]
  },
  {
   "cell_type": "code",
   "execution_count": 193,
   "metadata": {},
   "outputs": [
    {
     "name": "stdout",
     "output_type": "stream",
     "text": [
      "{0: 0.0, 1: 1.0, 2: 0.0, 3: 0.0, 4: 0.0, 5: 0.0, 6: 0.0, 7: 0.0, 8: 0.0, 9: 0.0}\n"
     ]
    },
    {
     "data": {
      "image/png": "[encoded data removed]",
      "text/plain": [
       "<Figure size 432x288 with 1 Axes>"
      ]
     },
     "metadata": {
      "needs_background": "light"
     },
     "output_type": "display_data"
    }
   ],
   "source": [
    "plot_bin_hist(bins, 10)"
   ]
  },
  {
   "cell_type": "code",
   "execution_count": 194,
   "metadata": {},
   "outputs": [
    {
     "name": "stdout",
     "output_type": "stream",
     "text": [
      "[22387.2, 15848.9, 11220.2, 7943.28, 5623.41, .. 11 skipped .., 89.1251, 63.0957, 44.6684, 31.6228, 22.3872], 0.00041378\n",
      "--------------------------------------------------------------------------------------------------------------\n",
      "[9.26336, 6.55795, 4.64268, 3.28676, 2.32685, .. 11 skipped .., 0.0368781, 0.0261077, 0.0184828, 0.0130848, 0.00926336]\n"
     ]
    }
   ],
   "source": [
    "print(f'{d.pdf()}, {d.normalization():.8f}')\n",
    "print(\"-\"*110)\n",
    "print(d.pdf() * d.normalization())"
   ]
  },
  {
   "cell_type": "code",
   "execution_count": 195,
   "metadata": {},
   "outputs": [
    {
     "data": {
      "text/plain": [
       "array([   22.38721139,    31.6227766 ,    44.66835922,    63.09573445,\n",
       "          89.12509381,   125.89254118,   177.827941  ,   251.18864315,\n",
       "         354.81338923,   501.18723363,   707.94578438,  1000.        ,\n",
       "        1412.53754462,  1995.26231497,  2818.38293126,  3981.07170554,\n",
       "        5623.4132519 ,  7943.28234724, 11220.18454302, 15848.93192461,\n",
       "       22387.21138568])"
      ]
     },
     "execution_count": 195,
     "metadata": {},
     "output_type": "execute_result"
    }
   ],
   "source": [
    "center, low, high, _ = fractionalOctaves(1)\n",
    "\n",
    "all_freq = np.concatenate((low, center, high))\n",
    "all_freq = np.unique(np.sort(all_freq.round(decimals=10)))\n",
    "all_freq_wav = np.flip(SOUND_SPEED / all_freq)\n",
    "all_freq"
   ]
  },
  {
   "cell_type": "code",
   "execution_count": 196,
   "metadata": {},
   "outputs": [
    {
     "data": {
      "text/plain": [
       "array([   22.38721139,    44.66835922,    89.12509381,   177.827941  ,\n",
       "         354.81338923,   707.94578438,  1412.53754462,  2818.38293126,\n",
       "        5623.4132519 , 11220.18454302, 22387.21138568])"
      ]
     },
     "execution_count": 196,
     "metadata": {},
     "output_type": "execute_result"
    }
   ],
   "source": [
    "np.concatenate(([low[0]], high))"
   ]
  },
  {
   "cell_type": "code",
   "execution_count": 197,
   "metadata": {},
   "outputs": [],
   "source": [
    "from mitsuba.core import DiscreteDistribution"
   ]
  },
  {
   "cell_type": "code",
   "execution_count": 254,
   "metadata": {},
   "outputs": [],
   "source": [
    "octave_freq = np.array([8, 16, 31.5, 63, 125, 250, 500, 1000, 2000, 4000, 8000, 16000])\n",
    "#octave_freq = np.array([8, 16, 31.5, 63, 125, 250, 500, 1000, 2000, 4000])\n",
    "\n",
    "octave_wav = SOUND_SPEED / octave_freq\n",
    "\n",
    "continous = IrregularContinuousDistribution(octave_freq, octave_wav )"
   ]
  },
  {
   "cell_type": "code",
   "execution_count": 253,
   "metadata": {},
   "outputs": [
    {
     "name": "stdout",
     "output_type": "stream",
     "text": [
      "[0.07692308 0.15384615 0.23076923 0.30769231 0.38461538 0.46153846\n",
      " 0.53846154 0.61538462 0.69230769 0.76923077 0.84615385 0.92307692]\n",
      "[ 1  2  3  4  5  6  7  7  8  9 10 11]\n"
     ]
    }
   ],
   "source": [
    "uniform_samples = np.arange(1, len(octave_freq)) / (len(octave_freq))\n",
    "\n",
    "print(uniform_samples)\n",
    "\n",
    "distribution_samples = np.array([continous.sample(x) for x in uniform_samples])\n",
    "#print(distribution_samples - octave_freq)\n",
    "\n",
    "bins = fractionalOctaveBin(octave_freq, distribution_samples)\n",
    "print(bins)"
   ]
  },
  {
   "cell_type": "code",
   "execution_count": 246,
   "metadata": {},
   "outputs": [
    {
     "data": {
      "text/plain": [
       "8528.4111328125"
      ]
     },
     "execution_count": 246,
     "metadata": {},
     "output_type": "execute_result"
    }
   ],
   "source": [
    "continous.sample(0.91666667)"
   ]
  },
  {
   "cell_type": "code",
   "execution_count": 111,
   "metadata": {},
   "outputs": [],
   "source": [
    "def find_nearest(array, value):\n",
    "    array = np.asarray(array)\n",
    "    idx = (np.abs(array - value)).argmin()\n",
    "    return idx\n",
    "\n",
    "def find_uniform(distr, value):\n",
    "    x = np.linspace(0, 1, 1000)\n",
    "    arr = [distr.sample(y) for y in x]\n",
    "    idx =  find_nearest(arr, value)\n",
    "    return x[idx]"
   ]
  },
  {
   "cell_type": "code",
   "execution_count": 107,
   "metadata": {},
   "outputs": [
    {
     "data": {
      "text/plain": [
       "<matplotlib.legend.Legend at 0x12f691910>"
      ]
     },
     "execution_count": 107,
     "metadata": {},
     "output_type": "execute_result"
    },
    {
     "data": {
      "image/png": "[encoded data removed]",
      "text/plain": [
       "<Figure size 432x288 with 1 Axes>"
      ]
     },
     "metadata": {
      "needs_background": "light"
     },
     "output_type": "display_data"
    }
   ],
   "source": [
    "plt.plot(uniform_samples, label = 'uniform')\n",
    "plt.plot(distribution_samples, label = 'distr')\n",
    "plt.plot(octave_freq, label = 'octave')\n",
    "plt.legend()"
   ]
  },
  {
   "cell_type": "code",
   "execution_count": 163,
   "metadata": {},
   "outputs": [],
   "source": [
    "def sample_octave_freq(uniform, octave_freq):\n",
    "    idx = int(np.ceil(uniform * (len(octave_freq) - 1)))\n",
    "    return octave_freq[idx]"
   ]
  },
  {
   "cell_type": "code",
   "execution_count": 175,
   "metadata": {},
   "outputs": [],
   "source": [
    "select = np.arange(len(octave_freq)) / len(octave_freq)"
   ]
  },
  {
   "cell_type": "code",
   "execution_count": 176,
   "metadata": {},
   "outputs": [],
   "source": [
    "res = [sample_octave_freq(x, octave_freq) for x in select]\n",
    "    "
   ]
  },
  {
   "cell_type": "code",
   "execution_count": 255,
   "metadata": {},
   "outputs": [
    {
     "data": {
      "text/plain": [
       "16.0"
      ]
     },
     "execution_count": 255,
     "metadata": {},
     "output_type": "execute_result"
    }
   ],
   "source": [
    "sample_octave_freq(0.08, octave_freq)"
   ]
  },
  {
   "cell_type": "code",
   "execution_count": 483,
   "metadata": {},
   "outputs": [],
   "source": [
    "class IrregularDiscreteDistribution:\n",
    "    def __init__(self, nodes, pmf):\n",
    "        self._nodes = np.array(nodes)\n",
    "        self._cdf = np.zeros(len(nodes))\n",
    "        self._pmf = np.array(pmf)\n",
    "        self._integral = np.sum(pmf)\n",
    "        self.update()\n",
    "        \n",
    "    def update(self):\n",
    "        integral = 0\n",
    "        for i, x in enumerate(self._pmf):\n",
    "            integral += x\n",
    "            self._cdf[i] += integral\n",
    "            \n",
    "    def cdf_idx(self, uniform):\n",
    "        return np.searchsorted(self.cdf_norm, uniform)\n",
    "            \n",
    "    def sample(self, uniform): \n",
    "        return self._nodes[self.cdf_idx(uniform)]\n",
    "    \n",
    "    def sample_pdf(self, uniform):\n",
    "        idx = self.cdf_idx(uniform)\n",
    "        return (self._nodes[idx], self.pmf_norm[idx])\n",
    "    \n",
    "    def eval_cdf(self, x):\n",
    "        return self._cdf[self.cdf_idx(x)]\n",
    "        \n",
    "    def eval_pmf(self, x):\n",
    "        return self._pmf[self.cdf_idx(x)]\n",
    "    \n",
    "    def eval_cdf_normalized(self, x):\n",
    "        return self._cdf[self.cdf_idx(x)] / self._integral\n",
    "    \n",
    "    def eval_pmf_normalized(self, x):\n",
    "        return self._pmf[self.cdf_idx(x)] / self._integral\n",
    "    \n",
    "    @property\n",
    "    def cdf_norm(self):\n",
    "        return self._cdf / self._integral\n",
    "    \n",
    "    @property\n",
    "    def pmf_norm(self):\n",
    "        return self._pmf / self._integral"
   ]
  },
  {
   "cell_type": "code",
   "execution_count": 490,
   "metadata": {},
   "outputs": [],
   "source": [
    "x = np.linspace(0, 1, 1000)"
   ]
  },
  {
   "cell_type": "code",
   "execution_count": 506,
   "metadata": {},
   "outputs": [
    {
     "data": {
      "text/plain": [
       "<matplotlib.legend.Legend at 0x13e76fe10>"
      ]
     },
     "execution_count": 506,
     "metadata": {},
     "output_type": "execute_result"
    },
    {
     "data": {
      "image/png": "[encoded data removed]",
      "text/plain": [
       "<Figure size 432x288 with 1 Axes>"
      ]
     },
     "metadata": {
      "needs_background": "light"
     },
     "output_type": "display_data"
    }
   ],
   "source": [
    "irrdiscr = IrregularDiscreteDistribution([1, 3, 7, 2], [9, 7, 3, 8])\n",
    "node, pmf = irrdiscr.sample_pdf(x)\n",
    "cdf = irrdiscr.eval_cdf_normalized(x)\n",
    "\n",
    "plt.plot(node, label = 'node')\n",
    "plt.plot(pmf, label = 'pmf_norm')\n",
    "plt.plot(cdf, label = 'cdf_norm')\n",
    "plt.legend()"
   ]
  },
  {
   "cell_type": "code",
   "execution_count": null,
   "metadata": {},
   "outputs": [],
   "source": []
  }
 ],
 "metadata": {
  "kernelspec": {
   "display_name": "3.7.5",
   "language": "python",
   "name": "3.7.5"
  },
  "language_info": {
   "codemirror_mode": {
    "name": "ipython",
    "version": 3
   },
   "file_extension": ".py",
   "mimetype": "text/x-python",
   "name": "python",
   "nbconvert_exporter": "python",
   "pygments_lexer": "ipython3",
   "version": "3.7.5"
  }
 },
 "nbformat": 4,
 "nbformat_minor": 4
}
