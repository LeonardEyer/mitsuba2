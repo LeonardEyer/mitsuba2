{
 "cells": [
  {
   "cell_type": "code",
   "execution_count": 1,
   "metadata": {},
   "outputs": [
    {
     "data": {
      "text/html": [
       "<span style=\"font-family: monospace; color: #000\">2021-05-07 16:28:52 INFO  main  [optix_api.cpp:56] Dynamic loading of the Optix library ..</span>"
      ]
     },
     "metadata": {},
     "output_type": "display_data"
    }
   ],
   "source": [
    "import enoki as ek\n",
    "import numpy as np\n",
    "import matplotlib.pyplot as plt\n",
    "import mitsuba\n",
    "mitsuba.set_variant('gpu_autodiff_acoustic')\n",
    "from mitsuba.python.util import traverse\n",
    "from IPython import display\n",
    "import time"
   ]
  },
  {
   "cell_type": "code",
   "execution_count": 2,
   "metadata": {},
   "outputs": [],
   "source": [
    "def pad_first_zeros(arr):\n",
    "    non_zero = (arr!=0).argmax(axis=0)\n",
    "    ret = np.copy(arr)\n",
    "    \n",
    "    arr_pad = np.copy(arr)\n",
    "    for i,v in enumerate(non_zero):\n",
    "        arr_pad[:v,i] = 1\n",
    "    \n",
    "    return arr_pad\n",
    "\n",
    "def estimate_detector_radius(room_dimensions, N):\n",
    "    return ((15 * room_dimensions[0] * room_dimensions[1] * room_dimensions[2]) / (2 * np.pi * N))**(1/2)\n",
    "\n",
    "def estimate_max_depth(box_dimensions, max_time, boost=1):\n",
    "    max_box_distance = np.linalg.norm(box_dimensions) / 2\n",
    "    max_box_time = max_box_distance / 343\n",
    "    max_depth_estimate = np.ceil(max_time / max_box_time * boost).astype(int) \n",
    "    return max_depth_estimate\n",
    "\n",
    "def make_shoebox_scene(emitter_pos, sensor_pos, box_dimensions, radius, max_time, time_steps, spp, wavs, max_depth=5, samples_per_pass=1, scattering=0.0,\n",
    "                       absorption=0.0, hide_sensor=True):\n",
    "    from mitsuba.core import ScalarTransform4f\n",
    "\n",
    "    def transform(scale=None, rotate=None, translate=None):\n",
    "        if translate is None:\n",
    "            translate = [0, 0, 0]\n",
    "        if scale is None:\n",
    "            scale = [1, 1, 1]\n",
    "        if rotate is None:\n",
    "            rotate = ([0, 0, 0], 0)\n",
    "\n",
    "        a = ScalarTransform4f.scale(scale)\n",
    "        b = ScalarTransform4f.rotate(*rotate)\n",
    "        c = ScalarTransform4f.translate(translate)\n",
    "        return c * b * a\n",
    "\n",
    "    global_translation = transform(translate=np.array(box_dimensions) / 2)\n",
    "\n",
    "    scene = {\n",
    "        \"type\": \"scene\",\n",
    "        \"bsdf_neutral\": {\n",
    "            \"type\": \"acousticbsdf\",\n",
    "            \"scattering\": {\n",
    "                \"type\": \"acoustic\",\n",
    "                \"value\": scattering\n",
    "            },\n",
    "            \"absorption\": {\n",
    "                \"type\": \"spectrum\",\n",
    "#                \"type\": \"acoustic\",\n",
    "#                \"absorption\": True,\n",
    "                \"value\": absorption\n",
    "            }\n",
    "        },\n",
    "        \"emitter_shape\": {\n",
    "            \"id\": \"emitter\",\n",
    "            \"type\": \"sphere\",\n",
    "            \"radius\": radius,\n",
    "            \"to_world\": transform(translate=emitter_pos),\n",
    "            \"emitter\": {\n",
    "                \"type\": \"area\",\n",
    "                \"radiance\": {\n",
    "                    \"type\": \"uniform\",\n",
    "                    \"value\": 1\n",
    "                }\n",
    "            }\n",
    "        },\n",
    "        \"sensor\": {\n",
    "            \"type\": \"microphone\",\n",
    "            \"to_world\": transform(translate=sensor_pos),\n",
    "            \"wavelengths\": ','.join(str(x) for x in wavs[:-1]),\n",
    "            \"sampler\": {\n",
    "                \"type\": \"independent\",\n",
    "                \"sample_count\": spp\n",
    "            },\n",
    "            \"myfilm\": {\n",
    "                \"type\": \"tape\",\n",
    "                \"max_time\": max_time,\n",
    "                \"time_steps\": time_steps,\n",
    "            }  \n",
    "        },\n",
    "        \"shoebox\": {\n",
    "            \"id\": \"shoebox_ref\",\n",
    "            \"type\": \"shapegroup\",\n",
    "            \"bottom\": {\n",
    "                \"type\": \"rectangle\",\n",
    "                \"to_world\": transform(\n",
    "                    scale=[1, 1, 1],\n",
    "                    translate=[0, 0, -1]),\n",
    "                \"bsdf\": {\n",
    "                    \"type\": \"ref\",\n",
    "                    \"id\": \"bsdf_neutral\"\n",
    "                }\n",
    "            },\n",
    "            \"left\": {\n",
    "                \"type\": \"rectangle\",\n",
    "                \"to_world\": transform(\n",
    "                    scale=[1, 1, 1],\n",
    "                    rotate=([0, 1, 0], 90),\n",
    "                    translate=[-1, 0, 0]),\n",
    "                \"bsdf\": {\n",
    "                    \"type\": \"ref\",\n",
    "                    \"id\": \"bsdf_neutral\"\n",
    "                }\n",
    "            },\n",
    "            \"back\": {\n",
    "                \"type\": \"rectangle\",\n",
    "                \"to_world\": transform(\n",
    "                    scale=[1, 1, 1],\n",
    "                    rotate=([1, 0, 0], 90),\n",
    "                    translate=[0, 1, 0]),\n",
    "                \"bsdf\": {\n",
    "                    \"type\": \"ref\",\n",
    "                    \"id\": \"bsdf_neutral\"\n",
    "                }\n",
    "            },\n",
    "            \"front\": {\n",
    "                \"type\": \"rectangle\",\n",
    "                \"to_world\": transform(\n",
    "                    scale=[1, 1, 1],\n",
    "                    rotate=([1, 0, 0], -90),\n",
    "                    translate=[0, -1, 0]),\n",
    "                \"bsdf\": {\n",
    "                    \"type\": \"ref\",\n",
    "                    \"id\": \"bsdf_neutral\"\n",
    "                }\n",
    "            },\n",
    "            \"right\": {\n",
    "                \"type\": \"rectangle\",\n",
    "                \"to_world\": transform(\n",
    "                    scale=[1, 1, 1],\n",
    "                    rotate=([0, 1, 0], -90),\n",
    "                    translate=[1, 0, 0]),\n",
    "                \"bsdf\": {\n",
    "                    \"type\": \"ref\",\n",
    "                    \"id\": \"bsdf_neutral\"\n",
    "                }\n",
    "            },\n",
    "            \"top\": {\n",
    "                \"type\": \"rectangle\",\n",
    "                \"to_world\": transform(\n",
    "                    scale=[1, 1, 1],\n",
    "                    rotate=([0, 1, 0], 180),\n",
    "                    translate=[0, 0, 1]),\n",
    "                \"bsdf\": {\n",
    "                    \"type\": \"ref\",\n",
    "                    \"id\": \"bsdf_neutral\"\n",
    "                }\n",
    "            }\n",
    "        },\n",
    "        \"shoebox_instance\": {\n",
    "            \"type\": \"instance\",\n",
    "            \"shape\": {\n",
    "                \"type\": \"ref\",\n",
    "                \"id\": \"shoebox_ref\"\n",
    "            },\n",
    "            \"to_world\": global_translation * transform(scale=np.array(box_dimensions) / 2)\n",
    "        },\n",
    "        \"integrator\": {\n",
    "            \"type\": \"acousticpath\",\n",
    "            \"max_depth\": int(max_depth),\n",
    "            \"max_time\": max_time,\n",
    "            \"wavelength_bins\": ','.join(str(x) for x in wavs),\n",
    "            \"samples_per_pass\": samples_per_pass\n",
    "        }\n",
    "    }\n",
    "    return scene\n",
    "\n",
    "def get_vals(data, time_steps, bin_count):\n",
    "    return np.array(data, copy=False).reshape([time_steps, bin_count])\n",
    "\n",
    "\n",
    "def make_integrator(bins, samples_per_pass, max_depth=5, max_time=1.):\n",
    "    str_bins = list(map(str, bins))\n",
    "    from mitsuba.core.xml import load_string\n",
    "\n",
    "    integrator = load_string(f\"\"\"\n",
    "    <integrator version='2.0.0' type='acousticpath'>\n",
    "        <float name='max_time' value='{max_time}'/>\n",
    "        <integer name='max_depth' value='{max_depth}'/>\n",
    "        <string name='wavelength_bins' value='{','.join(str_bins)}'/>\n",
    "        <integer name='samples_per_pass' value='{samples_per_pass}'/>\n",
    "    </integrator>\n",
    "    \"\"\")\n",
    "    assert integrator is not None\n",
    "    return integrator\n"
   ]
  },
  {
   "cell_type": "code",
   "execution_count": 3,
   "metadata": {},
   "outputs": [
    {
     "data": {
      "text/html": [
       "<span style=\"font-family: monospace; color: #000\">2021-05-07 16:28:54 INFO  main  [PluginManager] Loading plugin &quot;plugins/acousticbsdf.so&quot; ..</span>"
      ]
     },
     "metadata": {},
     "output_type": "display_data"
    },
    {
     "data": {
      "text/html": [
       "<span style=\"font-family: monospace; color: #000\">2021-05-07 16:28:54 INFO  main  [PluginManager] Loading plugin &quot;plugins/acoustic.so&quot; ..</span>"
      ]
     },
     "metadata": {},
     "output_type": "display_data"
    },
    {
     "data": {
      "text/html": [
       "<span style=\"font-family: monospace; color: #000\">2021-05-07 16:28:54 INFO  main  [PluginManager] Loading plugin &quot;plugins/uniform.so&quot; ..</span>"
      ]
     },
     "metadata": {},
     "output_type": "display_data"
    },
    {
     "data": {
      "text/html": [
       "<span style=\"font-family: monospace; color: #000\">2021-05-07 16:28:54 INFO  main  [PluginManager] Loading plugin &quot;plugins/sphere.so&quot; ..</span>"
      ]
     },
     "metadata": {},
     "output_type": "display_data"
    },
    {
     "data": {
      "text/html": [
       "<span style=\"font-family: monospace; color: #000\">2021-05-07 16:28:54 INFO  main  [PluginManager] Loading plugin &quot;plugins/area.so&quot; ..</span>"
      ]
     },
     "metadata": {},
     "output_type": "display_data"
    },
    {
     "data": {
      "text/html": [
       "<span style=\"font-family: monospace; color: #000\">2021-05-07 16:28:54 INFO  main  [PluginManager] Loading plugin &quot;plugins/d65.so&quot; ..</span>"
      ]
     },
     "metadata": {},
     "output_type": "display_data"
    },
    {
     "data": {
      "text/html": [
       "<span style=\"font-family: monospace; color: #000\">2021-05-07 16:28:54 INFO  main  [PluginManager] Loading plugin &quot;plugins/regular.so&quot; ..</span>"
      ]
     },
     "metadata": {},
     "output_type": "display_data"
    },
    {
     "data": {
      "text/html": [
       "<span style=\"font-family: monospace; color: #000\">2021-05-07 16:28:54 INFO  main  [PluginManager] Loading plugin &quot;plugins/diffuse.so&quot; ..</span>"
      ]
     },
     "metadata": {},
     "output_type": "display_data"
    },
    {
     "data": {
      "text/html": [
       "<span style=\"font-family: monospace; color: #000\">2021-05-07 16:28:54 INFO  main  [PluginManager] Loading plugin &quot;plugins/microphone.so&quot; ..</span>"
      ]
     },
     "metadata": {},
     "output_type": "display_data"
    },
    {
     "data": {
      "text/html": [
       "<span style=\"font-family: monospace; color: #000\">2021-05-07 16:28:54 INFO  main  [PluginManager] Loading plugin &quot;plugins/independent.so&quot; ..</span>"
      ]
     },
     "metadata": {},
     "output_type": "display_data"
    },
    {
     "data": {
      "text/html": [
       "<span style=\"font-family: monospace; color: #000\">2021-05-07 16:28:54 INFO  main  [PluginManager] Loading plugin &quot;plugins/tape.so&quot; ..</span>"
      ]
     },
     "metadata": {},
     "output_type": "display_data"
    },
    {
     "data": {
      "text/html": [
       "<span style=\"font-family: monospace; color: #000\">2021-05-07 16:28:54 INFO  main  [PluginManager] Loading plugin &quot;plugins/gaussian.so&quot; ..</span>"
      ]
     },
     "metadata": {},
     "output_type": "display_data"
    },
    {
     "data": {
      "text/html": [
       "<span style=\"font-family: monospace; color: #000\">2021-05-07 16:28:54 INFO  main  [PluginManager] Loading plugin &quot;plugins/shapegroup.so&quot; ..</span>"
      ]
     },
     "metadata": {},
     "output_type": "display_data"
    },
    {
     "data": {
      "text/html": [
       "<span style=\"font-family: monospace; color: #000\">2021-05-07 16:28:54 INFO  main  [PluginManager] Loading plugin &quot;plugins/rectangle.so&quot; ..</span>"
      ]
     },
     "metadata": {},
     "output_type": "display_data"
    },
    {
     "data": {
      "text/html": [
       "<span style=\"font-family: monospace; color: #000\">2021-05-07 16:28:54 INFO  main  [ShapeKDTree] Building a SAH kd-tree (6 primitives) ..</span>"
      ]
     },
     "metadata": {},
     "output_type": "display_data"
    },
    {
     "data": {
      "text/html": [
       "<span style=\"font-family: monospace; color: #bbb\">2021-05-07 16:28:54 DEBUG main  [TShapeKDTree] kd-tree configuration:</span>"
      ]
     },
     "metadata": {},
     "output_type": "display_data"
    },
    {
     "data": {
      "text/html": [
       "<span style=\"font-family: monospace; color: #bbb\">2021-05-07 16:28:54 DEBUG main  [TShapeKDTree]    Cost model               : SurfaceAreaHeuristic3[\n",
       "2021-05-07 16:28:54 DEBUG main  [TShapeKDTree]                                 query_cost = 20,\n",
       "2021-05-07 16:28:54 DEBUG main  [TShapeKDTree]                                 traversal_cost = 15,\n",
       "2021-05-07 16:28:54 DEBUG main  [TShapeKDTree]                                 empty_space_bonus = 0.9\n",
       "2021-05-07 16:28:54 DEBUG main  [TShapeKDTree]                               ]</span>"
      ]
     },
     "metadata": {},
     "output_type": "display_data"
    },
    {
     "data": {
      "text/html": [
       "<span style=\"font-family: monospace; color: #bbb\">2021-05-07 16:28:54 DEBUG main  [TShapeKDTree]    Max. tree depth          : 10</span>"
      ]
     },
     "metadata": {},
     "output_type": "display_data"
    },
    {
     "data": {
      "text/html": [
       "<span style=\"font-family: monospace; color: #bbb\">2021-05-07 16:28:54 DEBUG main  [TShapeKDTree]    Scene bounding box (min) : [-1, -1, -1]</span>"
      ]
     },
     "metadata": {},
     "output_type": "display_data"
    },
    {
     "data": {
      "text/html": [
       "<span style=\"font-family: monospace; color: #bbb\">2021-05-07 16:28:54 DEBUG main  [TShapeKDTree]    Scene bounding box (max) : [1, 1, 1]</span>"
      ]
     },
     "metadata": {},
     "output_type": "display_data"
    },
    {
     "data": {
      "text/html": [
       "<span style=\"font-family: monospace; color: #bbb\">2021-05-07 16:28:54 DEBUG main  [TShapeKDTree]    Min-max bins             : 128</span>"
      ]
     },
     "metadata": {},
     "output_type": "display_data"
    },
    {
     "data": {
      "text/html": [
       "<span style=\"font-family: monospace; color: #bbb\">2021-05-07 16:28:54 DEBUG main  [TShapeKDTree]    O(n log n) method        : use for &lt;= 65536 primitives</span>"
      ]
     },
     "metadata": {},
     "output_type": "display_data"
    },
    {
     "data": {
      "text/html": [
       "<span style=\"font-family: monospace; color: #bbb\">2021-05-07 16:28:54 DEBUG main  [TShapeKDTree]    Stopping primitive count : 3</span>"
      ]
     },
     "metadata": {},
     "output_type": "display_data"
    },
    {
     "data": {
      "text/html": [
       "<span style=\"font-family: monospace; color: #bbb\">2021-05-07 16:28:54 DEBUG main  [TShapeKDTree]    Perfect splits           : yes</span>"
      ]
     },
     "metadata": {},
     "output_type": "display_data"
    },
    {
     "data": {
      "text/html": [
       "<span style=\"font-family: monospace; color: #bbb\">2021-05-07 16:28:54 DEBUG main  [TShapeKDTree]    Retract bad splits       : yes</span>"
      ]
     },
     "metadata": {},
     "output_type": "display_data"
    },
    {
     "data": {
      "text/html": [
       "<span style=\"font-family: monospace; color: #bbb\">2021-05-07 16:28:54 DEBUG main  [TShapeKDTree] </span>"
      ]
     },
     "metadata": {},
     "output_type": "display_data"
    },
    {
     "data": {
      "text/html": [
       "<span style=\"font-family: monospace; color: #bbb\">2021-05-07 16:28:54 DEBUG main  [TShapeKDTree] Creating a preliminary index list (24 B)</span>"
      ]
     },
     "metadata": {},
     "output_type": "display_data"
    },
    {
     "data": {
      "text/html": [
       "<span style=\"font-family: monospace; color: #bbb\">2021-05-07 16:28:54 DEBUG main  [TShapeKDTree] Structural kd-tree statistics:</span>"
      ]
     },
     "metadata": {},
     "output_type": "display_data"
    },
    {
     "data": {
      "text/html": [
       "<span style=\"font-family: monospace; color: #bbb\">2021-05-07 16:28:54 DEBUG main  [TShapeKDTree]    Primitive references        : 6 (24 B)</span>"
      ]
     },
     "metadata": {},
     "output_type": "display_data"
    },
    {
     "data": {
      "text/html": [
       "<span style=\"font-family: monospace; color: #bbb\">2021-05-07 16:28:54 DEBUG main  [TShapeKDTree]    kd-tree nodes               : 1 (8 B)</span>"
      ]
     },
     "metadata": {},
     "output_type": "display_data"
    },
    {
     "data": {
      "text/html": [
       "<span style=\"font-family: monospace; color: #bbb\">2021-05-07 16:28:54 DEBUG main  [TShapeKDTree]    kd-tree depth               : 0</span>"
      ]
     },
     "metadata": {},
     "output_type": "display_data"
    },
    {
     "data": {
      "text/html": [
       "<span style=\"font-family: monospace; color: #bbb\">2021-05-07 16:28:54 DEBUG main  [TShapeKDTree]    Temporary storage used      : 5 MiB</span>"
      ]
     },
     "metadata": {},
     "output_type": "display_data"
    },
    {
     "data": {
      "text/html": [
       "<span style=\"font-family: monospace; color: #bbb\">2021-05-07 16:28:54 DEBUG main  [TShapeKDTree]    Parallel work units         : 1</span>"
      ]
     },
     "metadata": {},
     "output_type": "display_data"
    },
    {
     "data": {
      "text/html": [
       "<span style=\"font-family: monospace; color: #bbb\">2021-05-07 16:28:54 DEBUG main  [TShapeKDTree]    Leaf node histogram         : 0(0) 1(0) 2(0) 3(0) </span>"
      ]
     },
     "metadata": {},
     "output_type": "display_data"
    },
    {
     "data": {
      "text/html": [
       "<span style=\"font-family: monospace; color: #bbb\">2021-05-07 16:28:54 DEBUG main  [TShapeKDTree]                                  4(0) 5(0) 6(1) 7(0) </span>"
      ]
     },
     "metadata": {},
     "output_type": "display_data"
    },
    {
     "data": {
      "text/html": [
       "<span style=\"font-family: monospace; color: #bbb\">2021-05-07 16:28:54 DEBUG main  [TShapeKDTree]                                  8(0) 9(0) 10(0) 11(0) </span>"
      ]
     },
     "metadata": {},
     "output_type": "display_data"
    },
    {
     "data": {
      "text/html": [
       "<span style=\"font-family: monospace; color: #bbb\">2021-05-07 16:28:54 DEBUG main  [TShapeKDTree]                                  12(0) 13(0) 14(0) 15(0) </span>"
      ]
     },
     "metadata": {},
     "output_type": "display_data"
    },
    {
     "data": {
      "text/html": [
       "<span style=\"font-family: monospace; color: #bbb\">2021-05-07 16:28:54 DEBUG main  [TShapeKDTree] </span>"
      ]
     },
     "metadata": {},
     "output_type": "display_data"
    },
    {
     "data": {
      "text/html": [
       "<span style=\"font-family: monospace; color: #bbb\">2021-05-07 16:28:54 DEBUG main  [TShapeKDTree] Qualitative kd-tree statistics:</span>"
      ]
     },
     "metadata": {},
     "output_type": "display_data"
    },
    {
     "data": {
      "text/html": [
       "<span style=\"font-family: monospace; color: #bbb\">2021-05-07 16:28:54 DEBUG main  [TShapeKDTree]    Retracted splits            : 0</span>"
      ]
     },
     "metadata": {},
     "output_type": "display_data"
    },
    {
     "data": {
      "text/html": [
       "<span style=\"font-family: monospace; color: #bbb\">2021-05-07 16:28:54 DEBUG main  [TShapeKDTree]    Bad refines                 : 0</span>"
      ]
     },
     "metadata": {},
     "output_type": "display_data"
    },
    {
     "data": {
      "text/html": [
       "<span style=\"font-family: monospace; color: #bbb\">2021-05-07 16:28:54 DEBUG main  [TShapeKDTree]    Pruned                      : 0</span>"
      ]
     },
     "metadata": {},
     "output_type": "display_data"
    },
    {
     "data": {
      "text/html": [
       "<span style=\"font-family: monospace; color: #bbb\">2021-05-07 16:28:54 DEBUG main  [TShapeKDTree]    Largest leaf node           : 6 primitives</span>"
      ]
     },
     "metadata": {},
     "output_type": "display_data"
    },
    {
     "data": {
      "text/html": [
       "<span style=\"font-family: monospace; color: #bbb\">2021-05-07 16:28:54 DEBUG main  [TShapeKDTree]    Avg. prims/nonempty leaf    : 6.00</span>"
      ]
     },
     "metadata": {},
     "output_type": "display_data"
    },
    {
     "data": {
      "text/html": [
       "<span style=\"font-family: monospace; color: #bbb\">2021-05-07 16:28:54 DEBUG main  [TShapeKDTree]    Expected traversals/query   : 0.00</span>"
      ]
     },
     "metadata": {},
     "output_type": "display_data"
    },
    {
     "data": {
      "text/html": [
       "<span style=\"font-family: monospace; color: #bbb\">2021-05-07 16:28:54 DEBUG main  [TShapeKDTree]    Expected leaf visits/query  : 1.00</span>"
      ]
     },
     "metadata": {},
     "output_type": "display_data"
    },
    {
     "data": {
      "text/html": [
       "<span style=\"font-family: monospace; color: #bbb\">2021-05-07 16:28:54 DEBUG main  [TShapeKDTree]    Expected prim. visits/query : 6.00</span>"
      ]
     },
     "metadata": {},
     "output_type": "display_data"
    },
    {
     "data": {
      "text/html": [
       "<span style=\"font-family: monospace; color: #bbb\">2021-05-07 16:28:54 DEBUG main  [TShapeKDTree]    Final cost                  : 120.00</span>"
      ]
     },
     "metadata": {},
     "output_type": "display_data"
    },
    {
     "data": {
      "text/html": [
       "<span style=\"font-family: monospace; color: #bbb\">2021-05-07 16:28:54 DEBUG main  [TShapeKDTree] </span>"
      ]
     },
     "metadata": {},
     "output_type": "display_data"
    },
    {
     "data": {
      "text/html": [
       "<span style=\"font-family: monospace; color: #000\">2021-05-07 16:28:54 INFO  main  [ShapeKDTree] Finished. (32 B of storage, took 17ms)</span>"
      ]
     },
     "metadata": {},
     "output_type": "display_data"
    },
    {
     "data": {
      "text/html": [
       "<span style=\"font-family: monospace; color: #000\">2021-05-07 16:28:54 INFO  main  [PluginManager] Loading plugin &quot;plugins/instance.so&quot; ..</span>"
      ]
     },
     "metadata": {},
     "output_type": "display_data"
    },
    {
     "data": {
      "text/html": [
       "<span style=\"font-family: monospace; color: #000\">2021-05-07 16:28:54 INFO  main  [PluginManager] Loading plugin &quot;plugins/acousticpath.so&quot; ..</span>"
      ]
     },
     "metadata": {},
     "output_type": "display_data"
    },
    {
     "data": {
      "text/html": [
       "<span style=\"font-family: monospace; color: #000\">2021-05-07 16:28:54 INFO  main  [Scene] Building scene in OptiX ..</span>"
      ]
     },
     "metadata": {},
     "output_type": "display_data"
    }
   ],
   "source": [
    "from mitsuba.core.xml import load_string, load_dict\n",
    "\n",
    "bins = [3, 6]\n",
    "absorption = 0.9 #[(3.0, 0.9), (6.0, 0.5)]\n",
    "max_time = 1\n",
    "time_steps = 10 * max_time\n",
    "spp = 1000\n",
    "box_dimensions=[25, 12, 7]\n",
    "emitter_pos=[20, 7, 2]\n",
    "sensor_pos=[9, 6, 1]\n",
    "max_depth_estimate = estimate_max_depth(box_dimensions, max_time, boost=1.5)\n",
    "\n",
    "scene = load_dict(make_shoebox_scene(emitter_pos=emitter_pos,\n",
    "                                     sensor_pos=sensor_pos,\n",
    "                                     box_dimensions=box_dimensions,\n",
    "                                     radius=estimate_detector_radius(box_dimensions, spp),\n",
    "                                     max_time=max_time,\n",
    "                                     time_steps=time_steps,\n",
    "                                     spp=spp,\n",
    "                                     wavs=bins,\n",
    "                                     max_depth=max_depth_estimate,\n",
    "                                     samples_per_pass=1000,\n",
    "                                     scattering=0.0,\n",
    "                                     absorption=absorption))\n"
   ]
  },
  {
   "cell_type": "code",
   "execution_count": 4,
   "metadata": {},
   "outputs": [
    {
     "name": "stdout",
     "output_type": "stream",
     "text": [
      "ParameterMap[\n",
      "  * AcousticBSDF.scattering.value,\n",
      "    AcousticBSDF.scattering.lambda_min,\n",
      "    AcousticBSDF.scattering.lambda_max,\n",
      "  * AcousticBSDF.absorption.value,\n",
      "    AcousticBSDF.absorption.lambda_min,\n",
      "    AcousticBSDF.absorption.lambda_max,\n",
      "    emitter.to_world,\n",
      "  * emitter.bsdf.reflectance.value,\n",
      "    emitter.bsdf.reflectance.lambda_min,\n",
      "    emitter.bsdf.reflectance.lambda_max,\n",
      "  * emitter.emitter.radiance.value,\n",
      "    emitter.emitter.radiance.lambda_min,\n",
      "    emitter.emitter.radiance.lambda_max,\n",
      "  * Microphone.wavelengths,\n",
      "    Microphone.shutter_open,\n",
      "    Microphone.shutter_open_time,\n",
      "    shoebox_ref.child_0.to_world,\n",
      "    shoebox_ref.child_1.to_world,\n",
      "    shoebox_ref.child_2.to_world,\n",
      "    shoebox_ref.child_3.to_world,\n",
      "    shoebox_ref.child_4.to_world,\n",
      "    shoebox_ref.child_5.to_world,\n",
      "    Instance.to_world,\n",
      "]\n",
      "[0.9]\n"
     ]
    },
    {
     "data": {
      "text/plain": [
       "[<matplotlib.lines.Line2D at 0x7fd5dc6ff100>]"
      ]
     },
     "execution_count": 4,
     "metadata": {},
     "output_type": "execute_result"
    },
    {
     "data": {
      "image/png": "[encoded data removed]",
      "text/plain": [
       "<Figure size 432x288 with 1 Axes>"
      ]
     },
     "metadata": {
      "needs_background": "light"
     },
     "output_type": "display_data"
    }
   ],
   "source": [
    "from mitsuba.core import Spectrum\n",
    "\n",
    "diff_param = 'AcousticBSDF.absorption.value'\n",
    "\n",
    "params = traverse(scene)\n",
    "print(params)\n",
    "print(params[diff_param])\n",
    "params.keep([diff_param])\n",
    "param_ref = Spectrum(params[diff_param])\n",
    "\n",
    "from mitsuba.python.autodiff import render\n",
    "hist_ref = render(scene, spp=None)\n",
    "plt.plot(get_vals(hist_ref, time_steps, len(bins) - 1))"
   ]
  },
  {
   "cell_type": "code",
   "execution_count": 10,
   "metadata": {},
   "outputs": [
    {
     "data": {
      "image/png": "[encoded data removed]",
      "text/plain": [
       "<Figure size 432x288 with 1 Axes>"
      ]
     },
     "metadata": {
      "needs_background": "light"
     },
     "output_type": "display_data"
    }
   ],
   "source": [
    "params[diff_param] = [0.1]\n",
    "\n",
    "# Construct an optimizer that will adjust the parameters 'params'\n",
    "from mitsuba.python.autodiff import SGD\n",
    "opt = SGD(params, lr=.2)\n",
    "\n",
    "for it in range(100):\n",
    "    # Perform a differentiable rendering of the scene\n",
    "    hist = render(scene, optimizer=opt, unbiased=False, spp=None)\n",
    "    \n",
    "    plt.clf()\n",
    "    plt.plot(get_vals(hist, time_steps, len(bins) - 1), label='current')\n",
    "    plt.plot(get_vals(hist_ref, time_steps, len(bins) - 1), label='taget')\n",
    "    plt.plot(get_vals(hist - hist_ref, time_steps, len(bins) - 1), label='err')\n",
    "    plt.legend()\n",
    "    display.display(plt.gcf())\n",
    "    display.clear_output(wait=True)\n",
    "\n",
    "    # Objective: MSE between 'hist' and 'hist_ref'\n",
    "    ob_val = ek.hsum(ek.sqr(hist - hist_ref)) / len(hist)\n",
    "\n",
    "    # Back-propagate errors to input parameters\n",
    "    ek.backward(ob_val)\n",
    "\n",
    "    # Optimizer: take a gradient step\n",
    "    opt.step()\n",
    "    \n",
    "    err_ref = ek.hsum(ek.sqr(param_ref - params[diff_param]))\n",
    "    #print('Iteration %03i: error=%g' % (it, err_ref[0]))"
   ]
  },
  {
   "cell_type": "code",
   "execution_count": 9,
   "metadata": {},
   "outputs": [
    {
     "data": {
      "text/plain": [
       "[0.873081]"
      ]
     },
     "execution_count": 9,
     "metadata": {},
     "output_type": "execute_result"
    }
   ],
   "source": [
    "params[diff_param]"
   ]
  }
 ],
 "metadata": {
  "kernelspec": {
   "display_name": "Python 3",
   "language": "python",
   "name": "python3"
  },
  "language_info": {
   "codemirror_mode": {
    "name": "ipython",
    "version": 3
   },
   "file_extension": ".py",
   "mimetype": "text/x-python",
   "name": "python",
   "nbconvert_exporter": "python",
   "pygments_lexer": "ipython3",
   "version": "3.8.5"
  }
 },
 "nbformat": 4,
 "nbformat_minor": 4
}
