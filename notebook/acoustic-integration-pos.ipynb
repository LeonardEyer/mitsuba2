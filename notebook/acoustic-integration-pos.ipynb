{
 "cells": [
  {
   "cell_type": "code",
   "execution_count": 1,
   "metadata": {},
   "outputs": [
    {
     "data": {
      "text/html": [
       "<span style=\"font-family: monospace; color: #000\">2021-06-10 10:43:02 INFO  main  [optix_api.cpp:56] Dynamic loading of the Optix library ..</span>"
      ]
     },
     "metadata": {},
     "output_type": "display_data"
    }
   ],
   "source": [
    "import numpy as np\n",
    "import matplotlib.pyplot as plt\n",
    "import mitsuba\n",
    "mitsuba.set_variant('gpu_acoustic')\n",
    "import enoki as ek\n",
    "ek.cuda_set_log_level(0)"
   ]
  },
  {
   "cell_type": "code",
   "execution_count": 3,
   "metadata": {},
   "outputs": [],
   "source": [
    "def make_shoebox_scene(emitter_pos, sensor_pos, box_dimensions, radius, max_time, time_steps, \n",
    "                       spp, bins, rfilter, max_depth, samples_per_pass, scattering,absorption, hide_sensor=True):\n",
    "    \n",
    "    from mitsuba.core import ScalarTransform4f\n",
    "\n",
    "    def transform(scale=None, rotate=None, translate=None):\n",
    "        if translate is None:\n",
    "            translate = [0, 0, 0]\n",
    "        if scale is None:\n",
    "            scale = [1, 1, 1]\n",
    "        if rotate is None:\n",
    "            rotate = ([0, 0, 0], 0)\n",
    "\n",
    "        a = ScalarTransform4f.scale(scale)\n",
    "        b = ScalarTransform4f.rotate(*rotate)\n",
    "        c = ScalarTransform4f.translate(translate)\n",
    "        return c * b * a\n",
    "\n",
    "    global_translation = transform(translate=np.array(box_dimensions) / 2)\n",
    "\n",
    "    scene = {\n",
    "        \"type\": \"scene\",\n",
    "        \"bsdf_neutral\": {\n",
    "            \"type\": \"acousticbsdf\",\n",
    "            \"scattering\": {\n",
    "                \"type\": \"spectrum\",\n",
    "                \"value\": scattering\n",
    "            },\n",
    "            \"absorption\": {\n",
    "                \"type\": \"spectrum\",\n",
    "                \"value\": absorption\n",
    "            }\n",
    "        },\n",
    "        \"emitter_shape\": {\n",
    "            \"id\": \"emitter\",\n",
    "            \"type\": \"sphere\",\n",
    "            \"radius\": radius,\n",
    "            \"to_world\": transform(translate=emitter_pos),\n",
    "            \"emitter\": {\n",
    "                \"type\": \"smoothsphere\",\n",
    "                \"radiance\": {\n",
    "                    \"type\": \"uniform\",\n",
    "                    \"value\": 1\n",
    "                },\n",
    "                \"blur_size\": .5\n",
    "            }\n",
    "        },\n",
    "        \"sensor\": {\n",
    "            \"type\": \"microphone\",\n",
    "            \"to_world\": transform(translate=sensor_pos),\n",
    "            \"sampler\": {\n",
    "                \"type\": \"independent\",\n",
    "                \"sample_count\": spp\n",
    "            },\n",
    "            \"myfilm\": {\n",
    "                \"type\": \"tape\",\n",
    "                \"time_steps\": time_steps,\n",
    "                \"wav_bins\": len(bins),\n",
    "                \"rfilter\": rfilter\n",
    "            }  \n",
    "        },\n",
    "        \"shoebox\": {\n",
    "            \"id\": \"shoebox\",\n",
    "            \"type\": \"obj\",\n",
    "            \"filename\": \"../resources/cuberoom.obj\",\n",
    "            \"bsdf\": {\n",
    "                \"type\": \"ref\",\n",
    "                \"id\": \"bsdf_neutral\"\n",
    "            },\n",
    "            \"to_world\": transform(scale=np.array(box_dimensions))\n",
    "        },\n",
    "        \"integrator\": {\n",
    "            \"type\": \"acousticpath\",\n",
    "            \"max_depth\": int(max_depth),\n",
    "            \"max_time\": max_time,\n",
    "            \"wavelength_bins\": ','.join(str(x) for x in bins),\n",
    "            \"samples_per_pass\": samples_per_pass\n",
    "        }\n",
    "    }\n",
    "    return scene\n",
    "\n",
    "def get_vals(data, size, copy=False):\n",
    "    return np.array(data, copy=copy).reshape(size)"
   ]
  },
  {
   "cell_type": "code",
   "execution_count": 4,
   "metadata": {},
   "outputs": [
    {
     "data": {
      "text/html": [
       "<span style=\"font-family: monospace; color: #000\">2021-06-10 10:43:11 INFO  main  [PluginManager] Loading plugin &quot;plugins/acousticbsdf.so&quot; ..</span>"
      ]
     },
     "metadata": {},
     "output_type": "display_data"
    },
    {
     "data": {
      "text/html": [
       "<span style=\"font-family: monospace; color: #000\">2021-06-10 10:43:11 INFO  main  [PluginManager] Loading plugin &quot;plugins/uniform.so&quot; ..</span>"
      ]
     },
     "metadata": {},
     "output_type": "display_data"
    },
    {
     "data": {
      "text/html": [
       "<span style=\"font-family: monospace; color: #000\">2021-06-10 10:43:11 INFO  main  [PluginManager] Loading plugin &quot;plugins/sphere.so&quot; ..</span>"
      ]
     },
     "metadata": {},
     "output_type": "display_data"
    },
    {
     "data": {
      "text/html": [
       "<span style=\"font-family: monospace; color: #000\">2021-06-10 10:43:11 INFO  main  [PluginManager] Loading plugin &quot;plugins/smoothsphere.so&quot; ..</span>"
      ]
     },
     "metadata": {},
     "output_type": "display_data"
    },
    {
     "data": {
      "text/html": [
       "<span style=\"font-family: monospace; color: #000\">2021-06-10 10:43:11 INFO  main  [PluginManager] Loading plugin &quot;plugins/d65.so&quot; ..</span>"
      ]
     },
     "metadata": {},
     "output_type": "display_data"
    },
    {
     "data": {
      "text/html": [
       "<span style=\"font-family: monospace; color: #000\">2021-06-10 10:43:11 INFO  main  [PluginManager] Loading plugin &quot;plugins/regular.so&quot; ..</span>"
      ]
     },
     "metadata": {},
     "output_type": "display_data"
    },
    {
     "data": {
      "text/html": [
       "<span style=\"font-family: monospace; color: #000\">2021-06-10 10:43:11 INFO  main  [PluginManager] Loading plugin &quot;plugins/diffuse.so&quot; ..</span>"
      ]
     },
     "metadata": {},
     "output_type": "display_data"
    },
    {
     "data": {
      "text/html": [
       "<span style=\"font-family: monospace; color: #000\">2021-06-10 10:43:11 INFO  main  [PluginManager] Loading plugin &quot;plugins/microphone.so&quot; ..</span>"
      ]
     },
     "metadata": {},
     "output_type": "display_data"
    },
    {
     "data": {
      "text/html": [
       "<span style=\"font-family: monospace; color: #000\">2021-06-10 10:43:11 INFO  main  [PluginManager] Loading plugin &quot;plugins/independent.so&quot; ..</span>"
      ]
     },
     "metadata": {},
     "output_type": "display_data"
    },
    {
     "data": {
      "text/html": [
       "<span style=\"font-family: monospace; color: #000\">2021-06-10 10:43:11 INFO  main  [PluginManager] Loading plugin &quot;plugins/tape.so&quot; ..</span>"
      ]
     },
     "metadata": {},
     "output_type": "display_data"
    },
    {
     "data": {
      "text/html": [
       "<span style=\"font-family: monospace; color: #000\">2021-06-10 10:43:11 INFO  main  [PluginManager] Loading plugin &quot;plugins/gaussian.so&quot; ..</span>"
      ]
     },
     "metadata": {},
     "output_type": "display_data"
    },
    {
     "data": {
      "text/html": [
       "<span style=\"font-family: monospace; color: #000\">2021-06-10 10:43:11 INFO  main  [PluginManager] Loading plugin &quot;plugins/obj.so&quot; ..</span>"
      ]
     },
     "metadata": {},
     "output_type": "display_data"
    },
    {
     "data": {
      "text/html": [
       "<span style=\"font-family: monospace; color: #bbb\">2021-06-10 10:43:11 DEBUG main  [OBJMesh] Loading mesh from &quot;cuberoom.obj&quot; ..</span>"
      ]
     },
     "metadata": {},
     "output_type": "display_data"
    },
    {
     "data": {
      "text/html": [
       "<span style=\"font-family: monospace; color: #bbb\">2021-06-10 10:43:11 DEBUG main  [OBJMesh] &quot;cuberoom.obj&quot;: read 12 faces, 24 vertices (912 B in 0ms)</span>"
      ]
     },
     "metadata": {},
     "output_type": "display_data"
    },
    {
     "data": {
      "text/html": [
       "<span style=\"font-family: monospace; color: #000\">2021-06-10 10:43:11 INFO  main  [PluginManager] Loading plugin &quot;plugins/acousticpath.so&quot; ..</span>"
      ]
     },
     "metadata": {},
     "output_type": "display_data"
    },
    {
     "data": {
      "text/html": [
       "<span style=\"font-family: monospace; color: #000\">2021-06-10 10:43:11 INFO  main  [Scene] Building scene in OptiX ..</span>"
      ]
     },
     "metadata": {},
     "output_type": "display_data"
    },
    {
     "data": {
      "application/vnd.jupyter.widget-view+json": {
       "model_id": "e1bc78f6f3614a748979304daedb827f",
       "version_major": 2,
       "version_minor": 0
      },
      "text/plain": [
       "VBox(children=(HTML(value=''), FloatProgress(value=0.0, bar_style='info', layout=Layout(width='100%'), max=1.0…"
      ]
     },
     "metadata": {},
     "output_type": "display_data"
    },
    {
     "data": {
      "text/html": [
       "<span style=\"font-family: monospace; color: #000\">2021-06-10 10:43:13 INFO  main  [TimeDependentIntegrator] Rendering finished. (took 1.501s)</span>"
      ]
     },
     "metadata": {},
     "output_type": "display_data"
    }
   ],
   "source": [
    "from mitsuba.core.xml import load_string, load_dict\n",
    "\n",
    "config = {\n",
    "    \"bins\": [1],\n",
    "    \"absorption\": 0.5,\n",
    "    \"scattering\": 0.0,\n",
    "    \"max_time\": 1,\n",
    "    \"time_steps\": 100,\n",
    "    \"spp\": 1000,\n",
    "    \"samples_per_pass\": 1000,\n",
    "    \"box_dimensions\": [5, 5, 5],\n",
    "    \"emitter_pos\": [1, 1, 1],\n",
    "    \"sensor_pos\": [-1, -1, -1],\n",
    "    \"radius\": .1,  \n",
    "    \"max_depth\": 50,\n",
    "    \"rfilter\": {\n",
    "        \"type\": \"gaussian\",\n",
    "        \"stddev\": 2.0\n",
    "    }\n",
    "}\n",
    "\n",
    "scene_dict = make_shoebox_scene(**config)\n",
    "scene = load_dict(scene_dict)\n",
    "\n",
    "size = scene.sensors()[0].film().size()\n",
    "\n",
    "sensor = scene.sensors()[0]\n",
    "integrator = scene.integrator()\n",
    "\n",
    "status = integrator.render(scene, sensor)\n",
    "assert status"
   ]
  },
  {
   "cell_type": "code",
   "execution_count": 5,
   "metadata": {},
   "outputs": [
    {
     "name": "stdout",
     "output_type": "stream",
     "text": [
      "sum: 18.898323\n"
     ]
    }
   ],
   "source": [
    "film = sensor.film()\n",
    "raw = film.bitmap(raw=True)\n",
    "counts = film.bitmap(raw=False)\n",
    "vals = get_vals(raw, film.size())\n",
    "vals_count = get_vals(counts, film.size())\n",
    "\n",
    "print(\"sum:\", np.sum(vals))\n",
    "\n",
    "energy = vals / (vals_count + 1e-8)\n",
    "energy /= energy[0]\n",
    "energy_db = 10 * (np.log(energy) / np.log(10))"
   ]
  },
  {
   "cell_type": "code",
   "execution_count": 6,
   "metadata": {},
   "outputs": [
    {
     "data": {
      "text/plain": [
       "Text(0.5, 1.0, 'Counts')"
      ]
     },
     "execution_count": 6,
     "metadata": {},
     "output_type": "execute_result"
    },
    {
     "data": {
      "image/png": "[encoded data removed]",
      "text/plain": [
       "<Figure size 1080x360 with 4 Axes>"
      ]
     },
     "metadata": {
      "needs_background": "light"
     },
     "output_type": "display_data"
    }
   ],
   "source": [
    "fig, ((ax1, ax2), (ax3, ax4)) = plt.subplots(2, 2, sharex=True, figsize=(15, 5))\n",
    "ax1.plot(energy)\n",
    "ax1.set_title(\"Energy\")\n",
    "ax2.plot(energy_db)\n",
    "ax2.set_title(\"Energy [dB]\")\n",
    "ax3.plot(vals)\n",
    "ax3.set_title(\"Recorded\")\n",
    "ax4.plot(vals_count)\n",
    "ax4.set_title(\"Counts\")"
   ]
  },
  {
   "cell_type": "code",
   "execution_count": 7,
   "metadata": {},
   "outputs": [
    {
     "data": {
      "text/plain": [
       "array([[1.0000000e+00],\n",
       "       [5.4288191e-01],\n",
       "       [3.0525064e-01],\n",
       "       [1.8167879e-01],\n",
       "       [1.1623743e-01],\n",
       "       [8.0184482e-02],\n",
       "       [5.8996424e-02],\n",
       "       [4.5488879e-02],\n",
       "       [3.5994805e-02],\n",
       "       [2.8328430e-02],\n",
       "       [2.1377064e-02],\n",
       "       [1.5075899e-02],\n",
       "       [9.8859537e-03],\n",
       "       [6.1747539e-03],\n",
       "       [3.8606152e-03],\n",
       "       [2.5054477e-03],\n",
       "       [1.6729474e-03],\n",
       "       [1.1222188e-03],\n",
       "       [7.6010154e-04],\n",
       "       [5.3772703e-04],\n",
       "       [4.0995388e-04],\n",
       "       [3.3699043e-04],\n",
       "       [2.8909012e-04],\n",
       "       [2.4518752e-04],\n",
       "       [1.9517838e-04],\n",
       "       [1.4171706e-04],\n",
       "       [9.4306866e-05],\n",
       "       [5.9980768e-05],\n",
       "       [3.9243532e-05],\n",
       "       [2.8292694e-05],\n",
       "       [2.2440217e-05],\n",
       "       [1.8263137e-05],\n",
       "       [1.4279634e-05],\n",
       "       [1.0544567e-05],\n",
       "       [7.5540524e-06],\n",
       "       [5.4654606e-06],\n",
       "       [4.0327468e-06],\n",
       "       [2.9649057e-06],\n",
       "       [2.1302221e-06],\n",
       "       [1.5062254e-06],\n",
       "       [1.0742465e-06],\n",
       "       [7.9279482e-07],\n",
       "       [6.1378972e-07],\n",
       "       [4.9187560e-07],\n",
       "       [3.9151479e-07],\n",
       "       [2.9924138e-07],\n",
       "       [2.1989156e-07],\n",
       "       [1.6132314e-07],\n",
       "       [1.2350800e-07],\n",
       "       [9.9586835e-08],\n",
       "       [8.1390084e-08],\n",
       "       [6.3917767e-08],\n",
       "       [4.6408651e-08],\n",
       "       [3.0582971e-08],\n",
       "       [1.8535173e-08],\n",
       "       [1.1080473e-08],\n",
       "       [7.4752071e-09],\n",
       "       [6.2446581e-09],\n",
       "       [6.0522098e-09],\n",
       "       [5.9971819e-09],\n",
       "       [5.5966960e-09],\n",
       "       [4.6901536e-09],\n",
       "       [3.4321166e-09],\n",
       "       [2.1716822e-09],\n",
       "       [1.2182978e-09],\n",
       "       [6.8115802e-10],\n",
       "       [4.9088950e-10],\n",
       "       [5.0856158e-10],\n",
       "       [5.8874544e-10],\n",
       "       [6.1158706e-10],\n",
       "       [5.2441018e-10],\n",
       "       [3.6173900e-10],\n",
       "       [2.0096554e-10],\n",
       "       [9.2484298e-11],\n",
       "       [3.8700407e-11],\n",
       "       [1.8677650e-11],\n",
       "       [1.3330670e-11],\n",
       "       [1.2405671e-11],\n",
       "       [1.1729768e-11],\n",
       "       [9.8158218e-12],\n",
       "       [7.1065337e-12],\n",
       "       [4.5958402e-12],\n",
       "       [3.0161108e-12],\n",
       "       [2.4392730e-12],\n",
       "       [2.4477336e-12],\n",
       "       [2.5521809e-12],\n",
       "       [2.4546502e-12],\n",
       "       [2.0922426e-12],\n",
       "       [1.5609880e-12],\n",
       "       [1.0125459e-12],\n",
       "       [5.7151788e-13],\n",
       "       [2.8684780e-13],\n",
       "       [1.4247445e-13],\n",
       "       [9.9526758e-14],\n",
       "       [1.2210880e-13],\n",
       "       [1.7610669e-13],\n",
       "       [2.2317300e-13],\n",
       "       [2.3215869e-13],\n",
       "       [2.0078827e-13],\n",
       "       [1.5087260e-13]], dtype=float32)"
      ]
     },
     "execution_count": 7,
     "metadata": {},
     "output_type": "execute_result"
    }
   ],
   "source": [
    "energy"
   ]
  },
  {
   "cell_type": "code",
   "execution_count": null,
   "metadata": {},
   "outputs": [],
   "source": []
  }
 ],
 "metadata": {
  "kernelspec": {
   "display_name": "Python 3",
   "language": "python",
   "name": "python3"
  },
  "language_info": {
   "codemirror_mode": {
    "name": "ipython",
    "version": 3
   },
   "file_extension": ".py",
   "mimetype": "text/x-python",
   "name": "python",
   "nbconvert_exporter": "python",
   "pygments_lexer": "ipython3",
   "version": "3.8.2"
  }
 },
 "nbformat": 4,
 "nbformat_minor": 4
}
