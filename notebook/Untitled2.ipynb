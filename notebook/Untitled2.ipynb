{
 "cells": [
  {
   "cell_type": "code",
   "execution_count": 65,
   "metadata": {},
   "outputs": [],
   "source": [
    "import enoki as ek\n",
    "import mitsuba\n",
    "mitsuba.set_variant('gpu_autodiff_rgb')\n",
    "\n",
    "from mitsuba.core import Thread\n",
    "from mitsuba.core.xml import load_file\n",
    "from mitsuba.python.util import traverse"
   ]
  },
  {
   "cell_type": "code",
   "execution_count": 66,
   "metadata": {},
   "outputs": [
    {
     "data": {
      "text/html": [
       "<span style=\"font-family: monospace; color: #000\">2021-02-23 14:09:46 INFO  main  [xml.cpp:1221] Loading XML file &quot;cbox/cbox.xml&quot; ..</span>"
      ]
     },
     "metadata": {},
     "output_type": "display_data"
    },
    {
     "data": {
      "text/html": [
       "<span style=\"font-family: monospace; color: #000\">2021-02-23 14:09:46 INFO  main  [xml.cpp:1222] Using variant &quot;gpu_autodiff_rgb&quot;</span>"
      ]
     },
     "metadata": {},
     "output_type": "display_data"
    },
    {
     "data": {
      "text/html": [
       "<span style=\"font-family: monospace; color: #000\">2021-02-23 14:09:46 INFO  main  [xml.cpp:354] &quot;cbox/cbox.xml&quot;: in-memory version upgrade (v0.4.0 -&gt; v2.2.1) ..</span>"
      ]
     },
     "metadata": {},
     "output_type": "display_data"
    },
    {
     "data": {
      "text/html": [
       "<span style=\"font-family: monospace; color: #bbb\">2021-02-23 14:09:46 DEBUG main  [OBJMesh] Loading mesh from &quot;cbox_luminaire.obj&quot; ..</span>"
      ]
     },
     "metadata": {},
     "output_type": "display_data"
    },
    {
     "data": {
      "text/html": [
       "<span style=\"font-family: monospace; color: #bbb\">2021-02-23 14:09:46 DEBUG main  [OBJMesh] &quot;cbox_luminaire.obj&quot;: read 2 faces, 4 vertices (120 B in 0ms)</span>"
      ]
     },
     "metadata": {},
     "output_type": "display_data"
    },
    {
     "data": {
      "text/html": [
       "<span style=\"font-family: monospace; color: #bbb\">2021-02-23 14:09:46 DEBUG main  [OBJMesh] &quot;cbox_luminaire.obj&quot;: computed vertex normals (took 3ms)</span>"
      ]
     },
     "metadata": {},
     "output_type": "display_data"
    },
    {
     "data": {
      "text/html": [
       "<span style=\"font-family: monospace; color: #bbb\">2021-02-23 14:09:46 DEBUG main  [OBJMesh] Loading mesh from &quot;cbox_floor.obj&quot; ..</span>"
      ]
     },
     "metadata": {},
     "output_type": "display_data"
    },
    {
     "data": {
      "text/html": [
       "<span style=\"font-family: monospace; color: #bbb\">2021-02-23 14:09:46 DEBUG main  [OBJMesh] &quot;cbox_floor.obj&quot;: read 2 faces, 4 vertices (120 B in 0ms)</span>"
      ]
     },
     "metadata": {},
     "output_type": "display_data"
    },
    {
     "data": {
      "text/html": [
       "<span style=\"font-family: monospace; color: #bbb\">2021-02-23 14:09:46 DEBUG main  [OBJMesh] &quot;cbox_floor.obj&quot;: computed vertex normals (took 3ms)</span>"
      ]
     },
     "metadata": {},
     "output_type": "display_data"
    },
    {
     "data": {
      "text/html": [
       "<span style=\"font-family: monospace; color: #bbb\">2021-02-23 14:09:46 DEBUG main  [OBJMesh] Loading mesh from &quot;cbox_ceiling.obj&quot; ..</span>"
      ]
     },
     "metadata": {},
     "output_type": "display_data"
    },
    {
     "data": {
      "text/html": [
       "<span style=\"font-family: monospace; color: #bbb\">2021-02-23 14:09:46 DEBUG main  [OBJMesh] &quot;cbox_ceiling.obj&quot;: read 4 faces, 8 vertices (240 B in 0ms)</span>"
      ]
     },
     "metadata": {},
     "output_type": "display_data"
    },
    {
     "data": {
      "text/html": [
       "<span style=\"font-family: monospace; color: #bbb\">2021-02-23 14:09:46 DEBUG main  [OBJMesh] &quot;cbox_ceiling.obj&quot;: computed vertex normals (took 3ms)</span>"
      ]
     },
     "metadata": {},
     "output_type": "display_data"
    },
    {
     "data": {
      "text/html": [
       "<span style=\"font-family: monospace; color: #bbb\">2021-02-23 14:09:46 DEBUG main  [OBJMesh] Loading mesh from &quot;cbox_back.obj&quot; ..</span>"
      ]
     },
     "metadata": {},
     "output_type": "display_data"
    },
    {
     "data": {
      "text/html": [
       "<span style=\"font-family: monospace; color: #bbb\">2021-02-23 14:09:46 DEBUG main  [OBJMesh] &quot;cbox_back.obj&quot;: read 2 faces, 4 vertices (120 B in 0ms)</span>"
      ]
     },
     "metadata": {},
     "output_type": "display_data"
    },
    {
     "data": {
      "text/html": [
       "<span style=\"font-family: monospace; color: #bbb\">2021-02-23 14:09:46 DEBUG main  [OBJMesh] &quot;cbox_back.obj&quot;: computed vertex normals (took 3ms)</span>"
      ]
     },
     "metadata": {},
     "output_type": "display_data"
    },
    {
     "data": {
      "text/html": [
       "<span style=\"font-family: monospace; color: #bbb\">2021-02-23 14:09:46 DEBUG main  [OBJMesh] Loading mesh from &quot;cbox_greenwall.obj&quot; ..</span>"
      ]
     },
     "metadata": {},
     "output_type": "display_data"
    },
    {
     "data": {
      "text/html": [
       "<span style=\"font-family: monospace; color: #bbb\">2021-02-23 14:09:46 DEBUG main  [OBJMesh] &quot;cbox_greenwall.obj&quot;: read 2 faces, 4 vertices (120 B in 0ms)</span>"
      ]
     },
     "metadata": {},
     "output_type": "display_data"
    },
    {
     "data": {
      "text/html": [
       "<span style=\"font-family: monospace; color: #bbb\">2021-02-23 14:09:46 DEBUG main  [OBJMesh] &quot;cbox_greenwall.obj&quot;: computed vertex normals (took 3ms)</span>"
      ]
     },
     "metadata": {},
     "output_type": "display_data"
    },
    {
     "data": {
      "text/html": [
       "<span style=\"font-family: monospace; color: #bbb\">2021-02-23 14:09:46 DEBUG main  [OBJMesh] Loading mesh from &quot;cbox_redwall.obj&quot; ..</span>"
      ]
     },
     "metadata": {},
     "output_type": "display_data"
    },
    {
     "data": {
      "text/html": [
       "<span style=\"font-family: monospace; color: #bbb\">2021-02-23 14:09:46 DEBUG main  [OBJMesh] &quot;cbox_redwall.obj&quot;: read 2 faces, 4 vertices (120 B in 0ms)</span>"
      ]
     },
     "metadata": {},
     "output_type": "display_data"
    },
    {
     "data": {
      "text/html": [
       "<span style=\"font-family: monospace; color: #bbb\">2021-02-23 14:09:46 DEBUG main  [OBJMesh] &quot;cbox_redwall.obj&quot;: computed vertex normals (took 4ms)</span>"
      ]
     },
     "metadata": {},
     "output_type": "display_data"
    },
    {
     "data": {
      "text/html": [
       "<span style=\"font-family: monospace; color: #bbb\">2021-02-23 14:09:46 DEBUG main  [OBJMesh] Loading mesh from &quot;cbox_smallbox.obj&quot; ..</span>"
      ]
     },
     "metadata": {},
     "output_type": "display_data"
    },
    {
     "data": {
      "text/html": [
       "<span style=\"font-family: monospace; color: #bbb\">2021-02-23 14:09:46 DEBUG main  [OBJMesh] &quot;cbox_smallbox.obj&quot;: read 12 faces, 24 vertices (720 B in 0ms)</span>"
      ]
     },
     "metadata": {},
     "output_type": "display_data"
    },
    {
     "data": {
      "text/html": [
       "<span style=\"font-family: monospace; color: #bbb\">2021-02-23 14:09:46 DEBUG main  [OBJMesh] Loading mesh from &quot;cbox_largebox.obj&quot; ..</span>"
      ]
     },
     "metadata": {},
     "output_type": "display_data"
    },
    {
     "data": {
      "text/html": [
       "<span style=\"font-family: monospace; color: #bbb\">2021-02-23 14:09:46 DEBUG main  [OBJMesh] &quot;cbox_largebox.obj&quot;: read 12 faces, 24 vertices (720 B in 0ms)</span>"
      ]
     },
     "metadata": {},
     "output_type": "display_data"
    },
    {
     "data": {
      "text/html": [
       "<span style=\"font-family: monospace; color: #000\">2021-02-23 14:09:46 INFO  main  [Scene] Building scene in OptiX ..</span>"
      ]
     },
     "metadata": {},
     "output_type": "display_data"
    },
    {
     "name": "stdout",
     "output_type": "stream",
     "text": [
      "ParameterMap[\n",
      "    PerspectiveCamera.near_clip,\n",
      "    PerspectiveCamera.far_clip,\n",
      "    PerspectiveCamera.focus_distance,\n",
      "    PerspectiveCamera.shutter_open,\n",
      "    PerspectiveCamera.shutter_open_time,\n",
      "  * box.reflectance.value,\n",
      "  * white.reflectance.value,\n",
      "  * red.reflectance.value,\n",
      "  * green.reflectance.value,\n",
      "  * light.reflectance.value,\n",
      "    OBJMesh.to_world,\n",
      "  * OBJMesh.emitter.radiance.value,\n",
      "    OBJMesh.vertex_count,\n",
      "    OBJMesh.face_count,\n",
      "  * OBJMesh.faces_buf,\n",
      "  * OBJMesh.vertex_positions_buf,\n",
      "  * OBJMesh.vertex_normals_buf,\n",
      "  * OBJMesh.vertex_texcoords_buf,\n",
      "    OBJMesh_1.to_world,\n",
      "    OBJMesh_1.vertex_count,\n",
      "    OBJMesh_1.face_count,\n",
      "  * OBJMesh_1.faces_buf,\n",
      "  * OBJMesh_1.vertex_positions_buf,\n",
      "  * OBJMesh_1.vertex_normals_buf,\n",
      "  * OBJMesh_1.vertex_texcoords_buf,\n",
      "    OBJMesh_2.to_world,\n",
      "    OBJMesh_2.vertex_count,\n",
      "    OBJMesh_2.face_count,\n",
      "  * OBJMesh_2.faces_buf,\n",
      "  * OBJMesh_2.vertex_positions_buf,\n",
      "  * OBJMesh_2.vertex_normals_buf,\n",
      "  * OBJMesh_2.vertex_texcoords_buf,\n",
      "    OBJMesh_3.to_world,\n",
      "    OBJMesh_3.vertex_count,\n",
      "    OBJMesh_3.face_count,\n",
      "  * OBJMesh_3.faces_buf,\n",
      "  * OBJMesh_3.vertex_positions_buf,\n",
      "  * OBJMesh_3.vertex_normals_buf,\n",
      "  * OBJMesh_3.vertex_texcoords_buf,\n",
      "    OBJMesh_4.to_world,\n",
      "    OBJMesh_4.vertex_count,\n",
      "    OBJMesh_4.face_count,\n",
      "  * OBJMesh_4.faces_buf,\n",
      "  * OBJMesh_4.vertex_positions_buf,\n",
      "  * OBJMesh_4.vertex_normals_buf,\n",
      "  * OBJMesh_4.vertex_texcoords_buf,\n",
      "    OBJMesh_5.to_world,\n",
      "    OBJMesh_5.vertex_count,\n",
      "    OBJMesh_5.face_count,\n",
      "  * OBJMesh_5.faces_buf,\n",
      "  * OBJMesh_5.vertex_positions_buf,\n",
      "  * OBJMesh_5.vertex_normals_buf,\n",
      "  * OBJMesh_5.vertex_texcoords_buf,\n",
      "    OBJMesh_6.to_world,\n",
      "    OBJMesh_6.vertex_count,\n",
      "    OBJMesh_6.face_count,\n",
      "  * OBJMesh_6.faces_buf,\n",
      "  * OBJMesh_6.vertex_positions_buf,\n",
      "  * OBJMesh_6.vertex_normals_buf,\n",
      "  * OBJMesh_6.vertex_texcoords_buf,\n",
      "    OBJMesh_7.to_world,\n",
      "    OBJMesh_7.vertex_count,\n",
      "    OBJMesh_7.face_count,\n",
      "  * OBJMesh_7.faces_buf,\n",
      "  * OBJMesh_7.vertex_positions_buf,\n",
      "  * OBJMesh_7.vertex_normals_buf,\n",
      "  * OBJMesh_7.vertex_texcoords_buf,\n",
      "]\n"
     ]
    }
   ],
   "source": [
    "# Load the Cornell Box\n",
    "Thread.thread().file_resolver().append('cbox')\n",
    "scene = load_file('cbox/cbox.xml')\n",
    "\n",
    "# Find differentiable scene parameters\n",
    "params = traverse(scene)\n",
    "print(params)"
   ]
  },
  {
   "cell_type": "code",
   "execution_count": 89,
   "metadata": {},
   "outputs": [],
   "source": [
    "params.keep(['red.reflectance.value', 'green.reflectance.value'])"
   ]
  },
  {
   "cell_type": "code",
   "execution_count": 90,
   "metadata": {},
   "outputs": [],
   "source": [
    "from mitsuba.core import Color3f\n",
    "param_ref = Color3f(params['red.reflectance.value'])\n",
    "param_ref_2 = Color3f(params['green.reflectance.value'])"
   ]
  },
  {
   "cell_type": "code",
   "execution_count": 91,
   "metadata": {},
   "outputs": [
    {
     "name": "stdout",
     "output_type": "stream",
     "text": [
      "[[0.552138, 0.0352953, 0.013765]] [[0.144489, 0.265683, 0.0950349]]\n"
     ]
    }
   ],
   "source": [
    "print(param_ref, param_ref_2)"
   ]
  },
  {
   "cell_type": "code",
   "execution_count": 70,
   "metadata": {},
   "outputs": [],
   "source": [
    "# Render a reference image (no derivatives used yet)\n",
    "from mitsuba.python.autodiff import render, write_bitmap\n",
    "image_ref = render(scene, spp=8)\n",
    "crop_size = scene.sensors()[0].film().crop_size()\n",
    "write_bitmap('imgs/out_ref.png', image_ref, crop_size)"
   ]
  },
  {
   "cell_type": "code",
   "execution_count": 96,
   "metadata": {},
   "outputs": [],
   "source": [
    "# Change the left wall into a bright white surface\n",
    "params['red.reflectance.value'] = [.9, .9, .9]\n",
    "params['green.reflectance.value'] = [.0, .0, .0]\n",
    "#params['light.reflectance.value'] = [-1., -1., -1.]\n",
    "params.update()"
   ]
  },
  {
   "cell_type": "code",
   "execution_count": 97,
   "metadata": {},
   "outputs": [],
   "source": [
    "# Construct an Adam optimizer that will adjust the parameters 'params'\n",
    "from mitsuba.python.autodiff import Adam\n",
    "opt = Adam(params, lr=.2)"
   ]
  },
  {
   "cell_type": "code",
   "execution_count": 98,
   "metadata": {},
   "outputs": [
    {
     "name": "stdout",
     "output_type": "stream",
     "text": [
      "Iteration 000: error=0.952258\n",
      "Iteration 001: error=0.478305\n",
      "Iteration 002: error=0.256477\n",
      "Iteration 003: error=0.139167\n",
      "Iteration 004: error=0.0854785\n",
      "Iteration 005: error=0.0414775\n",
      "Iteration 006: error=0.0132967\n",
      "Iteration 007: error=0.00653025\n",
      "Iteration 008: error=0.0160117\n",
      "Iteration 009: error=0.0288042\n",
      "Iteration 010: error=0.0357192\n",
      "Iteration 011: error=0.0342297\n",
      "Iteration 012: error=0.0309044\n",
      "Iteration 013: error=0.0299802\n",
      "Iteration 014: error=0.0334587\n",
      "Iteration 015: error=0.0368352\n",
      "Iteration 016: error=0.0369216\n",
      "Iteration 017: error=0.0329182\n",
      "Iteration 018: error=0.0255969\n",
      "Iteration 019: error=0.0168737\n",
      "Iteration 020: error=0.00941885\n",
      "Iteration 021: error=0.00601282\n",
      "Iteration 022: error=0.00795854\n",
      "Iteration 023: error=0.0129977\n",
      "Iteration 024: error=0.0201676\n",
      "Iteration 025: error=0.0277682\n",
      "Iteration 026: error=0.0327679\n",
      "Iteration 027: error=0.0327826\n",
      "Iteration 028: error=0.0282574\n",
      "Iteration 029: error=0.0230143\n",
      "Iteration 030: error=0.0188958\n",
      "Iteration 031: error=0.0158603\n",
      "Iteration 032: error=0.0131156\n",
      "Iteration 033: error=0.0120057\n",
      "Iteration 034: error=0.0136197\n",
      "Iteration 035: error=0.01495\n",
      "Iteration 036: error=0.0154618\n",
      "Iteration 037: error=0.0178389\n",
      "Iteration 038: error=0.0210138\n",
      "Iteration 039: error=0.0229572\n",
      "Iteration 040: error=0.0209657\n",
      "Iteration 041: error=0.0192432\n",
      "Iteration 042: error=0.0171329\n",
      "Iteration 043: error=0.0153479\n",
      "Iteration 044: error=0.0131983\n",
      "Iteration 045: error=0.0120576\n",
      "Iteration 046: error=0.0131441\n",
      "Iteration 047: error=0.0156798\n",
      "Iteration 048: error=0.0185467\n",
      "Iteration 049: error=0.0199283\n",
      "Iteration 050: error=0.0202763\n",
      "Iteration 051: error=0.0197314\n",
      "Iteration 052: error=0.0185962\n",
      "Iteration 053: error=0.0160684\n",
      "Iteration 054: error=0.0139911\n",
      "Iteration 055: error=0.0129314\n",
      "Iteration 056: error=0.0129926\n",
      "Iteration 057: error=0.0148262\n",
      "Iteration 058: error=0.0165557\n",
      "Iteration 059: error=0.0164025\n",
      "Iteration 060: error=0.0167773\n",
      "Iteration 061: error=0.0171477\n",
      "Iteration 062: error=0.0169633\n",
      "Iteration 063: error=0.0157194\n",
      "Iteration 064: error=0.0159049\n",
      "Iteration 065: error=0.0170034\n",
      "Iteration 066: error=0.0173309\n",
      "Iteration 067: error=0.0165253\n",
      "Iteration 068: error=0.0153322\n",
      "Iteration 069: error=0.0147699\n",
      "Iteration 070: error=0.0148943\n",
      "Iteration 071: error=0.0151097\n",
      "Iteration 072: error=0.01527\n",
      "Iteration 073: error=0.015756\n",
      "Iteration 074: error=0.0166068\n",
      "Iteration 075: error=0.0169505\n",
      "Iteration 076: error=0.0160052\n",
      "Iteration 077: error=0.0158568\n",
      "Iteration 078: error=0.0163991\n",
      "Iteration 079: error=0.0158173\n",
      "Iteration 080: error=0.0145617\n",
      "Iteration 081: error=0.0144773\n",
      "Iteration 082: error=0.0153927\n",
      "Iteration 083: error=0.0169087\n",
      "Iteration 084: error=0.0177951\n",
      "Iteration 085: error=0.01751\n",
      "Iteration 086: error=0.016611\n",
      "Iteration 087: error=0.0158293\n",
      "Iteration 088: error=0.0156703\n",
      "Iteration 089: error=0.0149596\n",
      "Iteration 090: error=0.01511\n",
      "Iteration 091: error=0.0154606\n",
      "Iteration 092: error=0.0154761\n",
      "Iteration 093: error=0.0156715\n",
      "Iteration 094: error=0.0161588\n",
      "Iteration 095: error=0.017223\n",
      "Iteration 096: error=0.019008\n",
      "Iteration 097: error=0.0186263\n",
      "Iteration 098: error=0.0153174\n",
      "Iteration 099: error=0.0137472\n"
     ]
    }
   ],
   "source": [
    "for it in range(100):\n",
    "    # Perform a differentiable rendering of the scene\n",
    "    image = render(scene, optimizer=opt, unbiased=True, spp=1)\n",
    "\n",
    "    write_bitmap('imgs/out_%03i.png' % it, image, crop_size)\n",
    "    \n",
    "    # Objective: MSE between 'image' and 'image_ref'\n",
    "    ob_val = ek.hsum(ek.sqr(image - image_ref)) / len(image)\n",
    "\n",
    "    # Back-propagate errors to input parameters\n",
    "    ek.backward(ob_val)\n",
    "\n",
    "    # Optimizer: take a gradient step\n",
    "    opt.step()\n",
    "    \n",
    "    err_ref = ek.hsum(ek.sqr(param_ref - params['red.reflectance.value']) + ek.sqr(param_ref_2 - params['green.reflectance.value']))\n",
    "    print('Iteration %03i: error=%g' % (it, err_ref[0]))"
   ]
  },
  {
   "cell_type": "code",
   "execution_count": null,
   "metadata": {},
   "outputs": [],
   "source": []
  }
 ],
 "metadata": {
  "kernelspec": {
   "display_name": "Python 3",
   "language": "python",
   "name": "python3"
  },
  "language_info": {
   "codemirror_mode": {
    "name": "ipython",
    "version": 3
   },
   "file_extension": ".py",
   "mimetype": "text/x-python",
   "name": "python",
   "nbconvert_exporter": "python",
   "pygments_lexer": "ipython3",
   "version": "3.8.5"
  }
 },
 "nbformat": 4,
 "nbformat_minor": 4
}
