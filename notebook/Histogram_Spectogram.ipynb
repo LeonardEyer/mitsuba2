{
 "cells": [
  {
   "cell_type": "code",
   "execution_count": 1,
   "metadata": {},
   "outputs": [],
   "source": [
    "import mitsuba\n",
    "mitsuba.set_variant(\"packet_spectral\")\n",
    "from mitsuba.render import Histogram\n",
    "import numpy as np\n",
    "import matplotlib.pyplot as plt\n",
    "from utils import plot_spectogram, fractionalOctaves, SOUND_SPEED"
   ]
  },
  {
   "cell_type": "code",
   "execution_count": 2,
   "metadata": {},
   "outputs": [],
   "source": [
    "def decay(x, slope):\n",
    "    return 1 / (x + slope) * slope\n",
    "\n",
    "def generate_decaying_samples(n_samples, n_features):\n",
    "    x = np.linspace(0, 1, n_samples)\n",
    "    x = (np.tile(x, (n_features, 1)) * np.logspace(0, 1, n_features)[np.newaxis].transpose()).transpose()\n",
    "    x = decay(x, np.random.uniform(size=(n_samples, n_features)))\n",
    "    return x"
   ]
  },
  {
   "cell_type": "markdown",
   "metadata": {},
   "source": [
    "### Linear binning (uniform sampling)"
   ]
  },
  {
   "cell_type": "code",
   "execution_count": 3,
   "metadata": {},
   "outputs": [
    {
     "ename": "TypeError",
     "evalue": "__init__(): incompatible constructor arguments. The following argument types are supported:\n    1. mitsuba.render.Histogram(time_step_count: int, time_range: enoki.scalar.Vector2f, wavelength_bins: List[float])\n\nInvoked with: kwargs: bin_count=10, time_step_count=50, wav_range=[0.017, 17], time_range=[0, 10]",
     "output_type": "error",
     "traceback": [
      "\u001b[0;31m---------------------------------------------------------------------------\u001b[0m",
      "\u001b[0;31mTypeError\u001b[0m                                 Traceback (most recent call last)",
      "\u001b[0;32m<ipython-input-3-b45a18e88757>\u001b[0m in \u001b[0;36m<module>\u001b[0;34m\u001b[0m\n\u001b[1;32m      5\u001b[0m \u001b[0mtime_range\u001b[0m \u001b[0;34m=\u001b[0m \u001b[0;34m[\u001b[0m\u001b[0;36m0\u001b[0m\u001b[0;34m,\u001b[0m \u001b[0;36m10\u001b[0m\u001b[0;34m]\u001b[0m \u001b[0;31m# seconds\u001b[0m\u001b[0;34m\u001b[0m\u001b[0;34m\u001b[0m\u001b[0m\n\u001b[1;32m      6\u001b[0m \u001b[0;34m\u001b[0m\u001b[0m\n\u001b[0;32m----> 7\u001b[0;31m \u001b[0mhist\u001b[0m \u001b[0;34m=\u001b[0m \u001b[0mHistogram\u001b[0m\u001b[0;34m(\u001b[0m\u001b[0mbin_count\u001b[0m\u001b[0;34m=\u001b[0m\u001b[0mn_bins\u001b[0m\u001b[0;34m,\u001b[0m \u001b[0mtime_step_count\u001b[0m\u001b[0;34m=\u001b[0m\u001b[0mn_time_steps\u001b[0m\u001b[0;34m,\u001b[0m \u001b[0mwav_range\u001b[0m\u001b[0;34m=\u001b[0m\u001b[0mwav_range\u001b[0m\u001b[0;34m,\u001b[0m \u001b[0mtime_range\u001b[0m\u001b[0;34m=\u001b[0m\u001b[0mtime_range\u001b[0m\u001b[0;34m)\u001b[0m\u001b[0;34m\u001b[0m\u001b[0;34m\u001b[0m\u001b[0m\n\u001b[0m\u001b[1;32m      8\u001b[0m \u001b[0;34m\u001b[0m\u001b[0m\n\u001b[1;32m      9\u001b[0m \u001b[0mspectrum\u001b[0m \u001b[0;34m=\u001b[0m \u001b[0mnp\u001b[0m\u001b[0;34m.\u001b[0m\u001b[0mones\u001b[0m\u001b[0;34m(\u001b[0m\u001b[0mshape\u001b[0m\u001b[0;34m=\u001b[0m\u001b[0;34m(\u001b[0m\u001b[0mn_samples\u001b[0m\u001b[0;34m,\u001b[0m \u001b[0;36m4\u001b[0m\u001b[0;34m)\u001b[0m\u001b[0;34m)\u001b[0m \u001b[0;31m# generate_decaying_samples(n_samples, 4)\u001b[0m\u001b[0;34m\u001b[0m\u001b[0;34m\u001b[0m\u001b[0m\n",
      "\u001b[0;31mTypeError\u001b[0m: __init__(): incompatible constructor arguments. The following argument types are supported:\n    1. mitsuba.render.Histogram(time_step_count: int, time_range: enoki.scalar.Vector2f, wavelength_bins: List[float])\n\nInvoked with: kwargs: bin_count=10, time_step_count=50, wav_range=[0.017, 17], time_range=[0, 10]"
     ]
    }
   ],
   "source": [
    "n_samples = 10000\n",
    "n_time_steps = 50\n",
    "n_bins = 10\n",
    "wav_range = [0.017, 17] # meters\n",
    "time_range = [0, 10] # seconds\n",
    "\n",
    "hist = Histogram(bin_count=n_bins, time_step_count=n_time_steps, wav_range=wav_range, time_range=time_range)\n",
    "\n",
    "spectrum = np.ones(shape=(n_samples, 4)) # generate_decaying_samples(n_samples, 4)\n",
    "wavelength = np.random.uniform(wav_range[0], wav_range[1], size=(n_samples, 4))\n",
    "time = np.sort(np.random.uniform(time_range[0], time_range[1], size=(n_samples, )))\n",
    "\n",
    "hist.clear()\n",
    "valid = hist.put(time, wavelength, spectrum)\n",
    "\n",
    "assert np.all(valid)"
   ]
  },
  {
   "cell_type": "code",
   "execution_count": 4,
   "metadata": {},
   "outputs": [
    {
     "ename": "NameError",
     "evalue": "name 'hist' is not defined",
     "output_type": "error",
     "traceback": [
      "\u001b[0;31m---------------------------------------------------------------------------\u001b[0m",
      "\u001b[0;31mNameError\u001b[0m                                 Traceback (most recent call last)",
      "\u001b[0;32m<ipython-input-4-1c536f16833c>\u001b[0m in \u001b[0;36m<module>\u001b[0;34m\u001b[0m\n\u001b[0;32m----> 1\u001b[0;31m \u001b[0mplot_spectogram\u001b[0m\u001b[0;34m(\u001b[0m\u001b[0mhist\u001b[0m\u001b[0;34m)\u001b[0m\u001b[0;34m\u001b[0m\u001b[0;34m\u001b[0m\u001b[0m\n\u001b[0m",
      "\u001b[0;31mNameError\u001b[0m: name 'hist' is not defined"
     ]
    }
   ],
   "source": [
    "plot_spectogram(hist)"
   ]
  },
  {
   "cell_type": "markdown",
   "metadata": {},
   "source": [
    "## Fractional Octave binning (pdf sampling)"
   ]
  },
  {
   "cell_type": "code",
   "execution_count": 5,
   "metadata": {},
   "outputs": [],
   "source": [
    "center, low, high, _ = fractionalOctaves(1)"
   ]
  },
  {
   "cell_type": "code",
   "execution_count": 12,
   "metadata": {},
   "outputs": [
    {
     "name": "stdout",
     "output_type": "stream",
     "text": [
      "[ 0.01532125  0.03056991  0.06099498  0.12170099  0.2428254   0.48450038\n",
      "  0.96670535  1.92883075  3.8485233   7.67881351 15.32124721]\n"
     ]
    }
   ],
   "source": [
    "# Glue together the bins\n",
    "bins = np.concatenate(([low[0]],high))\n",
    "bins_wav = np.flip(SOUND_SPEED / bins)\n",
    "center_wav = np.flip(SOUND_SPEED / center)\n",
    "print(bins_wav)"
   ]
  },
  {
   "cell_type": "code",
   "execution_count": 7,
   "metadata": {},
   "outputs": [],
   "source": [
    "all_freq = np.concatenate((low, center, high))\n",
    "all_freq = np.unique(np.sort(all_freq.round(decimals=10)))\n",
    "all_freq_wav = np.flip(SOUND_SPEED / all_freq)"
   ]
  },
  {
   "cell_type": "code",
   "execution_count": 8,
   "metadata": {},
   "outputs": [],
   "source": [
    "def fractionalOctaveBin(f_high, f):\n",
    "    #return np.argmax(f_high > f, axis=0)\n",
    "    return np.searchsorted(f_high, f)"
   ]
  },
  {
   "cell_type": "code",
   "execution_count": 9,
   "metadata": {},
   "outputs": [],
   "source": [
    "from mitsuba.core import IrregularContinuousDistribution"
   ]
  },
  {
   "cell_type": "code",
   "execution_count": 10,
   "metadata": {},
   "outputs": [
    {
     "data": {
      "image/png": "[encoded data removed]",
      "text/plain": [
       "<Figure size 1080x360 with 2 Axes>"
      ]
     },
     "metadata": {
      "needs_background": "light"
     },
     "output_type": "display_data"
    }
   ],
   "source": [
    "n_samples = 10000\n",
    "n_time_steps = 50\n",
    "time_range = [0, 10] # seconds\n",
    "\n",
    "hist2 = Histogram(time_step_count=n_time_steps, time_range=time_range, wavelength_bins=bins_wav)\n",
    "hist3 = Histogram(time_step_count=n_time_steps, time_range=time_range, wavelength_bins=bins_wav)\n",
    "\n",
    "# Sampling from continous distribution\n",
    "d = IrregularContinuousDistribution(bins_wav, np.flip(bins / np.sum(bins)))\n",
    "d2 = IrregularContinuousDistribution(all_freq_wav, np.flip(all_freq / np.sum(all_freq)))\n",
    "\n",
    "uniform_samples = np.random.uniform(0, 1, size=(n_samples, 4))\n",
    "\n",
    "distribution_samples = np.array([d.sample(x) for x in uniform_samples])\n",
    "distribution_samples2 = np.array([d2.sample(x) for x in uniform_samples])\n",
    "\n",
    "spectrum = np.ones(shape=(n_samples, 4))\n",
    "wavelength = distribution_samples\n",
    "wavelength2 = distribution_samples2\n",
    "time = np.sort(np.random.uniform(time_range[0], time_range[1], size=(n_samples, )))\n",
    "\n",
    "hist2.clear()\n",
    "hist3.clear()\n",
    "\n",
    "valid = hist2.put(time, wavelength, spectrum)\n",
    "valid2 = hist3.put(time, wavelength2, spectrum)\n",
    "\n",
    "assert np.all(valid) and np.all(valid2)\n",
    "assert np.allclose(hist2.data(), hist3.data())\n",
    "plot_spectogram(hist2, bins=center)"
   ]
  }
 ],
 "metadata": {
  "kernelspec": {
   "display_name": "Python 3",
   "language": "python",
   "name": "python3"
  },
  "language_info": {
   "codemirror_mode": {
    "name": "ipython",
    "version": 3
   },
   "file_extension": ".py",
   "mimetype": "text/x-python",
   "name": "python",
   "nbconvert_exporter": "python",
   "pygments_lexer": "ipython3",
   "version": "3.9.1"
  }
 },
 "nbformat": 4,
 "nbformat_minor": 4
}
