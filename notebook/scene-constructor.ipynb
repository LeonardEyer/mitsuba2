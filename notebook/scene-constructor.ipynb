{
 "cells": [
  {
   "cell_type": "code",
   "execution_count": 1,
   "metadata": {},
   "outputs": [
    {
     "data": {
      "text/html": [
       "<span style=\"font-family: monospace; color: #000\">2021-06-14 14:01:56 INFO  main  [optix_api.cpp:56] Dynamic loading of the Optix library ..</span>"
      ]
     },
     "metadata": {},
     "output_type": "display_data"
    }
   ],
   "source": [
    "import mitsuba\n",
    "import numpy as np\n",
    "mitsuba.set_variant(\"gpu_autodiff_rgb\")\n",
    "from mitsuba.core.xml import load_dict\n",
    "from mitsuba.python.autodiff import render, write_bitmap\n",
    "#from mitsuba.core import Thread, LogLevel\n",
    "#Thread.thread().logger().set_log_level(LogLevel.Debug)\n",
    "import enoki as ek\n",
    "ek.cuda_set_log_level(0)"
   ]
  },
  {
   "cell_type": "code",
   "execution_count": 5,
   "metadata": {},
   "outputs": [],
   "source": [
    "def make_shoebox_scene(emitter_pos, sensor_pos, box_dimensions, radius=1.0, spp=8, sp_pass=8):\n",
    "    from mitsuba.core import ScalarTransform4f\n",
    "    \n",
    "    def transform(scale=[1, 1, 1], rotate=([0, 0, 0], 0), translate=[0, 0, 0]):\n",
    "        a = ScalarTransform4f.scale(scale)\n",
    "        b = ScalarTransform4f.rotate(*rotate)\n",
    "        c = ScalarTransform4f.translate(translate)\n",
    "        return c * b * a\n",
    "    \n",
    "    global_translation = transform(translate=np.array(box_dimensions) / 2)\n",
    "    \n",
    "    scene = {\n",
    "        \"type\": \"scene\",\n",
    "        \"myintegrator\" : {\n",
    "            \"type\": \"path\",\n",
    "            \"max_depth\": 5,\n",
    "            \"samples_per_pass\": sp_pass\n",
    "        },\n",
    "        \"bsdf_neutral\": {\n",
    "            \"type\": \"diffuse\",\n",
    "            \"reflectance\": {\n",
    "                \"type\": \"rgb\",\n",
    "                \"value\": [1., 0., 1.]\n",
    "            }\n",
    "        },\n",
    "        \"sensor_shape\" : {\n",
    "            \"id\": \"sensor\",\n",
    "            \"type\": \"sphere\",\n",
    "            \"radius\": radius,\n",
    "            \"to_world\": transform(translate=sensor_pos)\n",
    "        },\n",
    "        \"shoebox\": {\n",
    "            \"id\": \"shoebox\",\n",
    "            \"type\": \"obj\",\n",
    "            \"filename\": \"../resources/cuberoom.obj\",\n",
    "            \"bsdf\": {\n",
    "                \"type\": \"ref\",\n",
    "                \"id\": \"bsdf_neutral\"\n",
    "            },\n",
    "            \"to_world\": global_translation * transform(scale=np.array(box_dimensions) / 2)\n",
    "        },\n",
    "        \"mysensor\": {\n",
    "            \"type\": \"perspective\",\n",
    "            \"near_clip\": 0.1,\n",
    "            \"far_clip\": 1000,\n",
    "            \"fov\": 70,\n",
    "            \"to_world\": global_translation * ScalarTransform4f.look_at(\n",
    "                target=[-1, -1, -1] * np.array(np.array(box_dimensions) / 2),\n",
    "                origin=[.8, .8, 0] * np.array(np.array(box_dimensions) / 2),\n",
    "                up=[0, 0, 1]\n",
    "            ),\n",
    "            \"myfilm\": {\n",
    "                \"type\": \"hdrfilm\",\n",
    "                \"width\": 200,\n",
    "                \"height\": 200,\n",
    "                \"pixel_format\": \"rgb\"\n",
    "            },\n",
    "            \"sampler\": {\n",
    "                \"type\": \"independent\",\n",
    "                \"sample_count\" : spp\n",
    "            }\n",
    "        }\n",
    "    }\n",
    "    \n",
    "    scene['emitter_shape'] =  {\n",
    "        \"id\": \"emitter\",\n",
    "        \"type\" : \"sphere\",\n",
    "        \"radius\": radius,\n",
    "        \"to_world\": transform(translate=emitter_pos),\n",
    "        \"emitter\": {\n",
    "            \"type\": \"smoothsphere\",\n",
    "            \"radiance\": {\n",
    "                \"type\": \"uniform\",\n",
    "                \"value\": 10\n",
    "            },\n",
    "            \"blur_size\": 0.5\n",
    "        }\n",
    "    }\n",
    "    \n",
    "    #del scene['emitter_shape']['emitter']\n",
    "    \n",
    "    scene['ceiling_light'] = {\n",
    "        \"type\": \"rectangle\",\n",
    "        \"to_world\": global_translation * transform(scale=np.array(box_dimensions) / 4, rotate=([0, 1, 0], 180), translate=[0, 0, 1]),\n",
    "        \"emitter\": {\n",
    "            \"type\": \"smootharea\",\n",
    "            \"radiance\": {\n",
    "                \"type\": \"uniform\",\n",
    "                \"value\": 10\n",
    "            },\n",
    "            \"blur_size\": .5\n",
    "        }\n",
    "    }\n",
    "    \n",
    "    del scene['ceiling_light']\n",
    "    return scene"
   ]
  },
  {
   "cell_type": "code",
   "execution_count": 6,
   "metadata": {},
   "outputs": [
    {
     "data": {
      "text/html": [
       "<span style=\"font-family: monospace; color: #bbb\">2021-06-14 14:02:04 DEBUG main  [OBJMesh] Loading mesh from &quot;cuberoom.obj&quot; ..</span>"
      ]
     },
     "metadata": {},
     "output_type": "display_data"
    },
    {
     "data": {
      "text/html": [
       "<span style=\"font-family: monospace; color: #bbb\">2021-06-14 14:02:04 DEBUG main  [OBJMesh] &quot;cuberoom.obj&quot;: read 12 faces, 24 vertices (912 B in 0ms)</span>"
      ]
     },
     "metadata": {},
     "output_type": "display_data"
    },
    {
     "data": {
      "text/html": [
       "<span style=\"font-family: monospace; color: #000\">2021-06-14 14:02:04 INFO  main  [Scene] Building scene in OptiX ..</span>"
      ]
     },
     "metadata": {},
     "output_type": "display_data"
    }
   ],
   "source": [
    "scene_dict = make_shoebox_scene([21, 10, 3], [9, 6, 1], [25, 12, 7], radius=0.5, spp=10, sp_pass=10)\n",
    "scene = load_dict(scene_dict)"
   ]
  },
  {
   "cell_type": "code",
   "execution_count": 7,
   "metadata": {},
   "outputs": [],
   "source": [
    "image_ref = render(scene, spp=16)\n",
    "\n",
    "crop_size = scene.sensors()[0].film().crop_size()\n",
    "\n",
    "write_bitmap('output/out.jpg', image_ref, crop_size)"
   ]
  },
  {
   "cell_type": "code",
   "execution_count": null,
   "metadata": {},
   "outputs": [],
   "source": []
  },
  {
   "cell_type": "code",
   "execution_count": null,
   "metadata": {},
   "outputs": [],
   "source": []
  }
 ],
 "metadata": {
  "kernelspec": {
   "display_name": "Python 3",
   "language": "python",
   "name": "python3"
  },
  "language_info": {
   "codemirror_mode": {
    "name": "ipython",
    "version": 3
   },
   "file_extension": ".py",
   "mimetype": "text/x-python",
   "name": "python",
   "nbconvert_exporter": "python",
   "pygments_lexer": "ipython3",
   "version": "3.8.6"
  }
 },
 "nbformat": 4,
 "nbformat_minor": 4
}
