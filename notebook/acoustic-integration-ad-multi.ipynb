{
 "cells": [
  {
   "cell_type": "code",
   "execution_count": 1,
   "metadata": {},
   "outputs": [
    {
     "data": {
      "text/html": [
       "<span style=\"font-family: monospace; color: #000\">2021-05-21 13:36:34 INFO  main  [optix_api.cpp:56] Dynamic loading of the Optix library ..</span>"
      ]
     },
     "metadata": {},
     "output_type": "display_data"
    }
   ],
   "source": [
    "import enoki as ek\n",
    "import numpy as np\n",
    "import matplotlib.pyplot as plt\n",
    "import mitsuba\n",
    "mitsuba.set_variant('gpu_autodiff_acoustic')\n",
    "from mitsuba.python.util import traverse\n",
    "import time\n",
    "from tqdm.notebook import trange, tqdm"
   ]
  },
  {
   "cell_type": "code",
   "execution_count": 2,
   "metadata": {
    "tags": []
   },
   "outputs": [],
   "source": [
    "def estimate_detector_radius(room_dimensions, N):\n",
    "    return ((15 * room_dimensions[0] * room_dimensions[1] * room_dimensions[2]) / (2 * np.pi * N))**(1/2)\n",
    "\n",
    "def estimate_max_depth(box_dimensions, max_time, boost=1):\n",
    "    max_box_distance = np.linalg.norm(box_dimensions) / 2\n",
    "    max_box_time = max_box_distance / 343\n",
    "    max_depth_estimate = np.ceil(max_time / max_box_time * boost).astype(int) \n",
    "    return max_depth_estimate\n",
    "\n",
    "def make_shoebox_scene(emitter_pos, sensor_pos, box_dimensions, radius, max_time, time_steps, \n",
    "                       spp, bins, rfilter, max_depth, samples_per_pass, scattering,absorption, hide_sensor=True):\n",
    "    \n",
    "    from mitsuba.core import ScalarTransform4f\n",
    "\n",
    "    def transform(scale=None, rotate=None, translate=None):\n",
    "        if translate is None:\n",
    "            translate = [0, 0, 0]\n",
    "        if scale is None:\n",
    "            scale = [1, 1, 1]\n",
    "        if rotate is None:\n",
    "            rotate = ([0, 0, 0], 0)\n",
    "\n",
    "        a = ScalarTransform4f.scale(scale)\n",
    "        b = ScalarTransform4f.rotate(*rotate)\n",
    "        c = ScalarTransform4f.translate(translate)\n",
    "        return c * b * a\n",
    "\n",
    "    global_translation = transform(translate=np.array(box_dimensions) / 2)\n",
    "\n",
    "    scene = {\n",
    "        \"type\": \"scene\",\n",
    "        \"bsdf_neutral\": {\n",
    "            \"type\": \"acousticbsdf\",\n",
    "            \"scattering\": {\n",
    "                \"type\": \"acoustic\",\n",
    "                \"value\": scattering[0]\n",
    "            },\n",
    "            \"absorption\": {\n",
    "                \"type\": \"spectrum\",\n",
    "                \"value\": absorption[0]\n",
    "            }\n",
    "        },\n",
    "        \"bsdf_neutral2\": {\n",
    "            \"type\": \"acousticbsdf\",\n",
    "            \"scattering\": {\n",
    "                \"type\": \"acoustic\",\n",
    "                \"value\": scattering[1]\n",
    "            },\n",
    "            \"absorption\": {\n",
    "                \"type\": \"spectrum\",\n",
    "                \"value\": absorption[1]\n",
    "            }\n",
    "        },\n",
    "        \"bsdf_neutral3\": {\n",
    "            \"type\": \"acousticbsdf\",\n",
    "            \"scattering\": {\n",
    "                \"type\": \"acoustic\",\n",
    "                \"value\": scattering[2]\n",
    "            },\n",
    "            \"absorption\": {\n",
    "                \"type\": \"spectrum\",\n",
    "                \"value\": absorption[2]\n",
    "            }\n",
    "        },\n",
    "        \"emitter_shape\": {\n",
    "            \"id\": \"emitter\",\n",
    "            \"type\": \"sphere\",\n",
    "            \"radius\": radius,\n",
    "            \"to_world\": transform(translate=emitter_pos),\n",
    "            \"emitter\": {\n",
    "                \"type\": \"area\",\n",
    "                \"radiance\": {\n",
    "                    \"type\": \"uniform\",\n",
    "                    \"value\": 1\n",
    "                }\n",
    "            }\n",
    "        },\n",
    "        \"sensor\": {\n",
    "            \"type\": \"microphone\",\n",
    "            \"to_world\": transform(translate=sensor_pos),\n",
    "            \"sampler\": {\n",
    "                \"type\": \"independent\",\n",
    "                \"sample_count\": spp\n",
    "            },\n",
    "            \"myfilm\": {\n",
    "                \"type\": \"tape\",\n",
    "                \"time_steps\": time_steps,\n",
    "                \"wav_bins\": len(bins),\n",
    "                \"rfilter\": rfilter\n",
    "            }  \n",
    "        },\n",
    "        \"shoebox\": {\n",
    "            \"id\": \"shoebox_ref\",\n",
    "            \"type\": \"shapegroup\",\n",
    "            \"bottom\": {\n",
    "                \"type\": \"rectangle\",\n",
    "                \"to_world\": transform(\n",
    "                    scale=[1, 1, 1],\n",
    "                    translate=[0, 0, -1]),\n",
    "                \"bsdf\": {\n",
    "                    \"type\": \"ref\",\n",
    "                    \"id\": \"bsdf_neutral2\"\n",
    "                }\n",
    "            },\n",
    "            \"left\": {\n",
    "                \"type\": \"rectangle\",\n",
    "                \"to_world\": transform(\n",
    "                    scale=[1, 1, 1],\n",
    "                    rotate=([0, 1, 0], 90),\n",
    "                    translate=[-1, 0, 0]),\n",
    "                \"bsdf\": {\n",
    "                    \"type\": \"ref\",\n",
    "                    \"id\": \"bsdf_neutral3\"\n",
    "                }\n",
    "            },\n",
    "            \"back\": {\n",
    "                \"type\": \"rectangle\",\n",
    "                \"to_world\": transform(\n",
    "                    scale=[1, 1, 1],\n",
    "                    rotate=([1, 0, 0], 90),\n",
    "                    translate=[0, 1, 0]),\n",
    "                \"bsdf\": {\n",
    "                    \"type\": \"ref\",\n",
    "                    \"id\": \"bsdf_neutral\"\n",
    "                }\n",
    "            },\n",
    "            \"front\": {\n",
    "                \"type\": \"rectangle\",\n",
    "                \"to_world\": transform(\n",
    "                    scale=[1, 1, 1],\n",
    "                    rotate=([1, 0, 0], -90),\n",
    "                    translate=[0, -1, 0]),\n",
    "                \"bsdf\": {\n",
    "                    \"type\": \"ref\",\n",
    "                    \"id\": \"bsdf_neutral\"\n",
    "                }\n",
    "            },\n",
    "            \"right\": {\n",
    "                \"type\": \"rectangle\",\n",
    "                \"to_world\": transform(\n",
    "                    scale=[1, 1, 1],\n",
    "                    rotate=([0, 1, 0], -90),\n",
    "                    translate=[1, 0, 0]),\n",
    "                \"bsdf\": {\n",
    "                    \"type\": \"ref\",\n",
    "                    \"id\": \"bsdf_neutral\"\n",
    "                }\n",
    "            },\n",
    "            \"top\": {\n",
    "                \"type\": \"rectangle\",\n",
    "                \"to_world\": transform(\n",
    "                    scale=[1, 1, 1],\n",
    "                    rotate=([0, 1, 0], 180),\n",
    "                    translate=[0, 0, 1]),\n",
    "                \"bsdf\": {\n",
    "                    \"type\": \"ref\",\n",
    "                    \"id\": \"bsdf_neutral\"\n",
    "                }\n",
    "            }\n",
    "        },\n",
    "        \"shoebox_instance\": {\n",
    "            \"type\": \"instance\",\n",
    "            \"shape\": {\n",
    "                \"type\": \"ref\",\n",
    "                \"id\": \"shoebox_ref\"\n",
    "            },\n",
    "            \"to_world\": global_translation * transform(scale=np.array(box_dimensions) / 2)\n",
    "        },\n",
    "        \"integrator\": {\n",
    "            \"type\": \"acousticpath\",\n",
    "            \"max_depth\": int(max_depth),\n",
    "            \"max_time\": max_time,\n",
    "            \"wavelength_bins\": ','.join(str(x) for x in bins),\n",
    "            \"samples_per_pass\": samples_per_pass\n",
    "        }\n",
    "    }\n",
    "    return scene\n",
    "\n",
    "def get_vals(data, size, copy=False):\n",
    "    return np.array(data, copy=copy).reshape(size)\n"
   ]
  },
  {
   "cell_type": "code",
   "execution_count": 3,
   "metadata": {
    "tags": []
   },
   "outputs": [
    {
     "data": {
      "text/html": [
       "<span style=\"font-family: monospace; color: #000\">2021-05-21 13:36:34 INFO  main  [PluginManager] Loading plugin &quot;plugins/acousticbsdf.so&quot; ..</span>"
      ]
     },
     "metadata": {},
     "output_type": "display_data"
    },
    {
     "data": {
      "text/html": [
       "<span style=\"font-family: monospace; color: #000\">2021-05-21 13:36:34 INFO  main  [PluginManager] Loading plugin &quot;plugins/acoustic.so&quot; ..</span>"
      ]
     },
     "metadata": {},
     "output_type": "display_data"
    },
    {
     "data": {
      "text/html": [
       "<span style=\"font-family: monospace; color: #000\">2021-05-21 13:36:34 INFO  main  [PluginManager] Loading plugin &quot;plugins/uniform.so&quot; ..</span>"
      ]
     },
     "metadata": {},
     "output_type": "display_data"
    },
    {
     "data": {
      "text/html": [
       "<span style=\"font-family: monospace; color: #000\">2021-05-21 13:36:34 INFO  main  [PluginManager] Loading plugin &quot;plugins/irregular.so&quot; ..</span>"
      ]
     },
     "metadata": {},
     "output_type": "display_data"
    },
    {
     "data": {
      "text/html": [
       "<span style=\"font-family: monospace; color: #000\">2021-05-21 13:36:34 INFO  main  [PluginManager] Loading plugin &quot;plugins/sphere.so&quot; ..</span>"
      ]
     },
     "metadata": {},
     "output_type": "display_data"
    },
    {
     "data": {
      "text/html": [
       "<span style=\"font-family: monospace; color: #000\">2021-05-21 13:36:34 INFO  main  [PluginManager] Loading plugin &quot;plugins/area.so&quot; ..</span>"
      ]
     },
     "metadata": {},
     "output_type": "display_data"
    },
    {
     "data": {
      "text/html": [
       "<span style=\"font-family: monospace; color: #000\">2021-05-21 13:36:34 INFO  main  [PluginManager] Loading plugin &quot;plugins/d65.so&quot; ..</span>"
      ]
     },
     "metadata": {},
     "output_type": "display_data"
    },
    {
     "data": {
      "text/html": [
       "<span style=\"font-family: monospace; color: #000\">2021-05-21 13:36:34 INFO  main  [PluginManager] Loading plugin &quot;plugins/regular.so&quot; ..</span>"
      ]
     },
     "metadata": {},
     "output_type": "display_data"
    },
    {
     "data": {
      "text/html": [
       "<span style=\"font-family: monospace; color: #000\">2021-05-21 13:36:34 INFO  main  [PluginManager] Loading plugin &quot;plugins/diffuse.so&quot; ..</span>"
      ]
     },
     "metadata": {},
     "output_type": "display_data"
    },
    {
     "data": {
      "text/html": [
       "<span style=\"font-family: monospace; color: #000\">2021-05-21 13:36:34 INFO  main  [PluginManager] Loading plugin &quot;plugins/microphone.so&quot; ..</span>"
      ]
     },
     "metadata": {},
     "output_type": "display_data"
    },
    {
     "data": {
      "text/html": [
       "<span style=\"font-family: monospace; color: #000\">2021-05-21 13:36:34 INFO  main  [PluginManager] Loading plugin &quot;plugins/independent.so&quot; ..</span>"
      ]
     },
     "metadata": {},
     "output_type": "display_data"
    },
    {
     "data": {
      "text/html": [
       "<span style=\"font-family: monospace; color: #000\">2021-05-21 13:36:34 INFO  main  [PluginManager] Loading plugin &quot;plugins/tape.so&quot; ..</span>"
      ]
     },
     "metadata": {},
     "output_type": "display_data"
    },
    {
     "data": {
      "text/html": [
       "<span style=\"font-family: monospace; color: #000\">2021-05-21 13:36:34 INFO  main  [PluginManager] Loading plugin &quot;plugins/gaussian.so&quot; ..</span>"
      ]
     },
     "metadata": {},
     "output_type": "display_data"
    },
    {
     "data": {
      "text/html": [
       "<span style=\"font-family: monospace; color: #000\">2021-05-21 13:36:34 INFO  main  [PluginManager] Loading plugin &quot;plugins/shapegroup.so&quot; ..</span>"
      ]
     },
     "metadata": {},
     "output_type": "display_data"
    },
    {
     "data": {
      "text/html": [
       "<span style=\"font-family: monospace; color: #000\">2021-05-21 13:36:34 INFO  main  [PluginManager] Loading plugin &quot;plugins/rectangle.so&quot; ..</span>"
      ]
     },
     "metadata": {},
     "output_type": "display_data"
    },
    {
     "data": {
      "text/html": [
       "<span style=\"font-family: monospace; color: #000\">2021-05-21 13:36:34 INFO  main  [ShapeKDTree] Building a SAH kd-tree (6 primitives) ..</span>"
      ]
     },
     "metadata": {},
     "output_type": "display_data"
    },
    {
     "data": {
      "text/html": [
       "<span style=\"font-family: monospace; color: #bbb\">2021-05-21 13:36:34 DEBUG main  [TShapeKDTree] kd-tree configuration:</span>"
      ]
     },
     "metadata": {},
     "output_type": "display_data"
    },
    {
     "data": {
      "text/html": [
       "<span style=\"font-family: monospace; color: #bbb\">2021-05-21 13:36:34 DEBUG main  [TShapeKDTree]    Cost model               : SurfaceAreaHeuristic3[\n",
       "2021-05-21 13:36:34 DEBUG main  [TShapeKDTree]                                 query_cost = 20,\n",
       "2021-05-21 13:36:34 DEBUG main  [TShapeKDTree]                                 traversal_cost = 15,\n",
       "2021-05-21 13:36:34 DEBUG main  [TShapeKDTree]                                 empty_space_bonus = 0.9\n",
       "2021-05-21 13:36:34 DEBUG main  [TShapeKDTree]                               ]</span>"
      ]
     },
     "metadata": {},
     "output_type": "display_data"
    },
    {
     "data": {
      "text/html": [
       "<span style=\"font-family: monospace; color: #bbb\">2021-05-21 13:36:34 DEBUG main  [TShapeKDTree]    Max. tree depth          : 10</span>"
      ]
     },
     "metadata": {},
     "output_type": "display_data"
    },
    {
     "data": {
      "text/html": [
       "<span style=\"font-family: monospace; color: #bbb\">2021-05-21 13:36:34 DEBUG main  [TShapeKDTree]    Scene bounding box (min) : [-1, -1, -1]</span>"
      ]
     },
     "metadata": {},
     "output_type": "display_data"
    },
    {
     "data": {
      "text/html": [
       "<span style=\"font-family: monospace; color: #bbb\">2021-05-21 13:36:34 DEBUG main  [TShapeKDTree]    Scene bounding box (max) : [1, 1, 1]</span>"
      ]
     },
     "metadata": {},
     "output_type": "display_data"
    },
    {
     "data": {
      "text/html": [
       "<span style=\"font-family: monospace; color: #bbb\">2021-05-21 13:36:34 DEBUG main  [TShapeKDTree]    Min-max bins             : 128</span>"
      ]
     },
     "metadata": {},
     "output_type": "display_data"
    },
    {
     "data": {
      "text/html": [
       "<span style=\"font-family: monospace; color: #bbb\">2021-05-21 13:36:34 DEBUG main  [TShapeKDTree]    O(n log n) method        : use for &lt;= 65536 primitives</span>"
      ]
     },
     "metadata": {},
     "output_type": "display_data"
    },
    {
     "data": {
      "text/html": [
       "<span style=\"font-family: monospace; color: #bbb\">2021-05-21 13:36:34 DEBUG main  [TShapeKDTree]    Stopping primitive count : 3</span>"
      ]
     },
     "metadata": {},
     "output_type": "display_data"
    },
    {
     "data": {
      "text/html": [
       "<span style=\"font-family: monospace; color: #bbb\">2021-05-21 13:36:34 DEBUG main  [TShapeKDTree]    Perfect splits           : yes</span>"
      ]
     },
     "metadata": {},
     "output_type": "display_data"
    },
    {
     "data": {
      "text/html": [
       "<span style=\"font-family: monospace; color: #bbb\">2021-05-21 13:36:34 DEBUG main  [TShapeKDTree]    Retract bad splits       : yes</span>"
      ]
     },
     "metadata": {},
     "output_type": "display_data"
    },
    {
     "data": {
      "text/html": [
       "<span style=\"font-family: monospace; color: #bbb\">2021-05-21 13:36:34 DEBUG main  [TShapeKDTree] </span>"
      ]
     },
     "metadata": {},
     "output_type": "display_data"
    },
    {
     "data": {
      "text/html": [
       "<span style=\"font-family: monospace; color: #bbb\">2021-05-21 13:36:34 DEBUG main  [TShapeKDTree] Creating a preliminary index list (24 B)</span>"
      ]
     },
     "metadata": {},
     "output_type": "display_data"
    },
    {
     "data": {
      "text/html": [
       "<span style=\"font-family: monospace; color: #bbb\">2021-05-21 13:36:34 DEBUG main  [TShapeKDTree] Structural kd-tree statistics:</span>"
      ]
     },
     "metadata": {},
     "output_type": "display_data"
    },
    {
     "data": {
      "text/html": [
       "<span style=\"font-family: monospace; color: #bbb\">2021-05-21 13:36:34 DEBUG main  [TShapeKDTree]    Primitive references        : 6 (24 B)</span>"
      ]
     },
     "metadata": {},
     "output_type": "display_data"
    },
    {
     "data": {
      "text/html": [
       "<span style=\"font-family: monospace; color: #bbb\">2021-05-21 13:36:34 DEBUG main  [TShapeKDTree]    kd-tree nodes               : 1 (8 B)</span>"
      ]
     },
     "metadata": {},
     "output_type": "display_data"
    },
    {
     "data": {
      "text/html": [
       "<span style=\"font-family: monospace; color: #bbb\">2021-05-21 13:36:34 DEBUG main  [TShapeKDTree]    kd-tree depth               : 0</span>"
      ]
     },
     "metadata": {},
     "output_type": "display_data"
    },
    {
     "data": {
      "text/html": [
       "<span style=\"font-family: monospace; color: #bbb\">2021-05-21 13:36:34 DEBUG main  [TShapeKDTree]    Temporary storage used      : 5 MiB</span>"
      ]
     },
     "metadata": {},
     "output_type": "display_data"
    },
    {
     "data": {
      "text/html": [
       "<span style=\"font-family: monospace; color: #bbb\">2021-05-21 13:36:34 DEBUG main  [TShapeKDTree]    Parallel work units         : 1</span>"
      ]
     },
     "metadata": {},
     "output_type": "display_data"
    },
    {
     "data": {
      "text/html": [
       "<span style=\"font-family: monospace; color: #bbb\">2021-05-21 13:36:34 DEBUG main  [TShapeKDTree]    Leaf node histogram         : 0(0) 1(0) 2(0) 3(0) </span>"
      ]
     },
     "metadata": {},
     "output_type": "display_data"
    },
    {
     "data": {
      "text/html": [
       "<span style=\"font-family: monospace; color: #bbb\">2021-05-21 13:36:34 DEBUG main  [TShapeKDTree]                                  4(0) 5(0) 6(1) 7(0) </span>"
      ]
     },
     "metadata": {},
     "output_type": "display_data"
    },
    {
     "data": {
      "text/html": [
       "<span style=\"font-family: monospace; color: #bbb\">2021-05-21 13:36:34 DEBUG main  [TShapeKDTree]                                  8(0) 9(0) 10(0) 11(0) </span>"
      ]
     },
     "metadata": {},
     "output_type": "display_data"
    },
    {
     "data": {
      "text/html": [
       "<span style=\"font-family: monospace; color: #bbb\">2021-05-21 13:36:34 DEBUG main  [TShapeKDTree]                                  12(0) 13(0) 14(0) 15(0) </span>"
      ]
     },
     "metadata": {},
     "output_type": "display_data"
    },
    {
     "data": {
      "text/html": [
       "<span style=\"font-family: monospace; color: #bbb\">2021-05-21 13:36:34 DEBUG main  [TShapeKDTree] </span>"
      ]
     },
     "metadata": {},
     "output_type": "display_data"
    },
    {
     "data": {
      "text/html": [
       "<span style=\"font-family: monospace; color: #bbb\">2021-05-21 13:36:34 DEBUG main  [TShapeKDTree] Qualitative kd-tree statistics:</span>"
      ]
     },
     "metadata": {},
     "output_type": "display_data"
    },
    {
     "data": {
      "text/html": [
       "<span style=\"font-family: monospace; color: #bbb\">2021-05-21 13:36:34 DEBUG main  [TShapeKDTree]    Retracted splits            : 0</span>"
      ]
     },
     "metadata": {},
     "output_type": "display_data"
    },
    {
     "data": {
      "text/html": [
       "<span style=\"font-family: monospace; color: #bbb\">2021-05-21 13:36:34 DEBUG main  [TShapeKDTree]    Bad refines                 : 0</span>"
      ]
     },
     "metadata": {},
     "output_type": "display_data"
    },
    {
     "data": {
      "text/html": [
       "<span style=\"font-family: monospace; color: #bbb\">2021-05-21 13:36:34 DEBUG main  [TShapeKDTree]    Pruned                      : 0</span>"
      ]
     },
     "metadata": {},
     "output_type": "display_data"
    },
    {
     "data": {
      "text/html": [
       "<span style=\"font-family: monospace; color: #bbb\">2021-05-21 13:36:34 DEBUG main  [TShapeKDTree]    Largest leaf node           : 6 primitives</span>"
      ]
     },
     "metadata": {},
     "output_type": "display_data"
    },
    {
     "data": {
      "text/html": [
       "<span style=\"font-family: monospace; color: #bbb\">2021-05-21 13:36:34 DEBUG main  [TShapeKDTree]    Avg. prims/nonempty leaf    : 6.00</span>"
      ]
     },
     "metadata": {},
     "output_type": "display_data"
    },
    {
     "data": {
      "text/html": [
       "<span style=\"font-family: monospace; color: #bbb\">2021-05-21 13:36:34 DEBUG main  [TShapeKDTree]    Expected traversals/query   : 0.00</span>"
      ]
     },
     "metadata": {},
     "output_type": "display_data"
    },
    {
     "data": {
      "text/html": [
       "<span style=\"font-family: monospace; color: #bbb\">2021-05-21 13:36:34 DEBUG main  [TShapeKDTree]    Expected leaf visits/query  : 1.00</span>"
      ]
     },
     "metadata": {},
     "output_type": "display_data"
    },
    {
     "data": {
      "text/html": [
       "<span style=\"font-family: monospace; color: #bbb\">2021-05-21 13:36:34 DEBUG main  [TShapeKDTree]    Expected prim. visits/query : 6.00</span>"
      ]
     },
     "metadata": {},
     "output_type": "display_data"
    },
    {
     "data": {
      "text/html": [
       "<span style=\"font-family: monospace; color: #bbb\">2021-05-21 13:36:34 DEBUG main  [TShapeKDTree]    Final cost                  : 120.00</span>"
      ]
     },
     "metadata": {},
     "output_type": "display_data"
    },
    {
     "data": {
      "text/html": [
       "<span style=\"font-family: monospace; color: #bbb\">2021-05-21 13:36:34 DEBUG main  [TShapeKDTree] </span>"
      ]
     },
     "metadata": {},
     "output_type": "display_data"
    },
    {
     "data": {
      "text/html": [
       "<span style=\"font-family: monospace; color: #000\">2021-05-21 13:36:34 INFO  main  [ShapeKDTree] Finished. (32 B of storage, took 19ms)</span>"
      ]
     },
     "metadata": {},
     "output_type": "display_data"
    },
    {
     "data": {
      "text/html": [
       "<span style=\"font-family: monospace; color: #000\">2021-05-21 13:36:34 INFO  main  [PluginManager] Loading plugin &quot;plugins/instance.so&quot; ..</span>"
      ]
     },
     "metadata": {},
     "output_type": "display_data"
    },
    {
     "data": {
      "text/html": [
       "<span style=\"font-family: monospace; color: #000\">2021-05-21 13:36:34 INFO  main  [PluginManager] Loading plugin &quot;plugins/acousticpath.so&quot; ..</span>"
      ]
     },
     "metadata": {},
     "output_type": "display_data"
    },
    {
     "data": {
      "text/html": [
       "<span style=\"font-family: monospace; color: #000\">2021-05-21 13:36:34 INFO  main  [Scene] Building scene in OptiX ..</span>"
      ]
     },
     "metadata": {},
     "output_type": "display_data"
    }
   ],
   "source": [
    "from mitsuba.core.xml import load_string, load_dict\n",
    "\n",
    "bins = [1, 7, 17]\n",
    "\n",
    "absorption_all = [0.7, 0.06, 0.2]\n",
    "absorption_bottom = [0.8, 0.4, 0.7]\n",
    "absorption_left = [0.8, 0.08, 0.25]\n",
    "absorption = [absorption_all, absorption_bottom, absorption_left]\n",
    "absorption = [list(zip(bins, b)) for b in absorption]\n",
    "\n",
    "config = {\n",
    "    \"bins\": bins,\n",
    "    \"absorption\": absorption,\n",
    "    \"scattering\": [0.0] * 3,\n",
    "    \"max_time\": 1,\n",
    "    \"time_steps\": 10,\n",
    "    \"spp\": 1000,\n",
    "    \"samples_per_pass\": 1000,\n",
    "    \"box_dimensions\": [25, 12, 7],\n",
    "    \"emitter_pos\": [20, 7, 2],\n",
    "    \"sensor_pos\": [9, 6, 1],\n",
    "    \"radius\": 1.,  #estimate_detector_radius(box_dimensions, spp)\n",
    "    \"max_depth\": 132, #estimate_max_depth(0.9),\n",
    "    \"rfilter\": {\n",
    "        \"type\": \"gaussian\",\n",
    "        \"stddev\": 0.5\n",
    "    }\n",
    "}\n",
    "\n",
    "scene_dict = make_shoebox_scene(**config)\n",
    "scene = load_dict(scene_dict)\n",
    "size = scene.sensors()[0].film().size()"
   ]
  },
  {
   "cell_type": "code",
   "execution_count": 9,
   "metadata": {},
   "outputs": [
    {
     "name": "stdout",
     "output_type": "stream",
     "text": [
      "ParameterMap[\n",
      "  * AcousticBSDF.scattering.value,\n",
      "    AcousticBSDF.scattering.lambda_min,\n",
      "    AcousticBSDF.scattering.lambda_max,\n",
      "  * AcousticBSDF.absorption.wavelengths,\n",
      "  * AcousticBSDF.absorption.values,\n",
      "  * AcousticBSDF_1.scattering.value,\n",
      "    AcousticBSDF_1.scattering.lambda_min,\n",
      "    AcousticBSDF_1.scattering.lambda_max,\n",
      "  * AcousticBSDF_1.absorption.wavelengths,\n",
      "  * AcousticBSDF_1.absorption.values,\n",
      "  * AcousticBSDF_2.scattering.value,\n",
      "    AcousticBSDF_2.scattering.lambda_min,\n",
      "    AcousticBSDF_2.scattering.lambda_max,\n",
      "  * AcousticBSDF_2.absorption.wavelengths,\n",
      "  * AcousticBSDF_2.absorption.values,\n",
      "    emitter.to_world,\n",
      "  * emitter.bsdf.reflectance.value,\n",
      "    emitter.bsdf.reflectance.lambda_min,\n",
      "    emitter.bsdf.reflectance.lambda_max,\n",
      "  * emitter.emitter.radiance.value,\n",
      "    emitter.emitter.radiance.lambda_min,\n",
      "    emitter.emitter.radiance.lambda_max,\n",
      "    Microphone.shutter_open,\n",
      "    Microphone.shutter_open_time,\n",
      "    shoebox_ref.child_0.to_world,\n",
      "    shoebox_ref.child_1.to_world,\n",
      "    shoebox_ref.child_2.to_world,\n",
      "    shoebox_ref.child_3.to_world,\n",
      "    shoebox_ref.child_4.to_world,\n",
      "    shoebox_ref.child_5.to_world,\n",
      "    Instance.to_world,\n",
      "]\n",
      "AcousticBSDF.absorption.values: [0.941545, 0.103754, 0.247477]\n",
      "AcousticBSDF_1.absorption.values: [0.529848, 0.316147, 0.666312]\n",
      "AcousticBSDF_2.absorption.values: [0.144614, 0.0110242, 0.0904705]\n"
     ]
    },
    {
     "data": {
      "image/png": "[encoded data removed]",
      "text/plain": [
       "<Figure size 640x480 with 1 Axes>"
      ]
     },
     "metadata": {},
     "output_type": "display_data"
    }
   ],
   "source": [
    "from mitsuba.core import Spectrum, Float\n",
    "\n",
    "diff_params = ['AcousticBSDF.absorption.values', 'AcousticBSDF_1.absorption.values', 'AcousticBSDF_2.absorption.values']\n",
    "param_refs = {}\n",
    "\n",
    "params = traverse(scene)\n",
    "print(params)\n",
    "\n",
    "params.keep(diff_params)\n",
    "\n",
    "for p in diff_params:\n",
    "    print(f\"{p}: {params[p]}\")\n",
    "    param_refs[p] = Spectrum(params[p])\n",
    "\n",
    "from mitsuba.python.autodiff import render\n",
    "hist_ref = render(scene, spp=None)\n",
    "\n",
    "np_hist_ref = get_vals(hist_ref, size, copy=True)\n",
    "\n",
    "[plt.plot(np_hist_ref[:,i], label=bins[i]) for i in range(len(bins)) ]\n",
    "plt.legend()\n",
    "plt.show()"
   ]
  },
  {
   "cell_type": "code",
   "execution_count": 5,
   "metadata": {},
   "outputs": [],
   "source": [
    "import plotly.graph_objects as go\n",
    "from plotly.subplots import make_subplots\n",
    "\n",
    "class OptimizationPlot:\n",
    "    def __init__(self, name, bins, target, max_time=1.0):\n",
    "        self._error = []\n",
    "        self._bins = bins\n",
    "        self._max_time = max_time\n",
    "        \n",
    "        X = np.linspace(0, len(self._bins), target.shape[1])\n",
    "        Y = np.linspace(0, self._max_time, target.shape[0])\n",
    "        X, Y = np.meshgrid(X, Y)\n",
    "    \n",
    "        self._fig = go.FigureWidget(make_subplots(rows=1, cols=2, subplot_titles=(\"Spectogram\", \"Error\"), specs=[[{\"type\": \"surface\"}, {\"type\": \"scatter\"}]]))\n",
    "    \n",
    "        self._fig.update_layout(\n",
    "            title=name, \n",
    "            scene_aspectmode='cube', \n",
    "            scene = dict(\n",
    "                xaxis_title='Frequency [Hz]', \n",
    "                yaxis_title='Time [s]', \n",
    "                zaxis_title='Energy',\n",
    "                xaxis = dict(\n",
    "                    ticktext= [f\"{343 / bins[i]:.0f}Hz\" for i in range(len(bins))],\n",
    "                    tickvals= bins\n",
    "                ),\n",
    "            ),\n",
    "            scene_camera =dict(eye=dict(x=2, y=2, z=1)),\n",
    "            autosize=False,\n",
    "            width=1600,\n",
    "            height=800\n",
    "        )\n",
    "\n",
    "        self._fig.add_surface(row=1, col=1, showscale=False, name=\"current\")\n",
    "        self._fig.add_surface(row=1, col=1, showscale=False, opacity=0.2, colorscale=['blue', 'blue'], name=\"target\")\n",
    "        self._fig.add_scatter(row=1, col=2)\n",
    "                \n",
    "        self._fig.data[0].x = X\n",
    "        self._fig.data[0].y = Y\n",
    "        self._fig.data[1].x = X\n",
    "        self._fig.data[1].y = Y\n",
    "        self._fig.data[1].z = target\n",
    "\n",
    "    def plot_optimization_state(self, current, err_ref):\n",
    "        self._error.append(err_ref)\n",
    "        self._fig.data[0].z = current\n",
    "\n",
    "        self._fig.data[2].y = self._error\n",
    "        \n",
    "        time.sleep(0.1)\n",
    "\n",
    "    @property\n",
    "    def error(self):\n",
    "        return self._error\n",
    "    \n",
    "    def show(self):\n",
    "        return self._fig"
   ]
  },
  {
   "cell_type": "code",
   "execution_count": 6,
   "metadata": {},
   "outputs": [
    {
     "data": {
      "application/vnd.jupyter.widget-view+json": {
       "model_id": "2439b21cc19045119ccdc196ed4dd2ee",
       "version_major": 2,
       "version_minor": 0
      },
      "text/plain": [
       "FigureWidget({\n",
       "    'data': [{'name': 'current',\n",
       "              'scene': 'scene',\n",
       "              'showscale': Fal…"
      ]
     },
     "metadata": {},
     "output_type": "display_data"
    }
   ],
   "source": [
    "iterations = 1000\n",
    "\n",
    "def mse(a, b):\n",
    "    return ek.hsum(ek.sqr(a - b)) / len(a)\n",
    "\n",
    "for p in diff_params:\n",
    "    params[p] = [0.1] * len(bins)\n",
    "\n",
    "# Construct an optimizer that will adjust the parameters 'params'\n",
    "from mitsuba.python.autodiff import Adam, SGD\n",
    "opt = SGD(params, lr=.2)\n",
    "\n",
    "opt_plot = OptimizationPlot(\"Optimize multiple surfaces\", config['bins'], np_hist_ref, config['max_time'])\n",
    "opt_plot.show()"
   ]
  },
  {
   "cell_type": "code",
   "execution_count": 7,
   "metadata": {},
   "outputs": [
    {
     "data": {
      "application/vnd.jupyter.widget-view+json": {
       "model_id": "3ebebd83679e436a88e5a8e9fcfdb4bc",
       "version_major": 2,
       "version_minor": 0
      },
      "text/plain": [
       "iterations:   0%|          | 0/1000 [00:00<?, ?it/s]"
      ]
     },
     "metadata": {},
     "output_type": "display_data"
    }
   ],
   "source": [
    "pbar = tqdm(range(iterations), desc='iterations')\n",
    "\n",
    "for it in pbar:\n",
    "    # Perform a differentiable rendering of the scene\n",
    "    hist = render(scene, optimizer=opt, unbiased=False, spp=None)\n",
    "\n",
    "    np_hist = get_vals(hist, size, copy=True)\n",
    "\n",
    "    # Objective: MSE between 'hist' and 'hist_ref'\n",
    "    ob_val = mse(hist, hist_ref)\n",
    "\n",
    "    # Back-propagate errors to input parameters\n",
    "    ek.backward(ob_val)\n",
    "\n",
    "    # Optimizer: take a gradient step\n",
    "    opt.step()\n",
    "\n",
    "    # Compute error\n",
    "    \n",
    "    err_ref = np.sum([np.square(param_refs[p] - params[p]) for p in diff_params])\n",
    "    \n",
    "    pbar.set_postfix({f'abs{i}': params[p] for i, p in enumerate(diff_params)})\n",
    "\n",
    "    # Plot progress\n",
    "    opt_plot.plot_optimization_state(np_hist, err_ref)"
   ]
  },
  {
   "cell_type": "code",
   "execution_count": 8,
   "metadata": {},
   "outputs": [
    {
     "name": "stdout",
     "output_type": "stream",
     "text": [
      "AcousticBSDF.absorption.values\n",
      "[0.941545 0.103754 0.247477]\n",
      "[0.700000 0.060000 0.200000]\n",
      "\n",
      "AcousticBSDF_1.absorption.values\n",
      "[0.529848 0.316147 0.666312]\n",
      "[0.800000 0.400000 0.700000]\n",
      "\n",
      "AcousticBSDF_2.absorption.values\n",
      "[0.144614 0.011024 0.090471]\n",
      "[0.800000 0.080000 0.250000]\n",
      "\n"
     ]
    }
   ],
   "source": [
    "for p in diff_params:\n",
    "    print(p)\n",
    "    print(np.array2string(np.array(params[p]), formatter={'float_kind':lambda x: \"%.6f\" % x}))\n",
    "    print(np.array2string(np.array(param_refs[p][0]), formatter={'float_kind':lambda x: \"%.6f\" % x}))\n",
    "    print(\"\")"
   ]
  }
 ],
 "metadata": {
  "kernelspec": {
   "display_name": "Python 3",
   "language": "python",
   "name": "python3"
  },
  "language_info": {
   "codemirror_mode": {
    "name": "ipython",
    "version": 3
   },
   "file_extension": ".py",
   "mimetype": "text/x-python",
   "name": "python",
   "nbconvert_exporter": "python",
   "pygments_lexer": "ipython3",
   "version": "3.8.10"
  }
 },
 "nbformat": 4,
 "nbformat_minor": 4
}
